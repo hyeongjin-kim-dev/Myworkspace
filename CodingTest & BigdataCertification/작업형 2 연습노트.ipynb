{
 "cells": [
  {
   "cell_type": "markdown",
   "id": "f97546b6",
   "metadata": {},
   "source": [
    "# 수질 음용성 여부 예측"
   ]
  },
  {
   "cell_type": "code",
   "execution_count": 413,
   "id": "ea29cce2",
   "metadata": {},
   "outputs": [
    {
     "data": {
      "text/html": [
       "<div>\n",
       "<style scoped>\n",
       "    .dataframe tbody tr th:only-of-type {\n",
       "        vertical-align: middle;\n",
       "    }\n",
       "\n",
       "    .dataframe tbody tr th {\n",
       "        vertical-align: top;\n",
       "    }\n",
       "\n",
       "    .dataframe thead th {\n",
       "        text-align: right;\n",
       "    }\n",
       "</style>\n",
       "<table border=\"1\" class=\"dataframe\">\n",
       "  <thead>\n",
       "    <tr style=\"text-align: right;\">\n",
       "      <th></th>\n",
       "      <th>ID</th>\n",
       "      <th>ph</th>\n",
       "      <th>Hardness</th>\n",
       "      <th>Solids</th>\n",
       "      <th>Chloramines</th>\n",
       "      <th>Sulfate</th>\n",
       "      <th>Conductivity</th>\n",
       "      <th>Organic_carbon</th>\n",
       "      <th>Trihalomethanes</th>\n",
       "      <th>Turbidity</th>\n",
       "    </tr>\n",
       "  </thead>\n",
       "  <tbody>\n",
       "    <tr>\n",
       "      <th>0</th>\n",
       "      <td>0</td>\n",
       "      <td>8.662710</td>\n",
       "      <td>173.531947</td>\n",
       "      <td>20333.079495</td>\n",
       "      <td>5.636388</td>\n",
       "      <td>439.787938</td>\n",
       "      <td>459.633120</td>\n",
       "      <td>16.283311</td>\n",
       "      <td>89.924253</td>\n",
       "      <td>5.120103</td>\n",
       "    </tr>\n",
       "    <tr>\n",
       "      <th>1</th>\n",
       "      <td>1</td>\n",
       "      <td>NaN</td>\n",
       "      <td>226.270824</td>\n",
       "      <td>15380.124079</td>\n",
       "      <td>6.661474</td>\n",
       "      <td>NaN</td>\n",
       "      <td>392.558205</td>\n",
       "      <td>14.083110</td>\n",
       "      <td>50.286395</td>\n",
       "      <td>4.516870</td>\n",
       "    </tr>\n",
       "    <tr>\n",
       "      <th>2</th>\n",
       "      <td>2</td>\n",
       "      <td>7.583770</td>\n",
       "      <td>217.283262</td>\n",
       "      <td>36343.407055</td>\n",
       "      <td>8.532726</td>\n",
       "      <td>375.964391</td>\n",
       "      <td>393.877683</td>\n",
       "      <td>17.442301</td>\n",
       "      <td>77.722257</td>\n",
       "      <td>3.642289</td>\n",
       "    </tr>\n",
       "    <tr>\n",
       "      <th>3</th>\n",
       "      <td>3</td>\n",
       "      <td>6.584813</td>\n",
       "      <td>182.375456</td>\n",
       "      <td>24723.106296</td>\n",
       "      <td>6.238920</td>\n",
       "      <td>NaN</td>\n",
       "      <td>414.350751</td>\n",
       "      <td>17.582615</td>\n",
       "      <td>78.213738</td>\n",
       "      <td>4.404132</td>\n",
       "    </tr>\n",
       "    <tr>\n",
       "      <th>4</th>\n",
       "      <td>4</td>\n",
       "      <td>7.179864</td>\n",
       "      <td>180.854211</td>\n",
       "      <td>10859.553752</td>\n",
       "      <td>8.263503</td>\n",
       "      <td>341.302486</td>\n",
       "      <td>358.056264</td>\n",
       "      <td>12.065317</td>\n",
       "      <td>83.329918</td>\n",
       "      <td>3.878447</td>\n",
       "    </tr>\n",
       "  </tbody>\n",
       "</table>\n",
       "</div>"
      ],
      "text/plain": [
       "   ID        ph    Hardness        Solids  Chloramines     Sulfate  \\\n",
       "0   0  8.662710  173.531947  20333.079495     5.636388  439.787938   \n",
       "1   1       NaN  226.270824  15380.124079     6.661474         NaN   \n",
       "2   2  7.583770  217.283262  36343.407055     8.532726  375.964391   \n",
       "3   3  6.584813  182.375456  24723.106296     6.238920         NaN   \n",
       "4   4  7.179864  180.854211  10859.553752     8.263503  341.302486   \n",
       "\n",
       "   Conductivity  Organic_carbon  Trihalomethanes  Turbidity  \n",
       "0    459.633120       16.283311        89.924253   5.120103  \n",
       "1    392.558205       14.083110        50.286395   4.516870  \n",
       "2    393.877683       17.442301        77.722257   3.642289  \n",
       "3    414.350751       17.582615        78.213738   4.404132  \n",
       "4    358.056264       12.065317        83.329918   3.878447  "
      ]
     },
     "metadata": {},
     "output_type": "display_data"
    },
    {
     "data": {
      "text/html": [
       "<div>\n",
       "<style scoped>\n",
       "    .dataframe tbody tr th:only-of-type {\n",
       "        vertical-align: middle;\n",
       "    }\n",
       "\n",
       "    .dataframe tbody tr th {\n",
       "        vertical-align: top;\n",
       "    }\n",
       "\n",
       "    .dataframe thead th {\n",
       "        text-align: right;\n",
       "    }\n",
       "</style>\n",
       "<table border=\"1\" class=\"dataframe\">\n",
       "  <thead>\n",
       "    <tr style=\"text-align: right;\">\n",
       "      <th></th>\n",
       "      <th>ID</th>\n",
       "      <th>Potability</th>\n",
       "    </tr>\n",
       "  </thead>\n",
       "  <tbody>\n",
       "    <tr>\n",
       "      <th>0</th>\n",
       "      <td>0</td>\n",
       "      <td>0</td>\n",
       "    </tr>\n",
       "    <tr>\n",
       "      <th>1</th>\n",
       "      <td>1</td>\n",
       "      <td>1</td>\n",
       "    </tr>\n",
       "    <tr>\n",
       "      <th>2</th>\n",
       "      <td>2</td>\n",
       "      <td>0</td>\n",
       "    </tr>\n",
       "    <tr>\n",
       "      <th>3</th>\n",
       "      <td>3</td>\n",
       "      <td>0</td>\n",
       "    </tr>\n",
       "    <tr>\n",
       "      <th>4</th>\n",
       "      <td>4</td>\n",
       "      <td>0</td>\n",
       "    </tr>\n",
       "  </tbody>\n",
       "</table>\n",
       "</div>"
      ],
      "text/plain": [
       "   ID  Potability\n",
       "0   0           0\n",
       "1   1           1\n",
       "2   2           0\n",
       "3   3           0\n",
       "4   4           0"
      ]
     },
     "metadata": {},
     "output_type": "display_data"
    }
   ],
   "source": [
    "import pandas as pd\n",
    "#데이터 로드\n",
    "x_train = pd.read_csv(\"https://raw.githubusercontent.com/Datamanim/datarepo/main/waters/x_train.csv\")\n",
    "y_train = pd.read_csv(\"https://raw.githubusercontent.com/Datamanim/datarepo/main/waters/y_train.csv\")\n",
    "x_test= pd.read_csv(\"https://raw.githubusercontent.com/Datamanim/datarepo/main/waters/x_test.csv\")\n",
    "\n",
    "\n",
    "display(x_train.head())\n",
    "display(y_train.head())"
   ]
  },
  {
   "cell_type": "code",
   "execution_count": 414,
   "id": "98b88d90",
   "metadata": {},
   "outputs": [
    {
     "name": "stdout",
     "output_type": "stream",
     "text": [
      "<class 'pandas.core.frame.DataFrame'>\n",
      "RangeIndex: 2620 entries, 0 to 2619\n",
      "Data columns (total 10 columns):\n",
      " #   Column           Non-Null Count  Dtype  \n",
      "---  ------           --------------  -----  \n",
      " 0   ID               2620 non-null   int64  \n",
      " 1   ph               2225 non-null   float64\n",
      " 2   Hardness         2620 non-null   float64\n",
      " 3   Solids           2620 non-null   float64\n",
      " 4   Chloramines      2620 non-null   float64\n",
      " 5   Sulfate          2003 non-null   float64\n",
      " 6   Conductivity     2620 non-null   float64\n",
      " 7   Organic_carbon   2620 non-null   float64\n",
      " 8   Trihalomethanes  2488 non-null   float64\n",
      " 9   Turbidity        2620 non-null   float64\n",
      "dtypes: float64(9), int64(1)\n",
      "memory usage: 204.8 KB\n"
     ]
    }
   ],
   "source": [
    "x_train.info()"
   ]
  },
  {
   "cell_type": "code",
   "execution_count": 415,
   "id": "77b2334e",
   "metadata": {},
   "outputs": [
    {
     "name": "stdout",
     "output_type": "stream",
     "text": [
      "ID의 NULL 값 여부 확인 : \n",
      "0\n",
      "--------------------------------------------------------------------------------\n",
      "ph의 NULL 값 여부 확인 : \n",
      "395\n",
      "--------------------------------------------------------------------------------\n",
      "Hardness의 NULL 값 여부 확인 : \n",
      "0\n",
      "--------------------------------------------------------------------------------\n",
      "Solids의 NULL 값 여부 확인 : \n",
      "0\n",
      "--------------------------------------------------------------------------------\n",
      "Chloramines의 NULL 값 여부 확인 : \n",
      "0\n",
      "--------------------------------------------------------------------------------\n",
      "Sulfate의 NULL 값 여부 확인 : \n",
      "617\n",
      "--------------------------------------------------------------------------------\n",
      "Conductivity의 NULL 값 여부 확인 : \n",
      "0\n",
      "--------------------------------------------------------------------------------\n",
      "Organic_carbon의 NULL 값 여부 확인 : \n",
      "0\n",
      "--------------------------------------------------------------------------------\n",
      "Trihalomethanes의 NULL 값 여부 확인 : \n",
      "132\n",
      "--------------------------------------------------------------------------------\n",
      "Turbidity의 NULL 값 여부 확인 : \n",
      "0\n",
      "--------------------------------------------------------------------------------\n"
     ]
    }
   ],
   "source": [
    "for col in x_train.columns:\n",
    "    print(f'{col}의 NULL 값 여부 확인 : \\n{x_train[col].isnull().sum()}')\n",
    "    print('-'*80)"
   ]
  },
  {
   "cell_type": "code",
   "execution_count": 416,
   "id": "43770720",
   "metadata": {},
   "outputs": [
    {
     "name": "stdout",
     "output_type": "stream",
     "text": [
      "ID의 NULL 값 여부 확인 : \n",
      "0\n",
      "--------------------------------------------------------------------------------\n",
      "ph의 NULL 값 여부 확인 : \n",
      "107\n",
      "--------------------------------------------------------------------------------\n",
      "Hardness의 NULL 값 여부 확인 : \n",
      "0\n",
      "--------------------------------------------------------------------------------\n",
      "Solids의 NULL 값 여부 확인 : \n",
      "0\n",
      "--------------------------------------------------------------------------------\n",
      "Chloramines의 NULL 값 여부 확인 : \n",
      "0\n",
      "--------------------------------------------------------------------------------\n",
      "Sulfate의 NULL 값 여부 확인 : \n",
      "152\n",
      "--------------------------------------------------------------------------------\n",
      "Conductivity의 NULL 값 여부 확인 : \n",
      "0\n",
      "--------------------------------------------------------------------------------\n",
      "Organic_carbon의 NULL 값 여부 확인 : \n",
      "0\n",
      "--------------------------------------------------------------------------------\n",
      "Trihalomethanes의 NULL 값 여부 확인 : \n",
      "38\n",
      "--------------------------------------------------------------------------------\n",
      "Turbidity의 NULL 값 여부 확인 : \n",
      "0\n",
      "--------------------------------------------------------------------------------\n"
     ]
    }
   ],
   "source": [
    "for col in x_test.columns:\n",
    "    print(f'{col}의 NULL 값 여부 확인 : \\n{x_test[col].isnull().sum()}')\n",
    "    print('-'*80)"
   ]
  },
  {
   "cell_type": "code",
   "execution_count": 417,
   "id": "007d9869",
   "metadata": {},
   "outputs": [
    {
     "data": {
      "text/html": [
       "<div>\n",
       "<style scoped>\n",
       "    .dataframe tbody tr th:only-of-type {\n",
       "        vertical-align: middle;\n",
       "    }\n",
       "\n",
       "    .dataframe tbody tr th {\n",
       "        vertical-align: top;\n",
       "    }\n",
       "\n",
       "    .dataframe thead th {\n",
       "        text-align: right;\n",
       "    }\n",
       "</style>\n",
       "<table border=\"1\" class=\"dataframe\">\n",
       "  <thead>\n",
       "    <tr style=\"text-align: right;\">\n",
       "      <th></th>\n",
       "      <th>ID</th>\n",
       "      <th>ph</th>\n",
       "      <th>Hardness</th>\n",
       "      <th>Solids</th>\n",
       "      <th>Chloramines</th>\n",
       "      <th>Sulfate</th>\n",
       "      <th>Conductivity</th>\n",
       "      <th>Organic_carbon</th>\n",
       "      <th>Trihalomethanes</th>\n",
       "      <th>Turbidity</th>\n",
       "    </tr>\n",
       "  </thead>\n",
       "  <tbody>\n",
       "    <tr>\n",
       "      <th>count</th>\n",
       "      <td>2620.000000</td>\n",
       "      <td>2225.000000</td>\n",
       "      <td>2620.000000</td>\n",
       "      <td>2620.000000</td>\n",
       "      <td>2620.000000</td>\n",
       "      <td>2003.000000</td>\n",
       "      <td>2620.000000</td>\n",
       "      <td>2620.000000</td>\n",
       "      <td>2488.000000</td>\n",
       "      <td>2620.000000</td>\n",
       "    </tr>\n",
       "    <tr>\n",
       "      <th>mean</th>\n",
       "      <td>1625.172901</td>\n",
       "      <td>7.059707</td>\n",
       "      <td>196.264418</td>\n",
       "      <td>22093.718726</td>\n",
       "      <td>7.128428</td>\n",
       "      <td>333.128452</td>\n",
       "      <td>426.860672</td>\n",
       "      <td>14.255754</td>\n",
       "      <td>66.362313</td>\n",
       "      <td>3.973541</td>\n",
       "    </tr>\n",
       "    <tr>\n",
       "      <th>std</th>\n",
       "      <td>943.704162</td>\n",
       "      <td>1.608470</td>\n",
       "      <td>33.367043</td>\n",
       "      <td>8840.992109</td>\n",
       "      <td>1.589347</td>\n",
       "      <td>41.675257</td>\n",
       "      <td>81.005322</td>\n",
       "      <td>3.335463</td>\n",
       "      <td>16.176955</td>\n",
       "      <td>0.776490</td>\n",
       "    </tr>\n",
       "    <tr>\n",
       "      <th>min</th>\n",
       "      <td>0.000000</td>\n",
       "      <td>0.000000</td>\n",
       "      <td>47.432000</td>\n",
       "      <td>728.750830</td>\n",
       "      <td>0.352000</td>\n",
       "      <td>129.000000</td>\n",
       "      <td>181.483754</td>\n",
       "      <td>2.200000</td>\n",
       "      <td>0.738000</td>\n",
       "      <td>1.450000</td>\n",
       "    </tr>\n",
       "    <tr>\n",
       "      <th>25%</th>\n",
       "      <td>810.750000</td>\n",
       "      <td>6.069364</td>\n",
       "      <td>176.676887</td>\n",
       "      <td>15675.546419</td>\n",
       "      <td>6.133588</td>\n",
       "      <td>307.592458</td>\n",
       "      <td>366.706407</td>\n",
       "      <td>12.053075</td>\n",
       "      <td>55.614198</td>\n",
       "      <td>3.439540</td>\n",
       "    </tr>\n",
       "    <tr>\n",
       "      <th>50%</th>\n",
       "      <td>1614.500000</td>\n",
       "      <td>7.025504</td>\n",
       "      <td>197.103467</td>\n",
       "      <td>20972.316194</td>\n",
       "      <td>7.145240</td>\n",
       "      <td>332.239359</td>\n",
       "      <td>422.145751</td>\n",
       "      <td>14.207656</td>\n",
       "      <td>66.363580</td>\n",
       "      <td>3.969391</td>\n",
       "    </tr>\n",
       "    <tr>\n",
       "      <th>75%</th>\n",
       "      <td>2443.250000</td>\n",
       "      <td>8.064653</td>\n",
       "      <td>217.024476</td>\n",
       "      <td>27410.099280</td>\n",
       "      <td>8.124300</td>\n",
       "      <td>358.967592</td>\n",
       "      <td>482.843561</td>\n",
       "      <td>16.509051</td>\n",
       "      <td>77.517441</td>\n",
       "      <td>4.514376</td>\n",
       "    </tr>\n",
       "    <tr>\n",
       "      <th>max</th>\n",
       "      <td>3275.000000</td>\n",
       "      <td>14.000000</td>\n",
       "      <td>317.338124</td>\n",
       "      <td>61227.196008</td>\n",
       "      <td>13.043806</td>\n",
       "      <td>481.030642</td>\n",
       "      <td>753.342620</td>\n",
       "      <td>28.300000</td>\n",
       "      <td>120.030077</td>\n",
       "      <td>6.357439</td>\n",
       "    </tr>\n",
       "  </tbody>\n",
       "</table>\n",
       "</div>"
      ],
      "text/plain": [
       "                ID           ph     Hardness        Solids  Chloramines  \\\n",
       "count  2620.000000  2225.000000  2620.000000   2620.000000  2620.000000   \n",
       "mean   1625.172901     7.059707   196.264418  22093.718726     7.128428   \n",
       "std     943.704162     1.608470    33.367043   8840.992109     1.589347   \n",
       "min       0.000000     0.000000    47.432000    728.750830     0.352000   \n",
       "25%     810.750000     6.069364   176.676887  15675.546419     6.133588   \n",
       "50%    1614.500000     7.025504   197.103467  20972.316194     7.145240   \n",
       "75%    2443.250000     8.064653   217.024476  27410.099280     8.124300   \n",
       "max    3275.000000    14.000000   317.338124  61227.196008    13.043806   \n",
       "\n",
       "           Sulfate  Conductivity  Organic_carbon  Trihalomethanes    Turbidity  \n",
       "count  2003.000000   2620.000000     2620.000000      2488.000000  2620.000000  \n",
       "mean    333.128452    426.860672       14.255754        66.362313     3.973541  \n",
       "std      41.675257     81.005322        3.335463        16.176955     0.776490  \n",
       "min     129.000000    181.483754        2.200000         0.738000     1.450000  \n",
       "25%     307.592458    366.706407       12.053075        55.614198     3.439540  \n",
       "50%     332.239359    422.145751       14.207656        66.363580     3.969391  \n",
       "75%     358.967592    482.843561       16.509051        77.517441     4.514376  \n",
       "max     481.030642    753.342620       28.300000       120.030077     6.357439  "
      ]
     },
     "execution_count": 417,
     "metadata": {},
     "output_type": "execute_result"
    }
   ],
   "source": [
    "x_train.describe()"
   ]
  },
  {
   "cell_type": "code",
   "execution_count": 418,
   "id": "b21fbc69",
   "metadata": {},
   "outputs": [],
   "source": [
    "x_train['ph'] = x_train['ph'].fillna(x_train['ph'].mean())\n",
    "x_train['Sulfate'] = x_train['Sulfate'].fillna(x_train['Sulfate'].mean())\n",
    "x_train['Trihalomethanes'] = x_train['Trihalomethanes'].fillna(x_train['Trihalomethanes'].mean())\n",
    "\n",
    "x_test['ph'] = x_test['ph'].fillna(x_test['ph'].mean())\n",
    "x_test['Sulfate'] = x_test['Sulfate'].fillna(x_test['Sulfate'].mean())\n",
    "x_test['Trihalomethanes'] = x_test['Trihalomethanes'].fillna(x_test['Trihalomethanes'].mean())"
   ]
  },
  {
   "cell_type": "code",
   "execution_count": 419,
   "id": "73a4c2a5",
   "metadata": {},
   "outputs": [],
   "source": [
    "y = y_train['Potability']\n",
    "x_train.drop('ID',axis=1,inplace=True)\n",
    "x_test_id = x_test.pop('ID')"
   ]
  },
  {
   "cell_type": "code",
   "execution_count": 420,
   "id": "c64680dd",
   "metadata": {},
   "outputs": [],
   "source": [
    "from sklearn.preprocessing import StandardScaler\n",
    "scaler = StandardScaler()\n",
    "\n",
    "x_train = scaler.fit_transform(x_train)\n",
    "x_test = scaler.fit_transform(x_test)"
   ]
  },
  {
   "cell_type": "code",
   "execution_count": 421,
   "id": "24bf5a48",
   "metadata": {},
   "outputs": [],
   "source": [
    "from sklearn.model_selection import train_test_split\n",
    "x_tr,x_te,y_tr,y_te = train_test_split(x_train,y, test_size=0.1)"
   ]
  },
  {
   "cell_type": "code",
   "execution_count": 429,
   "id": "037dfd2a",
   "metadata": {},
   "outputs": [
    {
     "data": {
      "text/plain": [
       "0.7909245122985581"
      ]
     },
     "execution_count": 429,
     "metadata": {},
     "output_type": "execute_result"
    }
   ],
   "source": [
    "from sklearn.ensemble import RandomForestClassifier\n",
    "\n",
    "model_rf = RandomForestClassifier(n_estimators = 100, \n",
    "                                max_depth = 12,\n",
    "                                min_samples_leaf = 8,\n",
    "                                min_samples_split = 8,\n",
    "                                random_state = 0,\n",
    "                                n_jobs = -1)\n",
    "model_rf.fit(x_tr,y_tr)\n",
    "pred_rf = model_rf.predict(x_te)\n",
    "model_rf.score(x_tr,y_tr)"
   ]
  },
  {
   "cell_type": "code",
   "execution_count": 438,
   "id": "00ff8b63",
   "metadata": {},
   "outputs": [
    {
     "name": "stdout",
     "output_type": "stream",
     "text": [
      "[17:55:12] WARNING: C:/Users/administrator/workspace/xgboost-win64_release_1.6.0/src/learner.cc:627: \n",
      "Parameters: { \"early_stoppings\" } might not be used.\n",
      "\n",
      "  This could be a false alarm, with some parameters getting used by language bindings but\n",
      "  then being mistakenly passed down to XGBoost core, or some parameter actually being used\n",
      "  but getting flagged wrongly here. Please open an issue if you find any such cases.\n",
      "\n",
      "\n"
     ]
    },
    {
     "data": {
      "text/plain": [
       "0.73960983884648"
      ]
     },
     "execution_count": 438,
     "metadata": {},
     "output_type": "execute_result"
    }
   ],
   "source": [
    "from xgboost import XGBClassifier\n",
    "model_xgb = XGBClassifier(max_depth = 3,\n",
    "                          eta = 0.1, \n",
    "                          objective = 'binary:logistic',\n",
    "                          eval_metric = 'logloss',\n",
    "                          early_stoppings = 100 )\n",
    "model_xgb.fit(x_tr,y_tr)\n",
    "pred_xgb = model_xgb.predict(x_te)\n",
    "model_xgb.score(x_tr,y_tr)\n",
    "# help(XGBClassifier())"
   ]
  },
  {
   "cell_type": "code",
   "execution_count": 451,
   "id": "71d26e90",
   "metadata": {},
   "outputs": [
    {
     "data": {
      "text/plain": [
       "0.7298558100084818"
      ]
     },
     "execution_count": 451,
     "metadata": {},
     "output_type": "execute_result"
    }
   ],
   "source": [
    "from sklearn.svm import SVC\n",
    "model_svc = SVC()\n",
    "model_svc.fit(x_tr,y_tr)\n",
    "pred_svc = model_svc.predict(x_te)\n",
    "model_svc.score(x_tr,y_tr)"
   ]
  },
  {
   "cell_type": "code",
   "execution_count": 440,
   "id": "bdf47b99",
   "metadata": {},
   "outputs": [
    {
     "data": {
      "text/plain": [
       "0.7332485156912638"
      ]
     },
     "execution_count": 440,
     "metadata": {},
     "output_type": "execute_result"
    }
   ],
   "source": [
    "from sklearn.tree import DecisionTreeClassifier\n",
    "model_dc = DecisionTreeClassifier(max_depth=10)\n",
    "model_dc.fit(x_tr,y_tr)\n",
    "pred_dc = model_dc.predict(x_te)\n",
    "model_dc.score(x_tr,y_tr)\n",
    "# help(DecisionTreeClassifier())"
   ]
  },
  {
   "cell_type": "code",
   "execution_count": 441,
   "id": "7f6d147d",
   "metadata": {},
   "outputs": [
    {
     "data": {
      "text/plain": [
       "0.6136556403731976"
      ]
     },
     "execution_count": 441,
     "metadata": {},
     "output_type": "execute_result"
    }
   ],
   "source": [
    "from sklearn.linear_model import LogisticRegression\n",
    "model_lr = LogisticRegression()\n",
    "model_lr.fit(x_tr,y_tr)\n",
    "pred_lr = model_lr.predict(x_te)\n",
    "model_lr.score(x_tr,y_tr)"
   ]
  },
  {
   "cell_type": "code",
   "execution_count": 452,
   "id": "9648cf41",
   "metadata": {},
   "outputs": [
    {
     "name": "stdout",
     "output_type": "stream",
     "text": [
      "              precision    recall  f1-score   support\n",
      "\n",
      "           0       0.63      0.94      0.76       155\n",
      "           1       0.71      0.21      0.32       107\n",
      "\n",
      "    accuracy                           0.64       262\n",
      "   macro avg       0.67      0.57      0.54       262\n",
      "weighted avg       0.66      0.64      0.58       262\n",
      "\n",
      "--------------------------------------------------------------------------------\n",
      "              precision    recall  f1-score   support\n",
      "\n",
      "           0       0.64      0.93      0.76       155\n",
      "           1       0.69      0.23      0.35       107\n",
      "\n",
      "    accuracy                           0.65       262\n",
      "   macro avg       0.67      0.58      0.55       262\n",
      "weighted avg       0.66      0.65      0.59       262\n",
      "\n",
      "--------------------------------------------------------------------------------\n",
      "              precision    recall  f1-score   support\n",
      "\n",
      "           0       0.66      0.94      0.77       155\n",
      "           1       0.76      0.30      0.43       107\n",
      "\n",
      "    accuracy                           0.68       262\n",
      "   macro avg       0.71      0.62      0.60       262\n",
      "weighted avg       0.70      0.68      0.63       262\n",
      "\n",
      "--------------------------------------------------------------------------------\n",
      "              precision    recall  f1-score   support\n",
      "\n",
      "           0       0.63      0.78      0.70       155\n",
      "           1       0.52      0.35      0.42       107\n",
      "\n",
      "    accuracy                           0.60       262\n",
      "   macro avg       0.58      0.56      0.56       262\n",
      "weighted avg       0.59      0.60      0.58       262\n",
      "\n",
      "--------------------------------------------------------------------------------\n",
      "              precision    recall  f1-score   support\n",
      "\n",
      "           0       0.59      1.00      0.74       155\n",
      "           1       0.00      0.00      0.00       107\n",
      "\n",
      "    accuracy                           0.59       262\n",
      "   macro avg       0.30      0.50      0.37       262\n",
      "weighted avg       0.35      0.59      0.44       262\n",
      "\n"
     ]
    },
    {
     "name": "stderr",
     "output_type": "stream",
     "text": [
      "C:\\Users\\SuperUser\\anaconda3\\lib\\site-packages\\sklearn\\metrics\\_classification.py:1318: UndefinedMetricWarning: Precision and F-score are ill-defined and being set to 0.0 in labels with no predicted samples. Use `zero_division` parameter to control this behavior.\n",
      "  _warn_prf(average, modifier, msg_start, len(result))\n",
      "C:\\Users\\SuperUser\\anaconda3\\lib\\site-packages\\sklearn\\metrics\\_classification.py:1318: UndefinedMetricWarning: Precision and F-score are ill-defined and being set to 0.0 in labels with no predicted samples. Use `zero_division` parameter to control this behavior.\n",
      "  _warn_prf(average, modifier, msg_start, len(result))\n",
      "C:\\Users\\SuperUser\\anaconda3\\lib\\site-packages\\sklearn\\metrics\\_classification.py:1318: UndefinedMetricWarning: Precision and F-score are ill-defined and being set to 0.0 in labels with no predicted samples. Use `zero_division` parameter to control this behavior.\n",
      "  _warn_prf(average, modifier, msg_start, len(result))\n"
     ]
    }
   ],
   "source": [
    "from sklearn.metrics import classification_report\n",
    "\n",
    "score_rf =classification_report(y_te,pred_rf)\n",
    "score_xgb = classification_report(y_te,pred_xgb)\n",
    "score_svc = classification_report(y_te,pred_svc)\n",
    "score_dc = classification_report(y_te,pred_dc)\n",
    "score_lr = classification_report(y_te,pred_lr)\n",
    "print(score_rf)\n",
    "print('-'*80)\n",
    "print(score_xgb)\n",
    "print('-'*80)\n",
    "print(score_svc)\n",
    "print('-'*80)\n",
    "print(score_dc)\n",
    "print('-'*80)\n",
    "print(score_lr)"
   ]
  },
  {
   "cell_type": "code",
   "execution_count": 79,
   "id": "4bbcb6d4",
   "metadata": {},
   "outputs": [
    {
     "data": {
      "text/html": [
       "<div>\n",
       "<style scoped>\n",
       "    .dataframe tbody tr th:only-of-type {\n",
       "        vertical-align: middle;\n",
       "    }\n",
       "\n",
       "    .dataframe tbody tr th {\n",
       "        vertical-align: top;\n",
       "    }\n",
       "\n",
       "    .dataframe thead th {\n",
       "        text-align: right;\n",
       "    }\n",
       "</style>\n",
       "<table border=\"1\" class=\"dataframe\">\n",
       "  <thead>\n",
       "    <tr style=\"text-align: right;\">\n",
       "      <th></th>\n",
       "      <th>ID</th>\n",
       "      <th>Potability</th>\n",
       "    </tr>\n",
       "  </thead>\n",
       "  <tbody>\n",
       "    <tr>\n",
       "      <th>0</th>\n",
       "      <td>16</td>\n",
       "      <td>0</td>\n",
       "    </tr>\n",
       "    <tr>\n",
       "      <th>1</th>\n",
       "      <td>20</td>\n",
       "      <td>1</td>\n",
       "    </tr>\n",
       "    <tr>\n",
       "      <th>2</th>\n",
       "      <td>23</td>\n",
       "      <td>1</td>\n",
       "    </tr>\n",
       "    <tr>\n",
       "      <th>3</th>\n",
       "      <td>37</td>\n",
       "      <td>0</td>\n",
       "    </tr>\n",
       "    <tr>\n",
       "      <th>4</th>\n",
       "      <td>38</td>\n",
       "      <td>0</td>\n",
       "    </tr>\n",
       "  </tbody>\n",
       "</table>\n",
       "</div>"
      ],
      "text/plain": [
       "   ID  Potability\n",
       "0  16           0\n",
       "1  20           1\n",
       "2  23           1\n",
       "3  37           0\n",
       "4  38           0"
      ]
     },
     "execution_count": 79,
     "metadata": {},
     "output_type": "execute_result"
    }
   ],
   "source": [
    "final_predict = model_svc.predict(x_test)\n",
    "output = pd.DataFrame({'ID': x_test_id,'Potability': final_predict})\n",
    "output.head()"
   ]
  },
  {
   "cell_type": "markdown",
   "id": "72529211",
   "metadata": {},
   "source": [
    "# 중고차 가격 예측 데이터"
   ]
  },
  {
   "cell_type": "code",
   "execution_count": 393,
   "id": "0534ceb6",
   "metadata": {},
   "outputs": [
    {
     "data": {
      "text/html": [
       "<div>\n",
       "<style scoped>\n",
       "    .dataframe tbody tr th:only-of-type {\n",
       "        vertical-align: middle;\n",
       "    }\n",
       "\n",
       "    .dataframe tbody tr th {\n",
       "        vertical-align: top;\n",
       "    }\n",
       "\n",
       "    .dataframe thead th {\n",
       "        text-align: right;\n",
       "    }\n",
       "</style>\n",
       "<table border=\"1\" class=\"dataframe\">\n",
       "  <thead>\n",
       "    <tr style=\"text-align: right;\">\n",
       "      <th></th>\n",
       "      <th>carID</th>\n",
       "      <th>brand</th>\n",
       "      <th>model</th>\n",
       "      <th>year</th>\n",
       "      <th>transmission</th>\n",
       "      <th>mileage</th>\n",
       "      <th>fuelType</th>\n",
       "      <th>tax</th>\n",
       "      <th>mpg</th>\n",
       "      <th>engineSize</th>\n",
       "    </tr>\n",
       "  </thead>\n",
       "  <tbody>\n",
       "    <tr>\n",
       "      <th>0</th>\n",
       "      <td>13207</td>\n",
       "      <td>hyundi</td>\n",
       "      <td>Santa Fe</td>\n",
       "      <td>2019</td>\n",
       "      <td>Semi-Auto</td>\n",
       "      <td>4223</td>\n",
       "      <td>Diesel</td>\n",
       "      <td>145.0</td>\n",
       "      <td>39.8</td>\n",
       "      <td>2.2</td>\n",
       "    </tr>\n",
       "    <tr>\n",
       "      <th>1</th>\n",
       "      <td>17314</td>\n",
       "      <td>vauxhall</td>\n",
       "      <td>GTC</td>\n",
       "      <td>2015</td>\n",
       "      <td>Manual</td>\n",
       "      <td>47870</td>\n",
       "      <td>Diesel</td>\n",
       "      <td>125.0</td>\n",
       "      <td>60.1</td>\n",
       "      <td>2.0</td>\n",
       "    </tr>\n",
       "    <tr>\n",
       "      <th>2</th>\n",
       "      <td>12342</td>\n",
       "      <td>audi</td>\n",
       "      <td>RS4</td>\n",
       "      <td>2019</td>\n",
       "      <td>Automatic</td>\n",
       "      <td>5151</td>\n",
       "      <td>Petrol</td>\n",
       "      <td>145.0</td>\n",
       "      <td>29.1</td>\n",
       "      <td>2.9</td>\n",
       "    </tr>\n",
       "    <tr>\n",
       "      <th>3</th>\n",
       "      <td>13426</td>\n",
       "      <td>vw</td>\n",
       "      <td>Scirocco</td>\n",
       "      <td>2016</td>\n",
       "      <td>Automatic</td>\n",
       "      <td>20423</td>\n",
       "      <td>Diesel</td>\n",
       "      <td>30.0</td>\n",
       "      <td>57.6</td>\n",
       "      <td>2.0</td>\n",
       "    </tr>\n",
       "    <tr>\n",
       "      <th>4</th>\n",
       "      <td>16004</td>\n",
       "      <td>skoda</td>\n",
       "      <td>Scala</td>\n",
       "      <td>2020</td>\n",
       "      <td>Semi-Auto</td>\n",
       "      <td>3569</td>\n",
       "      <td>Petrol</td>\n",
       "      <td>145.0</td>\n",
       "      <td>47.1</td>\n",
       "      <td>1.0</td>\n",
       "    </tr>\n",
       "  </tbody>\n",
       "</table>\n",
       "</div>"
      ],
      "text/plain": [
       "   carID     brand      model  year transmission  mileage fuelType    tax  \\\n",
       "0  13207    hyundi   Santa Fe  2019    Semi-Auto     4223   Diesel  145.0   \n",
       "1  17314  vauxhall        GTC  2015       Manual    47870   Diesel  125.0   \n",
       "2  12342      audi        RS4  2019    Automatic     5151   Petrol  145.0   \n",
       "3  13426        vw   Scirocco  2016    Automatic    20423   Diesel   30.0   \n",
       "4  16004     skoda      Scala  2020    Semi-Auto     3569   Petrol  145.0   \n",
       "\n",
       "    mpg  engineSize  \n",
       "0  39.8         2.2  \n",
       "1  60.1         2.0  \n",
       "2  29.1         2.9  \n",
       "3  57.6         2.0  \n",
       "4  47.1         1.0  "
      ]
     },
     "metadata": {},
     "output_type": "display_data"
    },
    {
     "data": {
      "text/html": [
       "<div>\n",
       "<style scoped>\n",
       "    .dataframe tbody tr th:only-of-type {\n",
       "        vertical-align: middle;\n",
       "    }\n",
       "\n",
       "    .dataframe tbody tr th {\n",
       "        vertical-align: top;\n",
       "    }\n",
       "\n",
       "    .dataframe thead th {\n",
       "        text-align: right;\n",
       "    }\n",
       "</style>\n",
       "<table border=\"1\" class=\"dataframe\">\n",
       "  <thead>\n",
       "    <tr style=\"text-align: right;\">\n",
       "      <th></th>\n",
       "      <th>carID</th>\n",
       "      <th>price</th>\n",
       "    </tr>\n",
       "  </thead>\n",
       "  <tbody>\n",
       "    <tr>\n",
       "      <th>0</th>\n",
       "      <td>13207</td>\n",
       "      <td>31995</td>\n",
       "    </tr>\n",
       "    <tr>\n",
       "      <th>1</th>\n",
       "      <td>17314</td>\n",
       "      <td>7700</td>\n",
       "    </tr>\n",
       "    <tr>\n",
       "      <th>2</th>\n",
       "      <td>12342</td>\n",
       "      <td>58990</td>\n",
       "    </tr>\n",
       "    <tr>\n",
       "      <th>3</th>\n",
       "      <td>13426</td>\n",
       "      <td>12999</td>\n",
       "    </tr>\n",
       "    <tr>\n",
       "      <th>4</th>\n",
       "      <td>16004</td>\n",
       "      <td>16990</td>\n",
       "    </tr>\n",
       "  </tbody>\n",
       "</table>\n",
       "</div>"
      ],
      "text/plain": [
       "   carID  price\n",
       "0  13207  31995\n",
       "1  17314   7700\n",
       "2  12342  58990\n",
       "3  13426  12999\n",
       "4  16004  16990"
      ]
     },
     "metadata": {},
     "output_type": "display_data"
    }
   ],
   "source": [
    "import pandas as pd\n",
    "#데이터 로드\n",
    "x_train = pd.read_csv(\"https://raw.githubusercontent.com/Datamanim/datarepo/main/carsprice/X_train.csv\")\n",
    "y_train = pd.read_csv(\"https://raw.githubusercontent.com/Datamanim/datarepo/main/carsprice/y_train.csv\")\n",
    "x_test= pd.read_csv(\"https://raw.githubusercontent.com/Datamanim/datarepo/main/carsprice/X_test.csv\")\n",
    "\n",
    "\n",
    "display(x_train.head())\n",
    "display(y_train.head())"
   ]
  },
  {
   "cell_type": "code",
   "execution_count": 394,
   "id": "020aa2d1",
   "metadata": {},
   "outputs": [
    {
     "name": "stdout",
     "output_type": "stream",
     "text": [
      "<class 'pandas.core.frame.DataFrame'>\n",
      "RangeIndex: 4960 entries, 0 to 4959\n",
      "Data columns (total 10 columns):\n",
      " #   Column        Non-Null Count  Dtype  \n",
      "---  ------        --------------  -----  \n",
      " 0   carID         4960 non-null   int64  \n",
      " 1   brand         4960 non-null   object \n",
      " 2   model         4960 non-null   object \n",
      " 3   year          4960 non-null   int64  \n",
      " 4   transmission  4960 non-null   object \n",
      " 5   mileage       4960 non-null   int64  \n",
      " 6   fuelType      4960 non-null   object \n",
      " 7   tax           4960 non-null   float64\n",
      " 8   mpg           4960 non-null   float64\n",
      " 9   engineSize    4960 non-null   float64\n",
      "dtypes: float64(3), int64(3), object(4)\n",
      "memory usage: 387.6+ KB\n"
     ]
    }
   ],
   "source": [
    "x_train.info()"
   ]
  },
  {
   "cell_type": "code",
   "execution_count": 395,
   "id": "2541687d",
   "metadata": {},
   "outputs": [
    {
     "name": "stdout",
     "output_type": "stream",
     "text": [
      "brand의 value 값 : \n",
      " merc        790\n",
      "vw          768\n",
      "ford        766\n",
      "bmw         638\n",
      "hyundi      511\n",
      "toyota      446\n",
      "skoda       425\n",
      "audi        343\n",
      "vauxhall    273\n",
      "Name: brand, dtype: int64\n",
      "--------------------------------------------------------------------------------\n",
      "model의 value 값 : \n",
      "  Arteon         167\n",
      " Grand C-MAX    164\n",
      " Scirocco       163\n",
      " Prius          154\n",
      " Santa Fe       150\n",
      "               ... \n",
      " Eos              5\n",
      " Z3               5\n",
      " Getz             4\n",
      " CLK              4\n",
      " IQ               2\n",
      "Name: model, Length: 90, dtype: int64\n",
      "--------------------------------------------------------------------------------\n",
      "transmission의 value 값 : \n",
      " Manual       1948\n",
      "Automatic    1660\n",
      "Semi-Auto    1351\n",
      "Other           1\n",
      "Name: transmission, dtype: int64\n",
      "--------------------------------------------------------------------------------\n",
      "fuelType의 value 값 : \n",
      " Diesel      2989\n",
      "Petrol      1754\n",
      "Hybrid       189\n",
      "Other         26\n",
      "Electric       2\n",
      "Name: fuelType, dtype: int64\n",
      "--------------------------------------------------------------------------------\n"
     ]
    }
   ],
   "source": [
    "obj_col = x_train.select_dtypes(include='object').columns\n",
    "obj_col\n",
    "\n",
    "for i in obj_col:\n",
    "    print(f'{i}의 value 값 : \\n {x_train[i].value_counts()}')\n",
    "    print('-'*80)"
   ]
  },
  {
   "cell_type": "code",
   "execution_count": 396,
   "id": "e6aca5ae",
   "metadata": {},
   "outputs": [
    {
     "name": "stdout",
     "output_type": "stream",
     "text": [
      "brand의 value 값 : \n",
      " ford        430\n",
      "merc        429\n",
      "vw          391\n",
      "bmw         340\n",
      "hyundi      306\n",
      "toyota      271\n",
      "skoda       213\n",
      "audi        180\n",
      "vauxhall    112\n",
      "Name: brand, dtype: int64\n",
      "--------------------------------------------------------------------------------\n",
      "model의 value 값 : \n",
      "  Santa Fe       95\n",
      " Galaxy         93\n",
      " CLS Class      91\n",
      " Grand C-MAX    83\n",
      " Arteon         81\n",
      "                ..\n",
      " Eos             2\n",
      " Z3              2\n",
      " S4              1\n",
      " Caddy           1\n",
      " Caddy Life      1\n",
      "Name: model, Length: 89, dtype: int64\n",
      "--------------------------------------------------------------------------------\n",
      "transmission의 value 값 : \n",
      " Manual       989\n",
      "Automatic    928\n",
      "Semi-Auto    754\n",
      "Other          1\n",
      "Name: transmission, dtype: int64\n",
      "--------------------------------------------------------------------------------\n",
      "fuelType의 value 값 : \n",
      " Diesel      1662\n",
      "Petrol       901\n",
      "Hybrid        98\n",
      "Other         10\n",
      "Electric       1\n",
      "Name: fuelType, dtype: int64\n",
      "--------------------------------------------------------------------------------\n"
     ]
    }
   ],
   "source": [
    "obj_col = x_test.select_dtypes(include='object').columns\n",
    "obj_col\n",
    "\n",
    "for i in obj_col:\n",
    "    print(f'{i}의 value 값 : \\n {x_test[i].value_counts()}')\n",
    "    print('-'*80)"
   ]
  },
  {
   "cell_type": "code",
   "execution_count": 397,
   "id": "927f0809",
   "metadata": {},
   "outputs": [],
   "source": [
    "x_test_id = x_test.pop('carID')\n",
    "x_train.drop('carID',axis=1,inplace=True)\n",
    "y = y_train['price']"
   ]
  },
  {
   "cell_type": "code",
   "execution_count": 398,
   "id": "54c2a225",
   "metadata": {},
   "outputs": [],
   "source": [
    "col = ['brand','transmission','fuelType']\n",
    "x_train = pd.get_dummies(x_train,columns = col)\n",
    "x_test = pd.get_dummies(x_test,columns = col)"
   ]
  },
  {
   "cell_type": "code",
   "execution_count": 399,
   "id": "50f94d6d",
   "metadata": {},
   "outputs": [
    {
     "data": {
      "text/plain": [
       "Index(['year', 'mileage', 'tax', 'mpg', 'engineSize', 'brand_audi',\n",
       "       'brand_bmw', 'brand_ford', 'brand_hyundi', 'brand_merc', 'brand_skoda',\n",
       "       'brand_toyota', 'brand_vauxhall', 'brand_vw', 'transmission_Automatic',\n",
       "       'transmission_Manual', 'transmission_Other', 'transmission_Semi-Auto',\n",
       "       'fuelType_Diesel', 'fuelType_Electric', 'fuelType_Hybrid',\n",
       "       'fuelType_Other', 'fuelType_Petrol'],\n",
       "      dtype='object')"
      ]
     },
     "execution_count": 399,
     "metadata": {},
     "output_type": "execute_result"
    }
   ],
   "source": [
    "num_col"
   ]
  },
  {
   "cell_type": "code",
   "execution_count": 400,
   "id": "17999e06",
   "metadata": {},
   "outputs": [],
   "source": [
    "from sklearn.preprocessing import StandardScaler\n",
    "num_col = x_train.select_dtypes(exclude='object').columns\n",
    "\n",
    "scaler = StandardScaler()\n",
    "x_train = scaler.fit_transform(x_train[num_col])\n",
    "x_test = scaler.fit_transform(x_test[num_col])"
   ]
  },
  {
   "cell_type": "code",
   "execution_count": 401,
   "id": "d1a7b160",
   "metadata": {},
   "outputs": [],
   "source": [
    "from sklearn.model_selection import train_test_split\n",
    "x_tr,x_te,y_tr,y_te = train_test_split(x_train,y,test_size=0.2,random_state=2022)"
   ]
  },
  {
   "cell_type": "code",
   "execution_count": 402,
   "id": "d1844efb",
   "metadata": {},
   "outputs": [
    {
     "data": {
      "text/plain": [
       "0.9709318396470045"
      ]
     },
     "execution_count": 402,
     "metadata": {},
     "output_type": "execute_result"
    }
   ],
   "source": [
    "from xgboost import XGBRegressor\n",
    "\n",
    "model_xgb = XGBRegressor(learning_rate=0.05)\n",
    "model_xgb.fit(x_tr,y_tr)\n",
    "pred_xgb = model_xgb.predict(x_te)\n",
    "model_xgb.score(x_tr,y_tr)"
   ]
  },
  {
   "cell_type": "code",
   "execution_count": 403,
   "id": "a295d301",
   "metadata": {},
   "outputs": [
    {
     "data": {
      "text/plain": [
       "0.7164181386527304"
      ]
     },
     "execution_count": 403,
     "metadata": {},
     "output_type": "execute_result"
    }
   ],
   "source": [
    "from sklearn.linear_model import LinearRegression\n",
    "model_lr = LinearRegression()\n",
    "model_lr.fit(x_tr,y_tr)\n",
    "pred_lr = model_lr.predict(x_te)\n",
    "model_lr.score(x_tr,y_tr)"
   ]
  },
  {
   "cell_type": "code",
   "execution_count": 404,
   "id": "6136d775",
   "metadata": {},
   "outputs": [
    {
     "data": {
      "text/plain": [
       "0.9918236486525954"
      ]
     },
     "execution_count": 404,
     "metadata": {},
     "output_type": "execute_result"
    }
   ],
   "source": [
    "from sklearn.ensemble import RandomForestRegressor\n",
    "model_rf = RandomForestRegressor()\n",
    "model_rf.fit(x_tr,y_tr)\n",
    "pred_rf = model_rf.predict(x_te)\n",
    "model_rf.score(x_tr,y_tr)"
   ]
  },
  {
   "cell_type": "code",
   "execution_count": 405,
   "id": "c6e3951e",
   "metadata": {},
   "outputs": [
    {
     "name": "stdout",
     "output_type": "stream",
     "text": [
      "18305865.466297135 63382743.151165284 16963000.693045184\n"
     ]
    }
   ],
   "source": [
    "from sklearn.metrics import mean_squared_error\n",
    "score_xgb = mean_squared_error(y_te,pred_xgb)\n",
    "score_lr = mean_squared_error(y_te,pred_lr)\n",
    "score_rf = mean_squared_error(y_te,pred_rf)\n",
    "print(score_xgb,score_lr,score_rf)"
   ]
  },
  {
   "cell_type": "code",
   "execution_count": 406,
   "id": "11e55a39",
   "metadata": {},
   "outputs": [
    {
     "name": "stdout",
     "output_type": "stream",
     "text": [
      "0.9221005677403409 0.7302788160643947 0.9278150423512472\n"
     ]
    }
   ],
   "source": [
    "from sklearn.metrics import r2_score\n",
    "r2_xgb = r2_score(y_te,pred_xgb)\n",
    "r2_lr = r2_score(y_te,pred_lr)\n",
    "r2_rf = r2_score(y_te,pred_rf)\n",
    "print(r2_xgb,r2_lr,r2_rf)"
   ]
  },
  {
   "cell_type": "code",
   "execution_count": 407,
   "id": "cf45869b",
   "metadata": {},
   "outputs": [
    {
     "data": {
      "text/html": [
       "<div>\n",
       "<style scoped>\n",
       "    .dataframe tbody tr th:only-of-type {\n",
       "        vertical-align: middle;\n",
       "    }\n",
       "\n",
       "    .dataframe tbody tr th {\n",
       "        vertical-align: top;\n",
       "    }\n",
       "\n",
       "    .dataframe thead th {\n",
       "        text-align: right;\n",
       "    }\n",
       "</style>\n",
       "<table border=\"1\" class=\"dataframe\">\n",
       "  <thead>\n",
       "    <tr style=\"text-align: right;\">\n",
       "      <th></th>\n",
       "      <th>carID</th>\n",
       "      <th>price</th>\n",
       "    </tr>\n",
       "  </thead>\n",
       "  <tbody>\n",
       "    <tr>\n",
       "      <th>0</th>\n",
       "      <td>12000</td>\n",
       "      <td>37738.93</td>\n",
       "    </tr>\n",
       "    <tr>\n",
       "      <th>1</th>\n",
       "      <td>12001</td>\n",
       "      <td>23166.92</td>\n",
       "    </tr>\n",
       "    <tr>\n",
       "      <th>2</th>\n",
       "      <td>12004</td>\n",
       "      <td>56881.02</td>\n",
       "    </tr>\n",
       "    <tr>\n",
       "      <th>3</th>\n",
       "      <td>12013</td>\n",
       "      <td>16045.25</td>\n",
       "    </tr>\n",
       "    <tr>\n",
       "      <th>4</th>\n",
       "      <td>12017</td>\n",
       "      <td>49140.62</td>\n",
       "    </tr>\n",
       "  </tbody>\n",
       "</table>\n",
       "</div>"
      ],
      "text/plain": [
       "   carID     price\n",
       "0  12000  37738.93\n",
       "1  12001  23166.92\n",
       "2  12004  56881.02\n",
       "3  12013  16045.25\n",
       "4  12017  49140.62"
      ]
     },
     "execution_count": 407,
     "metadata": {},
     "output_type": "execute_result"
    }
   ],
   "source": [
    "final_pred = model_rf.predict(x_test)\n",
    "\n",
    "output = pd.DataFrame({'carID':x_test_id,'price':final_pred})\n",
    "output.head()"
   ]
  },
  {
   "cell_type": "markdown",
   "id": "6e9cc9db",
   "metadata": {},
   "source": [
    "# 의료비용 예측 데이터"
   ]
  },
  {
   "cell_type": "code",
   "execution_count": 362,
   "id": "ac812765",
   "metadata": {},
   "outputs": [
    {
     "data": {
      "text/html": [
       "<div>\n",
       "<style scoped>\n",
       "    .dataframe tbody tr th:only-of-type {\n",
       "        vertical-align: middle;\n",
       "    }\n",
       "\n",
       "    .dataframe tbody tr th {\n",
       "        vertical-align: top;\n",
       "    }\n",
       "\n",
       "    .dataframe thead th {\n",
       "        text-align: right;\n",
       "    }\n",
       "</style>\n",
       "<table border=\"1\" class=\"dataframe\">\n",
       "  <thead>\n",
       "    <tr style=\"text-align: right;\">\n",
       "      <th></th>\n",
       "      <th>ID</th>\n",
       "      <th>age</th>\n",
       "      <th>sex</th>\n",
       "      <th>bmi</th>\n",
       "      <th>children</th>\n",
       "      <th>smoker</th>\n",
       "      <th>region</th>\n",
       "    </tr>\n",
       "  </thead>\n",
       "  <tbody>\n",
       "    <tr>\n",
       "      <th>0</th>\n",
       "      <td>2</td>\n",
       "      <td>35</td>\n",
       "      <td>female</td>\n",
       "      <td>35.860</td>\n",
       "      <td>2</td>\n",
       "      <td>no</td>\n",
       "      <td>southeast</td>\n",
       "    </tr>\n",
       "    <tr>\n",
       "      <th>1</th>\n",
       "      <td>3</td>\n",
       "      <td>28</td>\n",
       "      <td>female</td>\n",
       "      <td>23.845</td>\n",
       "      <td>2</td>\n",
       "      <td>no</td>\n",
       "      <td>northwest</td>\n",
       "    </tr>\n",
       "    <tr>\n",
       "      <th>2</th>\n",
       "      <td>4</td>\n",
       "      <td>23</td>\n",
       "      <td>female</td>\n",
       "      <td>32.780</td>\n",
       "      <td>2</td>\n",
       "      <td>yes</td>\n",
       "      <td>southeast</td>\n",
       "    </tr>\n",
       "    <tr>\n",
       "      <th>3</th>\n",
       "      <td>6</td>\n",
       "      <td>52</td>\n",
       "      <td>female</td>\n",
       "      <td>25.300</td>\n",
       "      <td>2</td>\n",
       "      <td>yes</td>\n",
       "      <td>southeast</td>\n",
       "    </tr>\n",
       "    <tr>\n",
       "      <th>4</th>\n",
       "      <td>7</td>\n",
       "      <td>63</td>\n",
       "      <td>male</td>\n",
       "      <td>39.800</td>\n",
       "      <td>3</td>\n",
       "      <td>no</td>\n",
       "      <td>southwest</td>\n",
       "    </tr>\n",
       "  </tbody>\n",
       "</table>\n",
       "</div>"
      ],
      "text/plain": [
       "   ID  age     sex     bmi  children smoker     region\n",
       "0   2   35  female  35.860         2     no  southeast\n",
       "1   3   28  female  23.845         2     no  northwest\n",
       "2   4   23  female  32.780         2    yes  southeast\n",
       "3   6   52  female  25.300         2    yes  southeast\n",
       "4   7   63    male  39.800         3     no  southwest"
      ]
     },
     "metadata": {},
     "output_type": "display_data"
    },
    {
     "data": {
      "text/html": [
       "<div>\n",
       "<style scoped>\n",
       "    .dataframe tbody tr th:only-of-type {\n",
       "        vertical-align: middle;\n",
       "    }\n",
       "\n",
       "    .dataframe tbody tr th {\n",
       "        vertical-align: top;\n",
       "    }\n",
       "\n",
       "    .dataframe thead th {\n",
       "        text-align: right;\n",
       "    }\n",
       "</style>\n",
       "<table border=\"1\" class=\"dataframe\">\n",
       "  <thead>\n",
       "    <tr style=\"text-align: right;\">\n",
       "      <th></th>\n",
       "      <th>ID</th>\n",
       "      <th>charges</th>\n",
       "    </tr>\n",
       "  </thead>\n",
       "  <tbody>\n",
       "    <tr>\n",
       "      <th>0</th>\n",
       "      <td>2</td>\n",
       "      <td>5836.52040</td>\n",
       "    </tr>\n",
       "    <tr>\n",
       "      <th>1</th>\n",
       "      <td>3</td>\n",
       "      <td>4719.73655</td>\n",
       "    </tr>\n",
       "    <tr>\n",
       "      <th>2</th>\n",
       "      <td>4</td>\n",
       "      <td>36021.01120</td>\n",
       "    </tr>\n",
       "    <tr>\n",
       "      <th>3</th>\n",
       "      <td>6</td>\n",
       "      <td>24667.41900</td>\n",
       "    </tr>\n",
       "    <tr>\n",
       "      <th>4</th>\n",
       "      <td>7</td>\n",
       "      <td>15170.06900</td>\n",
       "    </tr>\n",
       "  </tbody>\n",
       "</table>\n",
       "</div>"
      ],
      "text/plain": [
       "   ID      charges\n",
       "0   2   5836.52040\n",
       "1   3   4719.73655\n",
       "2   4  36021.01120\n",
       "3   6  24667.41900\n",
       "4   7  15170.06900"
      ]
     },
     "metadata": {},
     "output_type": "display_data"
    }
   ],
   "source": [
    "import pandas as pd\n",
    "#데이터 로드\n",
    "x_train = pd.read_csv(\"https://raw.githubusercontent.com/Datamanim/datarepo/main/MedicalCost/x_train.csv\")\n",
    "y_train = pd.read_csv(\"https://raw.githubusercontent.com/Datamanim/datarepo/main/MedicalCost/y_train.csv\")\n",
    "x_test= pd.read_csv(\"https://raw.githubusercontent.com/Datamanim/datarepo/main/MedicalCost/x_test.csv\")\n",
    "\n",
    "\n",
    "display(x_train.head())\n",
    "display(y_train.head())"
   ]
  },
  {
   "cell_type": "code",
   "execution_count": 363,
   "id": "725572ea",
   "metadata": {},
   "outputs": [],
   "source": [
    "x_test_id = x_test.pop('ID')\n",
    "x_train.drop('ID',axis=1,inplace=True)\n",
    "y=y_train['charges']"
   ]
  },
  {
   "cell_type": "code",
   "execution_count": 364,
   "id": "b0f78340",
   "metadata": {},
   "outputs": [],
   "source": [
    "x_train = pd.get_dummies(x_train)\n",
    "x_test = pd.get_dummies(x_test)"
   ]
  },
  {
   "cell_type": "code",
   "execution_count": 365,
   "id": "f9a914f5",
   "metadata": {},
   "outputs": [],
   "source": [
    "from sklearn.preprocessing import StandardScaler\n",
    "scaler = StandardScaler()\n",
    "x_train=scaler.fit_transform(x_train)\n",
    "x_test =scaler.fit_transform(x_test)"
   ]
  },
  {
   "cell_type": "code",
   "execution_count": 366,
   "id": "0f28e8ca",
   "metadata": {},
   "outputs": [],
   "source": [
    "from sklearn.model_selection import train_test_split\n",
    "x_tr,x_te,y_tr,y_te = train_test_split(x_train,y,test_size=0.1,random_state=2022)"
   ]
  },
  {
   "cell_type": "code",
   "execution_count": 412,
   "id": "c18384eb",
   "metadata": {
    "scrolled": true
   },
   "outputs": [
    {
     "data": {
      "text/plain": [
       "0.9924812256890587"
      ]
     },
     "execution_count": 412,
     "metadata": {},
     "output_type": "execute_result"
    }
   ],
   "source": [
    "from sklearn.ensemble import RandomForestRegressor\n",
    "model_rf = RandomForestRegressor()\n",
    "model_rf.fit(x_tr,y_tr)\n",
    "pred_rf = model_rf.predict(x_te)\n",
    "model_rf.score(x_tr,y_tr)"
   ]
  },
  {
   "cell_type": "code",
   "execution_count": 368,
   "id": "d2f6dd3a",
   "metadata": {},
   "outputs": [
    {
     "data": {
      "text/plain": [
       "0.9957633237356179"
      ]
     },
     "execution_count": 368,
     "metadata": {},
     "output_type": "execute_result"
    }
   ],
   "source": [
    "from xgboost import XGBRegressor\n",
    "model_xgb = XGBRegressor()\n",
    "model_xgb.fit(x_tr,y_tr)\n",
    "pred_xgb = model_xgb.predict(x_te)\n",
    "model_xgb.score(x_tr,y_tr)"
   ]
  },
  {
   "cell_type": "code",
   "execution_count": 369,
   "id": "1ccf2cdb",
   "metadata": {},
   "outputs": [
    {
     "name": "stdout",
     "output_type": "stream",
     "text": [
      "['ARDRegression', 'BayesianRidge', 'ElasticNet', 'ElasticNetCV', 'Hinge', 'Huber', 'HuberRegressor', 'Lars', 'LarsCV', 'Lasso', 'LassoCV', 'LassoLars', 'LassoLarsCV', 'LassoLarsIC', 'LinearRegression', 'Log', 'LogisticRegression', 'LogisticRegressionCV', 'ModifiedHuber', 'MultiTaskElasticNet', 'MultiTaskElasticNetCV', 'MultiTaskLasso', 'MultiTaskLassoCV', 'OrthogonalMatchingPursuit', 'OrthogonalMatchingPursuitCV', 'PassiveAggressiveClassifier', 'PassiveAggressiveRegressor', 'Perceptron', 'QuantileRegressor', 'Ridge', 'RidgeCV', 'RidgeClassifier', 'RidgeClassifierCV', 'SGDClassifier', 'SGDRegressor', 'SGDOneClassSVM', 'SquaredLoss', 'TheilSenRegressor', 'enet_path', 'lars_path', 'lars_path_gram', 'lasso_path', 'orthogonal_mp', 'orthogonal_mp_gram', 'ridge_regression', 'RANSACRegressor', 'PoissonRegressor', 'GammaRegressor', 'TweedieRegressor']\n"
     ]
    }
   ],
   "source": [
    "import sklearn.linear_model\n",
    "print(sklearn.linear_model.__all__)"
   ]
  },
  {
   "cell_type": "code",
   "execution_count": 370,
   "id": "e12331ff",
   "metadata": {},
   "outputs": [
    {
     "data": {
      "text/plain": [
       "0.751701630629262"
      ]
     },
     "execution_count": 370,
     "metadata": {},
     "output_type": "execute_result"
    }
   ],
   "source": [
    "from sklearn.linear_model import LinearRegression\n",
    "model_lr = LinearRegression()\n",
    "model_lr.fit(x_tr,y_tr)\n",
    "pred_lr = model_lr.predict(x_te)\n",
    "model_lr.score(x_tr,y_tr)"
   ]
  },
  {
   "cell_type": "code",
   "execution_count": 375,
   "id": "a22ad3a8",
   "metadata": {},
   "outputs": [
    {
     "name": "stdout",
     "output_type": "stream",
     "text": [
      "0.8308896892559241 0.8181151581420787 0.7439350482542846\n"
     ]
    }
   ],
   "source": [
    "from sklearn.metrics import r2_score\n",
    "score_rf = r2_score(y_te,pred_rf)\n",
    "score_xgb = r2_score(y_te,pred_xgb)\n",
    "score_lr = r2_score(y_te,pred_lr)\n",
    "print(score_rf,score_xgb,score_lr)"
   ]
  },
  {
   "cell_type": "code",
   "execution_count": 372,
   "id": "f1277576",
   "metadata": {},
   "outputs": [
    {
     "data": {
      "text/html": [
       "<div>\n",
       "<style scoped>\n",
       "    .dataframe tbody tr th:only-of-type {\n",
       "        vertical-align: middle;\n",
       "    }\n",
       "\n",
       "    .dataframe tbody tr th {\n",
       "        vertical-align: top;\n",
       "    }\n",
       "\n",
       "    .dataframe thead th {\n",
       "        text-align: right;\n",
       "    }\n",
       "</style>\n",
       "<table border=\"1\" class=\"dataframe\">\n",
       "  <thead>\n",
       "    <tr style=\"text-align: right;\">\n",
       "      <th></th>\n",
       "      <th>ID</th>\n",
       "      <th>charges</th>\n",
       "    </tr>\n",
       "  </thead>\n",
       "  <tbody>\n",
       "    <tr>\n",
       "      <th>0</th>\n",
       "      <td>0</td>\n",
       "      <td>5432.826103</td>\n",
       "    </tr>\n",
       "    <tr>\n",
       "      <th>1</th>\n",
       "      <td>1</td>\n",
       "      <td>3369.066246</td>\n",
       "    </tr>\n",
       "    <tr>\n",
       "      <th>2</th>\n",
       "      <td>5</td>\n",
       "      <td>8564.029712</td>\n",
       "    </tr>\n",
       "    <tr>\n",
       "      <th>3</th>\n",
       "      <td>21</td>\n",
       "      <td>6296.263409</td>\n",
       "    </tr>\n",
       "    <tr>\n",
       "      <th>4</th>\n",
       "      <td>26</td>\n",
       "      <td>11735.360279</td>\n",
       "    </tr>\n",
       "  </tbody>\n",
       "</table>\n",
       "</div>"
      ],
      "text/plain": [
       "   ID       charges\n",
       "0   0   5432.826103\n",
       "1   1   3369.066246\n",
       "2   5   8564.029712\n",
       "3  21   6296.263409\n",
       "4  26  11735.360279"
      ]
     },
     "execution_count": 372,
     "metadata": {},
     "output_type": "execute_result"
    }
   ],
   "source": [
    "final_pred = model_rf.predict(x_test)\n",
    "output = pd.DataFrame({'ID':x_test_id, 'charges':final_pred})\n",
    "output.head()"
   ]
  }
 ],
 "metadata": {
  "kernelspec": {
   "display_name": "Python 3 (ipykernel)",
   "language": "python",
   "name": "python3"
  },
  "language_info": {
   "codemirror_mode": {
    "name": "ipython",
    "version": 3
   },
   "file_extension": ".py",
   "mimetype": "text/x-python",
   "name": "python",
   "nbconvert_exporter": "python",
   "pygments_lexer": "ipython3",
   "version": "3.9.12"
  }
 },
 "nbformat": 4,
 "nbformat_minor": 5
}
