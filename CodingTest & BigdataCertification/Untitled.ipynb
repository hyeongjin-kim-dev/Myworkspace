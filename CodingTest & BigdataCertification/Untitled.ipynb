{
 "cells": [
  {
   "cell_type": "markdown",
   "id": "66399427",
   "metadata": {},
   "source": [
    "# 1"
   ]
  },
  {
   "cell_type": "code",
   "execution_count": 1,
   "id": "1619beea",
   "metadata": {},
   "outputs": [
    {
     "data": {
      "text/plain": [
       "62.76223596304349"
      ]
     },
     "execution_count": 1,
     "metadata": {},
     "output_type": "execute_result"
    }
   ],
   "source": [
    "import pandas as pd\n",
    "\n",
    "data =pd.read_csv(\"C:/Users/SuperUser/Desktop/data/basic1.csv\")\n",
    "data.head()\n",
    "tmp = data.sort_values('f5',ascending=False).iloc[:10]\n",
    "a  = tmp['f5'].min()\n",
    "data.iloc[:10,-1]=a\n",
    "data[data['age']>=80]['f5'].mean()"
   ]
  },
  {
   "cell_type": "markdown",
   "id": "0e813728",
   "metadata": {},
   "source": [
    "# 2"
   ]
  },
  {
   "cell_type": "code",
   "execution_count": 2,
   "id": "aedc7ff6",
   "metadata": {},
   "outputs": [
    {
     "name": "stdout",
     "output_type": "stream",
     "text": [
      "3.2965018033960725\n"
     ]
    }
   ],
   "source": [
    "import pandas as pd\n",
    "\n",
    "data =pd.read_csv(\"C:/Users/SuperUser/Desktop/data/basic1.csv\")\n",
    "a = data[:int(len(data)*0.7)]['f1'].std()\n",
    "\n",
    "b = data[:int(len(data)*0.7)]['f1'].fillna(data[:int(len(data)*0.7)]['f1'].median()).std()\n",
    "print(abs(a-b))"
   ]
  },
  {
   "cell_type": "markdown",
   "id": "e1ac1923",
   "metadata": {},
   "source": [
    "# 3"
   ]
  },
  {
   "cell_type": "code",
   "execution_count": 51,
   "id": "cde5e065",
   "metadata": {},
   "outputs": [
    {
     "name": "stdout",
     "output_type": "stream",
     "text": [
      "473.5\n"
     ]
    }
   ],
   "source": [
    "import pandas as pd\n",
    "\n",
    "data =pd.read_csv(\"C:/Users/SuperUser/Desktop/data/basic1.csv\")\n",
    "\n",
    "std = data['age'].std()*1.5\n",
    "\n",
    "ans = data[(data['age']<data['age'].mean()-std)|(data['age']>data['age'].mean()+std)]['age'].sum()\n",
    "print(ans)"
   ]
  },
  {
   "cell_type": "markdown",
   "id": "8f66552b",
   "metadata": {},
   "source": [
    "# 4"
   ]
  },
  {
   "cell_type": "code",
   "execution_count": 88,
   "id": "da64d7fa",
   "metadata": {
    "scrolled": false
   },
   "outputs": [
    {
     "name": "stdout",
     "output_type": "stream",
     "text": [
      "<class 'pandas.core.frame.DataFrame'>\n",
      "Int64Index: 8799 entries, 3999 to 9332\n",
      "Data columns (total 11 columns):\n",
      " #   Column               Non-Null Count  Dtype \n",
      "---  ------               --------------  ----- \n",
      " 0   ID                   8799 non-null   int64 \n",
      " 1   Warehouse_block      8799 non-null   object\n",
      " 2   Mode_of_Shipment     8799 non-null   object\n",
      " 3   Customer_care_calls  8799 non-null   int64 \n",
      " 4   Customer_rating      8799 non-null   int64 \n",
      " 5   Cost_of_the_Product  8799 non-null   int64 \n",
      " 6   Prior_purchases      8799 non-null   int64 \n",
      " 7   Product_importance   8799 non-null   object\n",
      " 8   Gender               8799 non-null   object\n",
      " 9   Discount_offered     8799 non-null   int64 \n",
      " 10  Weight_in_gms        8799 non-null   int64 \n",
      "dtypes: int64(7), object(4)\n",
      "memory usage: 824.9+ KB\n",
      "None\n",
      "--------------------------------------------------------------------------------\n",
      "<class 'pandas.core.frame.DataFrame'>\n",
      "Int64Index: 2200 entries, 4732 to 4413\n",
      "Data columns (total 11 columns):\n",
      " #   Column               Non-Null Count  Dtype \n",
      "---  ------               --------------  ----- \n",
      " 0   ID                   2200 non-null   int64 \n",
      " 1   Warehouse_block      2200 non-null   object\n",
      " 2   Mode_of_Shipment     2200 non-null   object\n",
      " 3   Customer_care_calls  2200 non-null   int64 \n",
      " 4   Customer_rating      2200 non-null   int64 \n",
      " 5   Cost_of_the_Product  2200 non-null   int64 \n",
      " 6   Prior_purchases      2200 non-null   int64 \n",
      " 7   Product_importance   2200 non-null   object\n",
      " 8   Gender               2200 non-null   object\n",
      " 9   Discount_offered     2200 non-null   int64 \n",
      " 10  Weight_in_gms        2200 non-null   int64 \n",
      "dtypes: int64(7), object(4)\n",
      "memory usage: 206.2+ KB\n",
      "None\n",
      "--------------------------------------------------------------------------------\n",
      "<class 'pandas.core.frame.DataFrame'>\n",
      "Int64Index: 2200 entries, 4732 to 4413\n",
      "Data columns (total 2 columns):\n",
      " #   Column               Non-Null Count  Dtype\n",
      "---  ------               --------------  -----\n",
      " 0   ID                   2200 non-null   int64\n",
      " 1   Reached.on.Time_Y.N  2200 non-null   int64\n",
      "dtypes: int64(2)\n",
      "memory usage: 51.6 KB\n",
      "None\n",
      "--------------------------------------------------------------------------------\n",
      "                 ID  Customer_care_calls  Customer_rating  \\\n",
      "count   8799.000000          8799.000000      8799.000000   \n",
      "mean    5470.620411             4.050006         2.993295   \n",
      "std     3179.855461             1.140903         1.411744   \n",
      "min        1.000000             2.000000         1.000000   \n",
      "25%     2704.500000             3.000000         2.000000   \n",
      "50%     5481.000000             4.000000         3.000000   \n",
      "75%     8204.500000             5.000000         4.000000   \n",
      "max    10999.000000             7.000000         5.000000   \n",
      "\n",
      "       Cost_of_the_Product  Prior_purchases  Discount_offered  Weight_in_gms  \n",
      "count          8799.000000      8799.000000       8799.000000    8799.000000  \n",
      "mean            210.087169         3.564723         13.510399    3616.203660  \n",
      "std              47.937049         1.520299         16.305299    1635.051213  \n",
      "min              96.000000         2.000000          1.000000    1001.000000  \n",
      "25%             169.000000         3.000000          4.000000    1828.000000  \n",
      "50%             214.000000         3.000000          7.000000    4133.000000  \n",
      "75%             250.000000         4.000000         10.000000    5034.500000  \n",
      "max             310.000000        10.000000         65.000000    7846.000000  \n",
      "--------------------------------------------------------------------------------\n",
      "Warehouse_block의 value : \n",
      "F    2941\n",
      "A    1489\n",
      "B    1465\n",
      "C    1458\n",
      "D    1446\n",
      "Name: Warehouse_block, dtype: int64\n",
      "--------------------------------------------------------------------------------\n",
      "Mode_of_Shipment의 value : \n",
      "Ship      5913\n",
      "Flight    1449\n",
      "Road      1437\n",
      "Name: Mode_of_Shipment, dtype: int64\n",
      "--------------------------------------------------------------------------------\n",
      "Product_importance의 value : \n",
      "low       4247\n",
      "medium    3783\n",
      "high       769\n",
      "Name: Product_importance, dtype: int64\n",
      "--------------------------------------------------------------------------------\n",
      "Gender의 value : \n",
      "F    4456\n",
      "M    4343\n",
      "Name: Gender, dtype: int64\n",
      "--------------------------------------------------------------------------------\n",
      "0.7410962981863027\n",
      "--------------------------------------------------------------------------------\n",
      "              precision    recall  f1-score   support\n",
      "\n",
      "           0       0.58      0.91      0.70       732\n",
      "           1       0.89      0.52      0.66      1028\n",
      "\n",
      "    accuracy                           0.68      1760\n",
      "   macro avg       0.73      0.72      0.68      1760\n",
      "weighted avg       0.76      0.68      0.68      1760\n",
      "\n",
      "0.7298483978652377\n",
      "--------------------------------------------------------------------------------\n",
      "              precision    recall  f1-score   support\n",
      "\n",
      "           0       0.58      0.59      0.58       732\n",
      "           1       0.70      0.70      0.70      1028\n",
      "\n",
      "    accuracy                           0.65      1760\n",
      "   macro avg       0.64      0.64      0.64      1760\n",
      "weighted avg       0.65      0.65      0.65      1760\n",
      "\n",
      "0.7292822818991729\n",
      "--------------------------------------------------------------------------------\n",
      "              precision    recall  f1-score   support\n",
      "\n",
      "           0       0.57      0.56      0.56       732\n",
      "           1       0.69      0.70      0.70      1028\n",
      "\n",
      "    accuracy                           0.64      1760\n",
      "   macro avg       0.63      0.63      0.63      1760\n",
      "weighted avg       0.64      0.64      0.64      1760\n",
      "\n",
      "0.6165561012948907\n",
      "--------------------------------------------------------------------------------\n",
      "              precision    recall  f1-score   support\n",
      "\n",
      "           0       0.57      0.51      0.54       732\n",
      "           1       0.67      0.72      0.70      1028\n",
      "\n",
      "    accuracy                           0.63      1760\n",
      "   macro avg       0.62      0.62      0.62      1760\n",
      "weighted avg       0.63      0.63      0.63      1760\n",
      "\n"
     ]
    },
    {
     "data": {
      "text/html": [
       "<div>\n",
       "<style scoped>\n",
       "    .dataframe tbody tr th:only-of-type {\n",
       "        vertical-align: middle;\n",
       "    }\n",
       "\n",
       "    .dataframe tbody tr th {\n",
       "        vertical-align: top;\n",
       "    }\n",
       "\n",
       "    .dataframe thead th {\n",
       "        text-align: right;\n",
       "    }\n",
       "</style>\n",
       "<table border=\"1\" class=\"dataframe\">\n",
       "  <thead>\n",
       "    <tr style=\"text-align: right;\">\n",
       "      <th></th>\n",
       "      <th>ID</th>\n",
       "      <th>Reached.on.Time_Y.N</th>\n",
       "    </tr>\n",
       "  </thead>\n",
       "  <tbody>\n",
       "    <tr>\n",
       "      <th>4732</th>\n",
       "      <td>4733</td>\n",
       "      <td>0.702947</td>\n",
       "    </tr>\n",
       "    <tr>\n",
       "      <th>2039</th>\n",
       "      <td>2040</td>\n",
       "      <td>0.995706</td>\n",
       "    </tr>\n",
       "    <tr>\n",
       "      <th>5113</th>\n",
       "      <td>5114</td>\n",
       "      <td>0.436132</td>\n",
       "    </tr>\n",
       "    <tr>\n",
       "      <th>2360</th>\n",
       "      <td>2361</td>\n",
       "      <td>0.983921</td>\n",
       "    </tr>\n",
       "    <tr>\n",
       "      <th>5995</th>\n",
       "      <td>5996</td>\n",
       "      <td>0.473128</td>\n",
       "    </tr>\n",
       "  </tbody>\n",
       "</table>\n",
       "</div>"
      ],
      "text/plain": [
       "        ID  Reached.on.Time_Y.N\n",
       "4732  4733             0.702947\n",
       "2039  2040             0.995706\n",
       "5113  5114             0.436132\n",
       "2360  2361             0.983921\n",
       "5995  5996             0.473128"
      ]
     },
     "execution_count": 88,
     "metadata": {},
     "output_type": "execute_result"
    }
   ],
   "source": [
    "# 시험환경 세팅 (코드 변경 X)\n",
    "import pandas as pd\n",
    "import numpy as np\n",
    "from sklearn.model_selection import train_test_split\n",
    "\n",
    "def exam_data_load(df, target, id_name=\"\", null_name=\"\"):\n",
    "    if id_name == \"\":\n",
    "        df = df.reset_index().rename(columns={\"index\": \"id\"})\n",
    "        id_name = 'id'\n",
    "    else:\n",
    "        id_name = id_name\n",
    "    \n",
    "    if null_name != \"\":\n",
    "        df[df == null_name] = np.nan\n",
    "    \n",
    "    X_train, X_test = train_test_split(df, test_size=0.2, random_state=2021)\n",
    "    \n",
    "    y_train = X_train[[id_name, target]]\n",
    "    X_train = X_train.drop(columns=[target])\n",
    "\n",
    "    \n",
    "    y_test = X_test[[id_name, target]]\n",
    "    X_test = X_test.drop(columns=[target])\n",
    "    return X_train, X_test, y_train, y_test \n",
    "    \n",
    "df = pd.read_csv(\"C:/Users/SuperUser/Desktop/Train (3).csv\")\n",
    "X_train, X_test, y_train, y_test = exam_data_load(df, target='Reached.on.Time_Y.N', id_name='ID')\n",
    "# ------------------------------------------------------------------------------------------------------------------------------------- #\n",
    "\n",
    "\n",
    "print(X_train.info())\n",
    "print('-'*80)\n",
    "print(X_test.info())\n",
    "print('-'*80)\n",
    "print(y_test.info())\n",
    "print('-'*80)\n",
    "\n",
    "print(X_train.describe())\n",
    "print('-'*80)\n",
    "\n",
    "x_test_id = X_test.pop('ID')\n",
    "X_train.drop('ID',axis=1,inplace=True)\n",
    "y = y_train['Reached.on.Time_Y.N']\n",
    "\n",
    "str_col = X_train.select_dtypes('object').columns\n",
    "num_col = X_train.select_dtypes(exclude='object').columns\n",
    "from sklearn.preprocessing import LabelEncoder,StandardScaler\n",
    "\n",
    "le = LabelEncoder()\n",
    "dum_col = []\n",
    "for col in str_col:\n",
    "    print(f'{col}의 value : \\n{X_train[col].value_counts()}')\n",
    "    print('-'*80)\n",
    "#     if X_train[col].nunique()>=5:\n",
    "    X_train[col]=le.fit_transform(X_train[col])    \n",
    "    X_test[col] = le.fit_transform(X_test[col])\n",
    "#     else:\n",
    "#         dum_col.append(col)\n",
    "# X_train = pd.get_dummies(X_train,columns=dum_col)\n",
    "# X_test = pd.get_dummies(X_test,columns=dum_col)\n",
    "\n",
    "ss = StandardScaler()\n",
    "\n",
    "X_train = ss.fit_transform(X_train)\n",
    "X_test = ss.fit_transform(X_test)\n",
    "\n",
    "x_tr,x_te,y_tr,y_te= train_test_split(X_train,y,test_size = 0.2, random_state=2021)\n",
    "\n",
    "from sklearn.linear_model import LogisticRegression\n",
    "from sklearn.neighbors import KNeighborsClassifier\n",
    "from sklearn.tree import DecisionTreeClassifier\n",
    "from sklearn.ensemble import RandomForestClassifier\n",
    "from xgboost import XGBClassifier\n",
    "from sklearn.metrics import roc_auc_score,classification_report\n",
    "\n",
    "\n",
    "\n",
    "model_rf = RandomForestClassifier(max_depth = 7,n_estimators=200, random_state=2021)\n",
    "model_rf.fit(x_tr,y_tr)\n",
    "pred_rf = model_rf.predict_proba(x_te)\n",
    "pred1 = model_rf.predict(x_te)\n",
    "report1 = classification_report(y_te,pred1)\n",
    "score_rf = roc_auc_score(y_te,pred_rf[:,1])\n",
    "print(score_rf)\n",
    "print('-'*80)\n",
    "print(report1)\n",
    "\n",
    "model_kc = KNeighborsClassifier()\n",
    "model_kc.fit(x_tr,y_tr)\n",
    "pred_kc = model_kc.predict_proba(x_te)\n",
    "pred2 = model_kc.predict(x_te)\n",
    "report2 = classification_report(y_te,pred2)\n",
    "score_kc = roc_auc_score(y_te, pred_kc[:,1])\n",
    "print(score_kc)\n",
    "print('-'*80)\n",
    "print(report2)\n",
    "\n",
    "model_lr = LogisticRegression(random_state=2021)\n",
    "model_lr.fit(x_tr,y_tr)\n",
    "pred_lr = model_lr.predict_proba(x_te)\n",
    "pred3 = model_lr.predict(x_te)\n",
    "report3 = classification_report(y_te,pred3)\n",
    "score_lr = roc_auc_score(y_te, pred_lr[:,1])\n",
    "print(score_lr)\n",
    "print('-'*80)\n",
    "print(report3)\n",
    "\n",
    "model_dt = DecisionTreeClassifier(random_state=2021)\n",
    "model_dt.fit(x_tr,y_tr)\n",
    "pred_dt = model_dt.predict_proba(x_te)\n",
    "pred4 = model_dt.predict(x_te)\n",
    "report4 = classification_report(y_te,pred4)\n",
    "score_dt = roc_auc_score(y_te, pred_dt[:,1])\n",
    "print(score_dt)\n",
    "print('-'*80)\n",
    "print(report4)\n",
    "\n",
    "pred = model_rf.predict_proba(X_test)\n",
    "submission = pd.DataFrame({'ID':x_test_id, \"Reached.on.Time_Y.N\":pred[:,1] })\n",
    "submission.head()"
   ]
  },
  {
   "cell_type": "code",
   "execution_count": 86,
   "id": "2ef3e76c",
   "metadata": {},
   "outputs": [
    {
     "data": {
      "text/plain": [
       "0.7220030625137333"
      ]
     },
     "execution_count": 86,
     "metadata": {},
     "output_type": "execute_result"
    }
   ],
   "source": [
    "pred = model_rf.predict_proba(X_test)\n",
    "roc_auc_score(y_test['Reached.on.Time_Y.N'], pred[:,1])"
   ]
  },
  {
   "cell_type": "markdown",
   "id": "3cc6cf7c",
   "metadata": {},
   "source": [
    "# 1"
   ]
  },
  {
   "cell_type": "code",
   "execution_count": 113,
   "id": "034cd084",
   "metadata": {},
   "outputs": [
    {
     "data": {
      "text/html": [
       "<div>\n",
       "<style scoped>\n",
       "    .dataframe tbody tr th:only-of-type {\n",
       "        vertical-align: middle;\n",
       "    }\n",
       "\n",
       "    .dataframe tbody tr th {\n",
       "        vertical-align: top;\n",
       "    }\n",
       "\n",
       "    .dataframe thead th {\n",
       "        text-align: right;\n",
       "    }\n",
       "</style>\n",
       "<table border=\"1\" class=\"dataframe\">\n",
       "  <thead>\n",
       "    <tr style=\"text-align: right;\">\n",
       "      <th></th>\n",
       "      <th>0</th>\n",
       "      <th>1</th>\n",
       "      <th>2</th>\n",
       "      <th>3</th>\n",
       "      <th>4</th>\n",
       "      <th>5</th>\n",
       "      <th>6</th>\n",
       "      <th>7</th>\n",
       "      <th>8</th>\n",
       "      <th>9</th>\n",
       "      <th>...</th>\n",
       "      <th>90</th>\n",
       "      <th>91</th>\n",
       "      <th>92</th>\n",
       "      <th>93</th>\n",
       "      <th>94</th>\n",
       "      <th>95</th>\n",
       "      <th>96</th>\n",
       "      <th>97</th>\n",
       "      <th>98</th>\n",
       "      <th>99</th>\n",
       "    </tr>\n",
       "    <tr>\n",
       "      <th>year</th>\n",
       "      <th></th>\n",
       "      <th></th>\n",
       "      <th></th>\n",
       "      <th></th>\n",
       "      <th></th>\n",
       "      <th></th>\n",
       "      <th></th>\n",
       "      <th></th>\n",
       "      <th></th>\n",
       "      <th></th>\n",
       "      <th></th>\n",
       "      <th></th>\n",
       "      <th></th>\n",
       "      <th></th>\n",
       "      <th></th>\n",
       "      <th></th>\n",
       "      <th></th>\n",
       "      <th></th>\n",
       "      <th></th>\n",
       "      <th></th>\n",
       "      <th></th>\n",
       "    </tr>\n",
       "  </thead>\n",
       "  <tbody>\n",
       "    <tr>\n",
       "      <th>2022년</th>\n",
       "      <td>69</td>\n",
       "      <td>37</td>\n",
       "      <td>57</td>\n",
       "      <td>70</td>\n",
       "      <td>40</td>\n",
       "      <td>75</td>\n",
       "      <td>8</td>\n",
       "      <td>67</td>\n",
       "      <td>89</td>\n",
       "      <td>91</td>\n",
       "      <td>...</td>\n",
       "      <td>79</td>\n",
       "      <td>56</td>\n",
       "      <td>98</td>\n",
       "      <td>21</td>\n",
       "      <td>14</td>\n",
       "      <td>25</td>\n",
       "      <td>17</td>\n",
       "      <td>10</td>\n",
       "      <td>60</td>\n",
       "      <td>17</td>\n",
       "    </tr>\n",
       "    <tr>\n",
       "      <th>2023년</th>\n",
       "      <td>52</td>\n",
       "      <td>13</td>\n",
       "      <td>22</td>\n",
       "      <td>70</td>\n",
       "      <td>92</td>\n",
       "      <td>80</td>\n",
       "      <td>8</td>\n",
       "      <td>56</td>\n",
       "      <td>17</td>\n",
       "      <td>96</td>\n",
       "      <td>...</td>\n",
       "      <td>62</td>\n",
       "      <td>47</td>\n",
       "      <td>59</td>\n",
       "      <td>6</td>\n",
       "      <td>25</td>\n",
       "      <td>96</td>\n",
       "      <td>69</td>\n",
       "      <td>87</td>\n",
       "      <td>28</td>\n",
       "      <td>64</td>\n",
       "    </tr>\n",
       "    <tr>\n",
       "      <th>2024년</th>\n",
       "      <td>88</td>\n",
       "      <td>44</td>\n",
       "      <td>32</td>\n",
       "      <td>55</td>\n",
       "      <td>64</td>\n",
       "      <td>8</td>\n",
       "      <td>4</td>\n",
       "      <td>2</td>\n",
       "      <td>62</td>\n",
       "      <td>44</td>\n",
       "      <td>...</td>\n",
       "      <td>98</td>\n",
       "      <td>95</td>\n",
       "      <td>40</td>\n",
       "      <td>59</td>\n",
       "      <td>69</td>\n",
       "      <td>71</td>\n",
       "      <td>86</td>\n",
       "      <td>53</td>\n",
       "      <td>93</td>\n",
       "      <td>64</td>\n",
       "    </tr>\n",
       "    <tr>\n",
       "      <th>2025년</th>\n",
       "      <td>80</td>\n",
       "      <td>97</td>\n",
       "      <td>15</td>\n",
       "      <td>4</td>\n",
       "      <td>74</td>\n",
       "      <td>12</td>\n",
       "      <td>100</td>\n",
       "      <td>60</td>\n",
       "      <td>47</td>\n",
       "      <td>47</td>\n",
       "      <td>...</td>\n",
       "      <td>30</td>\n",
       "      <td>11</td>\n",
       "      <td>2</td>\n",
       "      <td>54</td>\n",
       "      <td>9</td>\n",
       "      <td>52</td>\n",
       "      <td>51</td>\n",
       "      <td>81</td>\n",
       "      <td>78</td>\n",
       "      <td>22</td>\n",
       "    </tr>\n",
       "    <tr>\n",
       "      <th>2026년</th>\n",
       "      <td>64</td>\n",
       "      <td>66</td>\n",
       "      <td>62</td>\n",
       "      <td>56</td>\n",
       "      <td>67</td>\n",
       "      <td>80</td>\n",
       "      <td>90</td>\n",
       "      <td>24</td>\n",
       "      <td>58</td>\n",
       "      <td>78</td>\n",
       "      <td>...</td>\n",
       "      <td>93</td>\n",
       "      <td>15</td>\n",
       "      <td>88</td>\n",
       "      <td>67</td>\n",
       "      <td>7</td>\n",
       "      <td>82</td>\n",
       "      <td>5</td>\n",
       "      <td>61</td>\n",
       "      <td>15</td>\n",
       "      <td>63</td>\n",
       "    </tr>\n",
       "  </tbody>\n",
       "</table>\n",
       "<p>5 rows × 100 columns</p>\n",
       "</div>"
      ],
      "text/plain": [
       "        0   1   2   3   4   5    6   7   8   9  ...  90  91  92  93  94  95  \\\n",
       "year                                            ...                           \n",
       "2022년  69  37  57  70  40  75    8  67  89  91  ...  79  56  98  21  14  25   \n",
       "2023년  52  13  22  70  92  80    8  56  17  96  ...  62  47  59   6  25  96   \n",
       "2024년  88  44  32  55  64   8    4   2  62  44  ...  98  95  40  59  69  71   \n",
       "2025년  80  97  15   4  74  12  100  60  47  47  ...  30  11   2  54   9  52   \n",
       "2026년  64  66  62  56  67  80   90  24  58  78  ...  93  15  88  67   7  82   \n",
       "\n",
       "       96  97  98  99  \n",
       "year                   \n",
       "2022년  17  10  60  17  \n",
       "2023년  69  87  28  64  \n",
       "2024년  86  53  93  64  \n",
       "2025년  51  81  78  22  \n",
       "2026년   5  61  15  63  \n",
       "\n",
       "[5 rows x 100 columns]"
      ]
     },
     "execution_count": 113,
     "metadata": {},
     "output_type": "execute_result"
    }
   ],
   "source": [
    "import pandas as pd\n",
    "\n",
    "data = pd.read_csv(\"C:/Users/SuperUser/Desktop/t1-data2.csv\",index_col='year')\n",
    "data.head()"
   ]
  },
  {
   "cell_type": "code",
   "execution_count": 123,
   "id": "ab340f6f",
   "metadata": {},
   "outputs": [
    {
     "name": "stdout",
     "output_type": "stream",
     "text": [
      "50\n"
     ]
    }
   ],
   "source": [
    "ans = sum(data.loc['2022년',:]>data.loc['2022년'].median())\n",
    "print(ans)"
   ]
  },
  {
   "cell_type": "markdown",
   "id": "1c7aadf9",
   "metadata": {},
   "source": [
    "# 2"
   ]
  },
  {
   "cell_type": "code",
   "execution_count": 138,
   "id": "7a11f410",
   "metadata": {},
   "outputs": [
    {
     "name": "stdout",
     "output_type": "stream",
     "text": [
      "77.25\n"
     ]
    }
   ],
   "source": [
    "data = pd.read_csv(\"C:/Users/SuperUser/Desktop/t1-data1.csv\")\n",
    "data.dropna(inplace=True)\n",
    "data = data[:int(np.trunc(len(data)*0.6))]\n",
    "ans = data['f1'].quantile(0.75)\n",
    "print(ans)"
   ]
  },
  {
   "cell_type": "markdown",
   "id": "31e0f9f2",
   "metadata": {},
   "source": [
    "# 3"
   ]
  },
  {
   "cell_type": "code",
   "execution_count": 147,
   "id": "482b3a7b",
   "metadata": {},
   "outputs": [
    {
     "name": "stdout",
     "output_type": "stream",
     "text": [
      "f1\n"
     ]
    }
   ],
   "source": [
    "import pandas as pd\n",
    "\n",
    "data = pd.read_csv(\"C:/Users/SuperUser/Desktop/t1-data1.csv\")\n",
    "ans = data.isnull().sum().sort_values(ascending=False).index[0]\n",
    "print(ans)"
   ]
  },
  {
   "cell_type": "markdown",
   "id": "20aa5e54",
   "metadata": {},
   "source": [
    "# 4"
   ]
  },
  {
   "cell_type": "code",
   "execution_count": 3,
   "id": "aa635a17",
   "metadata": {
    "scrolled": false
   },
   "outputs": [
    {
     "name": "stdout",
     "output_type": "stream",
     "text": [
      "Age                    0\n",
      "Employment Type        0\n",
      "GraduateOrNot          0\n",
      "AnnualIncome           4\n",
      "FamilyMembers          0\n",
      "ChronicDiseases        0\n",
      "FrequentFlyer          0\n",
      "EverTravelledAbroad    0\n",
      "dtype: int64\n",
      "--------------------------------------------------------------------------------\n",
      "Age                    0\n",
      "Employment Type        0\n",
      "GraduateOrNot          0\n",
      "AnnualIncome           3\n",
      "FamilyMembers          0\n",
      "ChronicDiseases        0\n",
      "FrequentFlyer          0\n",
      "EverTravelledAbroad    0\n",
      "dtype: int64\n",
      "--------------------------------------------------------------------------------\n",
      "<class 'pandas.core.frame.DataFrame'>\n",
      "RangeIndex: 1490 entries, 0 to 1489\n",
      "Data columns (total 8 columns):\n",
      " #   Column               Non-Null Count  Dtype  \n",
      "---  ------               --------------  -----  \n",
      " 0   Age                  1490 non-null   int64  \n",
      " 1   Employment Type      1490 non-null   object \n",
      " 2   GraduateOrNot        1490 non-null   object \n",
      " 3   AnnualIncome         1486 non-null   float64\n",
      " 4   FamilyMembers        1490 non-null   int64  \n",
      " 5   ChronicDiseases      1490 non-null   int64  \n",
      " 6   FrequentFlyer        1490 non-null   object \n",
      " 7   EverTravelledAbroad  1490 non-null   object \n",
      "dtypes: float64(1), int64(3), object(4)\n",
      "memory usage: 93.2+ KB\n",
      "None\n",
      "--------------------------------------------------------------------------------\n",
      "               Age  AnnualIncome  FamilyMembers  ChronicDiseases\n",
      "count  1490.000000  1.486000e+03    1490.000000      1490.000000\n",
      "mean     29.600000  9.311238e+05       4.755705         0.280537\n",
      "std       2.887829  3.764874e+05       1.603613         0.449412\n",
      "min      25.000000  3.000000e+05       2.000000         0.000000\n",
      "25%      28.000000  6.000000e+05       4.000000         0.000000\n",
      "50%      29.000000  9.000000e+05       5.000000         0.000000\n",
      "75%      32.000000  1.250000e+06       6.000000         1.000000\n",
      "max      35.000000  1.800000e+06       9.000000         1.000000\n",
      "--------------------------------------------------------------------------------\n",
      "<class 'pandas.core.frame.DataFrame'>\n",
      "RangeIndex: 497 entries, 0 to 496\n",
      "Data columns (total 8 columns):\n",
      " #   Column               Non-Null Count  Dtype  \n",
      "---  ------               --------------  -----  \n",
      " 0   Age                  497 non-null    int64  \n",
      " 1   Employment Type      497 non-null    object \n",
      " 2   GraduateOrNot        497 non-null    object \n",
      " 3   AnnualIncome         494 non-null    float64\n",
      " 4   FamilyMembers        497 non-null    int64  \n",
      " 5   ChronicDiseases      497 non-null    int64  \n",
      " 6   FrequentFlyer        497 non-null    object \n",
      " 7   EverTravelledAbroad  497 non-null    object \n",
      "dtypes: float64(1), int64(3), object(4)\n",
      "memory usage: 31.2+ KB\n",
      "None\n",
      "--------------------------------------------------------------------------------\n",
      "              Age  AnnualIncome  FamilyMembers  ChronicDiseases\n",
      "count  497.000000  4.940000e+02     497.000000       497.000000\n",
      "mean    29.800805  9.393725e+05       4.744467         0.269618\n",
      "std      2.986286  3.792988e+05       1.629211         0.444208\n",
      "min     25.000000  3.000000e+05       2.000000         0.000000\n",
      "25%     28.000000  6.000000e+05       4.000000         0.000000\n",
      "50%     29.000000  9.000000e+05       5.000000         0.000000\n",
      "75%     33.000000  1.250000e+06       6.000000         1.000000\n",
      "max     35.000000  1.750000e+06       9.000000         1.000000\n",
      "--------------------------------------------------------------------------------\n",
      "Employment Type value_counts 값 : \n",
      "Private Sector/Self Employed    1056\n",
      "Government Sector                434\n",
      "Name: Employment Type, dtype: int64\n",
      "--------------------------------------------------------------------------------\n",
      "GraduateOrNot value_counts 값 : \n",
      "Yes    1270\n",
      "No      220\n",
      "Name: GraduateOrNot, dtype: int64\n",
      "--------------------------------------------------------------------------------\n",
      "FrequentFlyer value_counts 값 : \n",
      "No     1175\n",
      "Yes     315\n",
      "Name: FrequentFlyer, dtype: int64\n",
      "--------------------------------------------------------------------------------\n",
      "EverTravelledAbroad value_counts 값 : \n",
      "No     1209\n",
      "Yes     281\n",
      "Name: EverTravelledAbroad, dtype: int64\n",
      "--------------------------------------------------------------------------------\n",
      "Employment Type value_counts 값 : \n",
      "Private Sector/Self Employed    360\n",
      "Government Sector               134\n",
      "Casual employment                 3\n",
      "Name: Employment Type, dtype: int64\n",
      "--------------------------------------------------------------------------------\n",
      "GraduateOrNot value_counts 값 : \n",
      "Yes    422\n",
      "No      75\n",
      "Name: GraduateOrNot, dtype: int64\n",
      "--------------------------------------------------------------------------------\n",
      "FrequentFlyer value_counts 값 : \n",
      "No     395\n",
      "Yes    102\n",
      "Name: FrequentFlyer, dtype: int64\n",
      "--------------------------------------------------------------------------------\n",
      "EverTravelledAbroad value_counts 값 : \n",
      "No     398\n",
      "Yes     99\n",
      "Name: EverTravelledAbroad, dtype: int64\n",
      "--------------------------------------------------------------------------------\n",
      "RandomForestClassifier_roc_auc_score:0.7939057488280287 \n",
      "XGBClassifier_roc_auc_score:0.7845299777942265 \n",
      "LogisticRegression_roc_auc_score:0.7263015050579816 \n",
      "RandomForestClassifier report: \n",
      "              precision    recall  f1-score   support\n",
      "\n",
      "           0       0.80      0.87      0.83       193\n",
      "           1       0.71      0.61      0.66       105\n",
      "\n",
      "    accuracy                           0.78       298\n",
      "   macro avg       0.76      0.74      0.74       298\n",
      "weighted avg       0.77      0.78      0.77       298\n",
      " \n",
      "XGBClassifier report:\n",
      "              precision    recall  f1-score   support\n",
      "\n",
      "           0       0.80      0.91      0.85       193\n",
      "           1       0.77      0.58      0.66       105\n",
      "\n",
      "    accuracy                           0.79       298\n",
      "   macro avg       0.79      0.74      0.76       298\n",
      "weighted avg       0.79      0.79      0.78       298\n",
      " \n",
      "LogisticRegression report:\n",
      "              precision    recall  f1-score   support\n",
      "\n",
      "           0       0.74      0.92      0.82       193\n",
      "           1       0.74      0.40      0.52       105\n",
      "\n",
      "    accuracy                           0.74       298\n",
      "   macro avg       0.74      0.66      0.67       298\n",
      "weighted avg       0.74      0.74      0.71       298\n",
      " \n",
      "   id  TravelInsurance\n",
      "0   0         0.147905\n",
      "1   1         0.106077\n",
      "2   2         0.020733\n",
      "3   3         0.997956\n",
      "4   4         0.013385\n"
     ]
    }
   ],
   "source": [
    "import pandas as pd\n",
    "\n",
    "train = pd.read_csv(\"C:/Users/SuperUser/Desktop/t2-1-train.csv\")\n",
    "test = pd.read_csv(\"C:/Users/SuperUser/Desktop/t2-1-test.csv\")\n",
    "\n",
    "y = train.pop('TravelInsurance')\n",
    "x_test_id = test.pop('id')\n",
    "train.drop('id',axis=1,inplace=True)\n",
    "\n",
    "print(train.isnull().sum())\n",
    "print('-'*80)\n",
    "print(test.isnull().sum())\n",
    "print('-'*80)\n",
    "print(train.info())\n",
    "print('-'*80)\n",
    "print(train.describe())\n",
    "print('-'*80)\n",
    "print(test.info())\n",
    "print('-'*80)\n",
    "print(test.describe())\n",
    "print('-'*80)\n",
    "str_col = train.select_dtypes('object').columns\n",
    "num_col = train.select_dtypes(exclude='object').columns\n",
    "\n",
    "for col in str_col:\n",
    "    print(f'{col} value_counts 값 : \\n{train[col].value_counts()}')\n",
    "    print('-'*80)\n",
    "\n",
    "for col in str_col:\n",
    "    print(f'{col} value_counts 값 : \\n{test[col].value_counts()}')\n",
    "    print('-'*80)\n",
    "    \n",
    "train['AnnualIncome'].fillna(train['AnnualIncome'].mean(),inplace=True)\n",
    "test['AnnualIncome'].fillna(test['AnnualIncome'].mean(),inplace=True)\n",
    "\n",
    "df = pd.concat([train, test])\n",
    "\n",
    "# train = pd.get_dummies(train)\n",
    "# test = pd.get_dummies(test)\n",
    "\n",
    "from sklearn.preprocessing import MinMaxScaler,LabelEncoder,RobustScaler\n",
    "le=LabelEncoder()\n",
    "for col in str_col:\n",
    "    df[col]=le.fit_transform(df[col])\n",
    "\n",
    "train = df[:train.shape[0]].copy()\n",
    "test = df[train.shape[0]:].copy()\n",
    "\n",
    "scaler = RobustScaler()\n",
    "\n",
    "train['AnnualIncome'] = scaler.fit_transform(train[['AnnualIncome']])\n",
    "test['AnnualIncome'] = scaler.fit_transform(test[['AnnualIncome']])\n",
    "\n",
    "from sklearn.model_selection import train_test_split\n",
    "x_tr,x_te,y_tr,y_te = train_test_split(train,y,stratify=y,test_size=0.2,random_state=2021)\n",
    "\n",
    "from sklearn.ensemble import RandomForestClassifier\n",
    "from xgboost import XGBClassifier\n",
    "from sklearn.linear_model import LogisticRegression\n",
    "from sklearn.metrics import roc_auc_score,classification_report\n",
    "\n",
    "model_rf = RandomForestClassifier(random_state=2021)\n",
    "model_rf.fit(x_tr,y_tr)\n",
    "pred_rf = model_rf.predict(x_te)\n",
    "prob_rf = model_rf.predict_proba(x_te)\n",
    "score_rf = roc_auc_score(y_te,prob_rf[:,1])\n",
    "report_rf = classification_report(y_te,pred_rf)\n",
    "\n",
    "model_xg = XGBClassifier(random_state=2021)\n",
    "model_xg.fit(x_tr,y_tr)\n",
    "pred_xg = model_xg.predict(x_te)\n",
    "prob_xg = model_xg.predict_proba(x_te)\n",
    "score_xg = roc_auc_score(y_te,prob_xg[:,1])\n",
    "report_xg = classification_report(y_te,pred_xg)\n",
    "\n",
    "model_lr = LogisticRegression(random_state=2021)\n",
    "model_lr.fit(x_tr,y_tr)\n",
    "pred_lr = model_lr.predict(x_te)\n",
    "prob_lr = model_lr.predict_proba(x_te)\n",
    "score_lr = roc_auc_score(y_te,prob_lr[:,1])\n",
    "report_lr = classification_report(y_te,pred_lr)\n",
    "\n",
    "print(f'RandomForestClassifier_roc_auc_score:{score_rf} ')\n",
    "print(f'XGBClassifier_roc_auc_score:{score_xg} ')\n",
    "print(f'LogisticRegression_roc_auc_score:{score_lr} ')\n",
    "\n",
    "print(f'RandomForestClassifier report: \\n{report_rf} ')\n",
    "print(f'XGBClassifier report:\\n{report_xg} ')\n",
    "print(f'LogisticRegression report:\\n{report_lr} ')\n",
    "\n",
    "model_xg.fit(train,y)\n",
    "pred = model_xg.predict_proba(test)\n",
    "submission = pd.DataFrame({'id':x_test_id,'TravelInsurance':pred[:,1]})\n",
    "print(submission.head())"
   ]
  },
  {
   "cell_type": "code",
   "execution_count": 1,
   "id": "d2ed7970",
   "metadata": {},
   "outputs": [
    {
     "name": "stdout",
     "output_type": "stream",
     "text": [
      "{1: 2}\n"
     ]
    }
   ],
   "source": [
    "a= {}\n",
    "a[1]=2\n",
    "print(a)"
   ]
  },
  {
   "cell_type": "code",
   "execution_count": 12,
   "id": "94dad145",
   "metadata": {},
   "outputs": [],
   "source": [
    "a= [1,1,1,1,2,2,2,3,4,5]\n",
    "dic = {}\n",
    "while i==len(a):\n",
    "    i=0\n",
    "    if i+1 == a[i]:\n",
    "        dic[i] = a.count(a[i])\n",
    "        i=a.count(a[i])-1print(dic)"
   ]
  },
  {
   "cell_type": "code",
   "execution_count": 21,
   "id": "4bf60569",
   "metadata": {},
   "outputs": [
    {
     "data": {
      "text/plain": [
       "20"
      ]
     },
     "execution_count": 21,
     "metadata": {},
     "output_type": "execute_result"
    }
   ],
   "source": [
    "import math\n",
    "a = [10,20]\n",
    "a.pop()"
   ]
  },
  {
   "cell_type": "code",
   "execution_count": 22,
   "id": "97e3ed41",
   "metadata": {},
   "outputs": [
    {
     "data": {
      "text/plain": [
       "1"
      ]
     },
     "execution_count": 22,
     "metadata": {},
     "output_type": "execute_result"
    }
   ],
   "source": [
    "math.gcd(10,17)"
   ]
  },
  {
   "cell_type": "code",
   "execution_count": 97,
   "id": "6047117c",
   "metadata": {},
   "outputs": [
    {
     "name": "stdout",
     "output_type": "stream",
     "text": [
      "1\n"
     ]
    }
   ],
   "source": [
    "word = ['aya','ye','woo','ma']\n",
    "test = [\"aya\", \"yee\", \"u\", \"maa\", \"wyeoo\"]\n",
    "count=0\n",
    "for a in test:\n",
    "    for b in word:\n",
    "        if b*2 not in a:\n",
    "            a=a.replace(b,' ')\n",
    "    if a.strip()=='':\n",
    "        count+=1\n",
    "print(count)"
   ]
  },
  {
   "cell_type": "code",
   "execution_count": 39,
   "id": "0a3d7010",
   "metadata": {},
   "outputs": [
    {
     "data": {
      "text/plain": [
       "'a'"
      ]
     },
     "execution_count": 39,
     "metadata": {},
     "output_type": "execute_result"
    }
   ],
   "source": [
    "a.split()[0][0]"
   ]
  },
  {
   "cell_type": "code",
   "execution_count": 127,
   "id": "c7253540",
   "metadata": {},
   "outputs": [
    {
     "data": {
      "text/plain": [
       "[3, 4, 5]"
      ]
     },
     "execution_count": 127,
     "metadata": {},
     "output_type": "execute_result"
    }
   ],
   "source": [
    "num = 3\n",
    "total =12\n",
    "average = total//num\n",
    "[i for i in range(average - (num-1)//2,average + (num + 2)//2)]"
   ]
  },
  {
   "cell_type": "code",
   "execution_count": 109,
   "id": "78cce236",
   "metadata": {},
   "outputs": [
    {
     "ename": "AttributeError",
     "evalue": "'list' object has no attribute 'sum'",
     "output_type": "error",
     "traceback": [
      "\u001b[1;31m---------------------------------------------------------------------------\u001b[0m",
      "\u001b[1;31mAttributeError\u001b[0m                            Traceback (most recent call last)",
      "Input \u001b[1;32mIn [109]\u001b[0m, in \u001b[0;36m<cell line: 2>\u001b[1;34m()\u001b[0m\n\u001b[0;32m      1\u001b[0m a \u001b[38;5;241m=\u001b[39m [\u001b[38;5;241m1\u001b[39m,\u001b[38;5;241m2\u001b[39m,\u001b[38;5;241m3\u001b[39m]\n\u001b[1;32m----> 2\u001b[0m \u001b[43ma\u001b[49m\u001b[38;5;241;43m.\u001b[39;49m\u001b[43msum\u001b[49m\n",
      "\u001b[1;31mAttributeError\u001b[0m: 'list' object has no attribute 'sum'"
     ]
    }
   ],
   "source": [
    "a = [1,2,3]\n",
    "a.sum"
   ]
  },
  {
   "cell_type": "code",
   "execution_count": 177,
   "id": "08690549",
   "metadata": {},
   "outputs": [
    {
     "ename": "TypeError",
     "evalue": "'str' object does not support item assignment",
     "output_type": "error",
     "traceback": [
      "\u001b[1;31m---------------------------------------------------------------------------\u001b[0m",
      "\u001b[1;31mTypeError\u001b[0m                                 Traceback (most recent call last)",
      "Input \u001b[1;32mIn [177]\u001b[0m, in \u001b[0;36m<cell line: 5>\u001b[1;34m()\u001b[0m\n\u001b[0;32m      6\u001b[0m \u001b[38;5;28;01mfor\u001b[39;00m j \u001b[38;5;129;01min\u001b[39;00m \u001b[38;5;28mrange\u001b[39m(i\u001b[38;5;241m+\u001b[39m\u001b[38;5;241m1\u001b[39m,\u001b[38;5;28mlen\u001b[39m(a)):\n\u001b[0;32m      7\u001b[0m     \u001b[38;5;28;01mif\u001b[39;00m a[i]\u001b[38;5;241m==\u001b[39mb[j]:\n\u001b[1;32m----> 8\u001b[0m         a[i]\u001b[38;5;241m=\u001b[39ma[j]\n\u001b[0;32m      9\u001b[0m         tmp\u001b[38;5;241m+\u001b[39m\u001b[38;5;241m=\u001b[39m\u001b[38;5;241m1\u001b[39m\n\u001b[0;32m     10\u001b[0m     \u001b[38;5;28;01mif\u001b[39;00m a\u001b[38;5;241m==\u001b[39mb:\n",
      "\u001b[1;31mTypeError\u001b[0m: 'str' object does not support item assignment"
     ]
    }
   ],
   "source": [
    "a='hello'\n",
    "b = 'ohell'\n",
    "ans = 0\n",
    "tmp = 0\n",
    "for i in range(len(a)):\n",
    "    for j in range(i+1,len(a)):\n",
    "        if a[i]==b[j]:\n",
    "            a[i]=a[j]\n",
    "            tmp+=1\n",
    "        if a==b:\n",
    "            ans=tmp\n",
    "        else:\n",
    "            ans = -1\n",
    "print(a)"
   ]
  },
  {
   "cell_type": "code",
   "execution_count": 181,
   "id": "f2d51a33",
   "metadata": {},
   "outputs": [
    {
     "name": "stdout",
     "output_type": "stream",
     "text": [
      "1\n"
     ]
    }
   ],
   "source": [
    "tmp = 'abc'\n",
    "k = 'korea'\n",
    "ans = 0\n",
    "tmp+=k[0]\n",
    "tmp=tmp.replace(tmp[0],'')\n",
    "ans+=1\n",
    "print(ans)"
   ]
  },
  {
   "cell_type": "code",
   "execution_count": 185,
   "id": "6acc6a67",
   "metadata": {},
   "outputs": [
    {
     "data": {
      "text/plain": [
       "'bck'"
      ]
     },
     "execution_count": 185,
     "metadata": {},
     "output_type": "execute_result"
    }
   ],
   "source": [
    "tmp"
   ]
  },
  {
   "cell_type": "code",
   "execution_count": 188,
   "id": "84c3fd3e",
   "metadata": {},
   "outputs": [
    {
     "name": "stdout",
     "output_type": "stream",
     "text": [
      "kbc\n"
     ]
    }
   ],
   "source": [
    "s = tmp[-1]+tmp[:-1]\n",
    "print(s)"
   ]
  },
  {
   "cell_type": "code",
   "execution_count": 187,
   "id": "7a36fd7e",
   "metadata": {},
   "outputs": [
    {
     "data": {
      "text/plain": [
       "'bc'"
      ]
     },
     "execution_count": 187,
     "metadata": {},
     "output_type": "execute_result"
    }
   ],
   "source": [
    "tmp[:-1]"
   ]
  },
  {
   "cell_type": "code",
   "execution_count": 192,
   "id": "1ff9b887",
   "metadata": {},
   "outputs": [
    {
     "data": {
      "text/plain": [
       "2"
      ]
     },
     "execution_count": 192,
     "metadata": {},
     "output_type": "execute_result"
    }
   ],
   "source": [
    "a='hello'\n",
    "b = 'lohel'\n",
    "(b*2).find(a)"
   ]
  },
  {
   "cell_type": "code",
   "execution_count": 193,
   "id": "abe5053a",
   "metadata": {},
   "outputs": [
    {
     "data": {
      "text/plain": [
       "'lohellohel'"
      ]
     },
     "execution_count": 193,
     "metadata": {},
     "output_type": "execute_result"
    }
   ],
   "source": [
    "(b*2)"
   ]
  },
  {
   "cell_type": "code",
   "execution_count": 194,
   "id": "9dacac62",
   "metadata": {},
   "outputs": [
    {
     "data": {
      "text/plain": [
       "'hel'"
      ]
     },
     "execution_count": 194,
     "metadata": {},
     "output_type": "execute_result"
    }
   ],
   "source": [
    "a[:3]"
   ]
  },
  {
   "cell_type": "code",
   "execution_count": 195,
   "id": "34038850",
   "metadata": {},
   "outputs": [
    {
     "data": {
      "text/plain": [
       "'lo'"
      ]
     },
     "execution_count": 195,
     "metadata": {},
     "output_type": "execute_result"
    }
   ],
   "source": [
    "a[3:]"
   ]
  },
  {
   "cell_type": "code",
   "execution_count": 196,
   "id": "f76c82fc",
   "metadata": {},
   "outputs": [
    {
     "data": {
      "text/plain": [
       "5"
      ]
     },
     "execution_count": 196,
     "metadata": {},
     "output_type": "execute_result"
    }
   ],
   "source": [
    "len(a)"
   ]
  },
  {
   "cell_type": "code",
   "execution_count": 198,
   "id": "27852600",
   "metadata": {},
   "outputs": [
    {
     "ename": "AttributeError",
     "evalue": "'int' object has no attribute 'find'",
     "output_type": "error",
     "traceback": [
      "\u001b[1;31m---------------------------------------------------------------------------\u001b[0m",
      "\u001b[1;31mAttributeError\u001b[0m                            Traceback (most recent call last)",
      "Input \u001b[1;32mIn [198]\u001b[0m, in \u001b[0;36m<cell line: 2>\u001b[1;34m()\u001b[0m\n\u001b[0;32m      1\u001b[0m a\u001b[38;5;241m=\u001b[39m[\u001b[38;5;241m7\u001b[39m,\u001b[38;5;241m17\u001b[39m,\u001b[38;5;241m77\u001b[39m]\n\u001b[0;32m      2\u001b[0m \u001b[38;5;28;01mfor\u001b[39;00m i \u001b[38;5;129;01min\u001b[39;00m \u001b[38;5;28mrange\u001b[39m(\u001b[38;5;28mlen\u001b[39m(a)):\n\u001b[1;32m----> 3\u001b[0m     \u001b[43ma\u001b[49m\u001b[43m[\u001b[49m\u001b[43mi\u001b[49m\u001b[43m]\u001b[49m\u001b[38;5;241;43m.\u001b[39;49m\u001b[43mfind\u001b[49m(\u001b[38;5;124m'\u001b[39m\u001b[38;5;124m7\u001b[39m\u001b[38;5;124m'\u001b[39m)\n",
      "\u001b[1;31mAttributeError\u001b[0m: 'int' object has no attribute 'find'"
     ]
    }
   ],
   "source": [
    "a=[7,17,77]\n",
    "for i in range(len(a)):\n",
    "    i.find()"
   ]
  },
  {
   "cell_type": "code",
   "execution_count": 203,
   "id": "92301414",
   "metadata": {},
   "outputs": [
    {
     "data": {
      "text/plain": [
       "2"
      ]
     },
     "execution_count": 203,
     "metadata": {},
     "output_type": "execute_result"
    }
   ],
   "source": [
    "a= \"74425\"\n",
    "\n",
    "a.count('4')"
   ]
  },
  {
   "cell_type": "code",
   "execution_count": 207,
   "id": "09a2f4be",
   "metadata": {},
   "outputs": [
    {
     "ename": "AttributeError",
     "evalue": "'str' object has no attribute 'sort_values'",
     "output_type": "error",
     "traceback": [
      "\u001b[1;31m---------------------------------------------------------------------------\u001b[0m",
      "\u001b[1;31mAttributeError\u001b[0m                            Traceback (most recent call last)",
      "Input \u001b[1;32mIn [207]\u001b[0m, in \u001b[0;36m<cell line: 2>\u001b[1;34m()\u001b[0m\n\u001b[0;32m      1\u001b[0m a \u001b[38;5;241m=\u001b[39m \u001b[38;5;124m\"\u001b[39m\u001b[38;5;124mABcd\u001b[39m\u001b[38;5;124m\"\u001b[39m\n\u001b[1;32m----> 2\u001b[0m \u001b[43ma\u001b[49m\u001b[38;5;241;43m.\u001b[39;49m\u001b[43mlower\u001b[49m\u001b[43m(\u001b[49m\u001b[43m)\u001b[49m\u001b[38;5;241;43m.\u001b[39;49m\u001b[43msort_values\u001b[49m()\n",
      "\u001b[1;31mAttributeError\u001b[0m: 'str' object has no attribute 'sort_values'"
     ]
    }
   ],
   "source": [
    "a = \"ABcd\"\n",
    "a.lower().sort_values()"
   ]
  },
  {
   "cell_type": "code",
   "execution_count": 218,
   "id": "5b50d18f",
   "metadata": {},
   "outputs": [
    {
     "data": {
      "text/plain": [
       "32"
      ]
     },
     "execution_count": 218,
     "metadata": {},
     "output_type": "execute_result"
    }
   ],
   "source": [
    "import math\n",
    "\n",
    "math.ceil(math.sqrt(976))"
   ]
  },
  {
   "cell_type": "code",
   "execution_count": 219,
   "id": "74df6c26",
   "metadata": {},
   "outputs": [
    {
     "data": {
      "text/plain": [
       "2"
      ]
     },
     "execution_count": 219,
     "metadata": {},
     "output_type": "execute_result"
    }
   ],
   "source": [
    "math.ceil(math.sqrt(4))"
   ]
  },
  {
   "cell_type": "code",
   "execution_count": 226,
   "id": "8910c696",
   "metadata": {},
   "outputs": [
    {
     "data": {
      "text/plain": [
       "-1"
      ]
     },
     "execution_count": 226,
     "metadata": {},
     "output_type": "execute_result"
    }
   ],
   "source": [
    "a = 'apple'\n",
    "b = 'pped'\n",
    "\n",
    "a.find(b)"
   ]
  },
  {
   "cell_type": "code",
   "execution_count": 230,
   "id": "83cafef4",
   "metadata": {},
   "outputs": [
    {
     "name": "stdout",
     "output_type": "stream",
     "text": [
      "1\n"
     ]
    }
   ],
   "source": [
    "a = 'apple'\n",
    "b = 'ppl'\n",
    "if b in a:\n",
    "    print(1)\n",
    "else:\n",
    "    print(0)"
   ]
  },
  {
   "cell_type": "code",
   "execution_count": 299,
   "id": "43df0ea9",
   "metadata": {},
   "outputs": [
    {
     "data": {
      "text/plain": [
       "('3-4', '-3')"
      ]
     },
     "execution_count": 299,
     "metadata": {},
     "output_type": "execute_result"
    }
   ],
   "source": [
    "a = \"3-4=-3\"\n",
    "t,v = a.split('=')\n",
    "t,v"
   ]
  },
  {
   "cell_type": "code",
   "execution_count": 251,
   "id": "e91d48ae",
   "metadata": {},
   "outputs": [
    {
     "name": "stdout",
     "output_type": "stream",
     "text": [
      "3\n"
     ]
    }
   ],
   "source": [
    "a = '1234'\n",
    "b = a.find('3')+1\n",
    "print(b)"
   ]
  },
  {
   "cell_type": "code",
   "execution_count": 252,
   "id": "aa9d2910",
   "metadata": {},
   "outputs": [
    {
     "ename": "TypeError",
     "evalue": "list.append() takes exactly one argument (2 given)",
     "output_type": "error",
     "traceback": [
      "\u001b[1;31m---------------------------------------------------------------------------\u001b[0m",
      "\u001b[1;31mTypeError\u001b[0m                                 Traceback (most recent call last)",
      "Input \u001b[1;32mIn [252]\u001b[0m, in \u001b[0;36m<cell line: 2>\u001b[1;34m()\u001b[0m\n\u001b[0;32m      1\u001b[0m a \u001b[38;5;241m=\u001b[39m []\n\u001b[1;32m----> 2\u001b[0m \u001b[43ma\u001b[49m\u001b[38;5;241;43m.\u001b[39;49m\u001b[43mappend\u001b[49m\u001b[43m(\u001b[49m\u001b[38;5;241;43m1\u001b[39;49m\u001b[43m,\u001b[49m\u001b[38;5;241;43m2\u001b[39;49m\u001b[43m)\u001b[49m\n",
      "\u001b[1;31mTypeError\u001b[0m: list.append() takes exactly one argument (2 given)"
     ]
    }
   ],
   "source": [
    "a = []\n",
    "a.append(1,2)"
   ]
  },
  {
   "cell_type": "code",
   "execution_count": 264,
   "id": "6c3301e0",
   "metadata": {},
   "outputs": [
    {
     "data": {
      "text/plain": [
       "15"
      ]
     },
     "execution_count": 264,
     "metadata": {},
     "output_type": "execute_result"
    }
   ],
   "source": [
    "a = \"happy birthday!\"\n",
    "len(a)"
   ]
  },
  {
   "cell_type": "code",
   "execution_count": 260,
   "id": "35086c1b",
   "metadata": {},
   "outputs": [],
   "source": [
    "tmp = a.sort(reverse=True)"
   ]
  },
  {
   "cell_type": "code",
   "execution_count": 263,
   "id": "b795e5c0",
   "metadata": {},
   "outputs": [
    {
     "data": {
      "text/plain": [
       "2"
      ]
     },
     "execution_count": 263,
     "metadata": {},
     "output_type": "execute_result"
    }
   ],
   "source": [
    "max(a)"
   ]
  },
  {
   "cell_type": "code",
   "execution_count": 265,
   "id": "3bc37db7",
   "metadata": {},
   "outputs": [
    {
     "data": {
      "text/plain": [
       "1"
      ]
     },
     "execution_count": 265,
     "metadata": {},
     "output_type": "execute_result"
    }
   ],
   "source": [
    "abs(1-2)"
   ]
  },
  {
   "cell_type": "code",
   "execution_count": 269,
   "id": "50a172fd",
   "metadata": {},
   "outputs": [
    {
     "data": {
      "text/plain": [
       "[5, 2, 3, 4]"
      ]
     },
     "execution_count": 269,
     "metadata": {},
     "output_type": "execute_result"
    }
   ],
   "source": [
    "a=[1,2,3,4]\n",
    "a[0]=5\n",
    "a"
   ]
  },
  {
   "cell_type": "code",
   "execution_count": 270,
   "id": "8dfe149b",
   "metadata": {},
   "outputs": [
    {
     "data": {
      "text/plain": [
       "1"
      ]
     },
     "execution_count": 270,
     "metadata": {},
     "output_type": "execute_result"
    }
   ],
   "source": [
    "a.count(2)"
   ]
  },
  {
   "cell_type": "code",
   "execution_count": 271,
   "id": "caf190fd",
   "metadata": {},
   "outputs": [],
   "source": [
    "if 1 in a:\n",
    "    print('성공')"
   ]
  },
  {
   "cell_type": "code",
   "execution_count": 276,
   "id": "3148decc",
   "metadata": {},
   "outputs": [],
   "source": [
    "a = math.lcm(1,2)"
   ]
  },
  {
   "cell_type": "code",
   "execution_count": 277,
   "id": "5aa75d29",
   "metadata": {},
   "outputs": [
    {
     "data": {
      "text/plain": [
       "2"
      ]
     },
     "execution_count": 277,
     "metadata": {},
     "output_type": "execute_result"
    }
   ],
   "source": [
    "a"
   ]
  },
  {
   "cell_type": "code",
   "execution_count": 278,
   "id": "d68390d6",
   "metadata": {},
   "outputs": [
    {
     "data": {
      "text/plain": [
       "[5.0, 4.0]"
      ]
     },
     "execution_count": 278,
     "metadata": {},
     "output_type": "execute_result"
    }
   ],
   "source": [
    "def solution(denum1, num1, denum2, num2):\n",
    "    denum3 = denum1 * num2 + denum2 * num1\n",
    "    num3 = num1 * num2            \n",
    "\n",
    "    for i in range(1, denum3 + 1):\n",
    "        if (num3 % i == 0) & (denum3 % i == 0):\n",
    "            gcd = i\n",
    "\n",
    "    answer = [denum3/gcd, num3/gcd]\n",
    "\n",
    "    return answer\n",
    "solution(1,2,3,4)"
   ]
  },
  {
   "cell_type": "code",
   "execution_count": 323,
   "id": "5bb734f7",
   "metadata": {},
   "outputs": [
    {
     "data": {
      "text/plain": [
       "1"
      ]
     },
     "execution_count": 323,
     "metadata": {},
     "output_type": "execute_result"
    }
   ],
   "source": [
    "a = [1,2,3,3,3,4,5,6]\n",
    "a.count(1)"
   ]
  },
  {
   "cell_type": "code",
   "execution_count": 1,
   "id": "e04d8f42",
   "metadata": {},
   "outputs": [],
   "source": [
    "dic = {1:2,2:2}"
   ]
  },
  {
   "cell_type": "code",
   "execution_count": 344,
   "id": "e1d7fc38",
   "metadata": {},
   "outputs": [
    {
     "data": {
      "text/plain": [
       "dict_values([2, 2])"
      ]
     },
     "execution_count": 344,
     "metadata": {},
     "output_type": "execute_result"
    }
   ],
   "source": [
    "key = list(dic.keys())\n",
    "val = dic.values()\n",
    "val"
   ]
  },
  {
   "cell_type": "code",
   "execution_count": 346,
   "id": "b41476fa",
   "metadata": {},
   "outputs": [
    {
     "data": {
      "text/plain": [
       "1"
      ]
     },
     "execution_count": 346,
     "metadata": {},
     "output_type": "execute_result"
    }
   ],
   "source": [
    "key[0]"
   ]
  },
  {
   "cell_type": "code",
   "execution_count": 5,
   "id": "0308274c",
   "metadata": {},
   "outputs": [
    {
     "data": {
      "text/plain": [
       "dict_values([2, 2])"
      ]
     },
     "execution_count": 5,
     "metadata": {},
     "output_type": "execute_result"
    }
   ],
   "source": [
    "dic.values()"
   ]
  },
  {
   "cell_type": "code",
   "execution_count": 7,
   "id": "62c9ec45",
   "metadata": {},
   "outputs": [
    {
     "name": "stdout",
     "output_type": "stream",
     "text": [
      "{1, 2}\n"
     ]
    }
   ],
   "source": [
    "a = set(dic)\n",
    "print(a)"
   ]
  },
  {
   "cell_type": "code",
   "execution_count": 9,
   "id": "613a0f0f",
   "metadata": {},
   "outputs": [
    {
     "data": {
      "text/plain": [
       "[3, 4, 4, 2, 5, 1, 6, 7, 8]"
      ]
     },
     "execution_count": 9,
     "metadata": {},
     "output_type": "execute_result"
    }
   ],
   "source": [
    "numlist=[1,2,3,4,4,5,6,7,8]\n",
    "n=3\n",
    "answer = sorted(numlist, key = lambda x : (abs(x-n), -x))\n",
    "answer"
   ]
  },
  {
   "cell_type": "code",
   "execution_count": 7,
   "id": "9a3839a8",
   "metadata": {},
   "outputs": [
    {
     "data": {
      "text/plain": [
       "[1, 2, 3, 4, 4, 5, 6, 7, 8]"
      ]
     },
     "execution_count": 7,
     "metadata": {},
     "output_type": "execute_result"
    }
   ],
   "source": [
    "sorted(numlist,key=lambda x: (1,5))"
   ]
  },
  {
   "cell_type": "code",
   "execution_count": 12,
   "id": "fdfe295b",
   "metadata": {},
   "outputs": [
    {
     "name": "stdout",
     "output_type": "stream",
     "text": [
      "[1, 4, 4, 5, 6, 7, 8]\n"
     ]
    }
   ],
   "source": [
    "numlist=[1,2,3,4,4,5,6,7,8]\n",
    "res = []\n",
    "for i in numlist:\n",
    "    if i==3:\n",
    "        res.pop()\n",
    "    else:\n",
    "        res.append(i)\n",
    "print(res)"
   ]
  },
  {
   "cell_type": "code",
   "execution_count": 23,
   "id": "1e0404ee",
   "metadata": {},
   "outputs": [
    {
     "name": "stdout",
     "output_type": "stream",
     "text": [
      "2\n"
     ]
    }
   ],
   "source": [
    "a='abc'\n",
    "b= ['b','a','d']\n",
    "cnt =0\n",
    "for i in range(len(a)):\n",
    "    if b[i] in a:\n",
    "        cnt+=1\n",
    "if cnt==len(b):\n",
    "    print(1)\n",
    "else:\n",
    "    print(2)"
   ]
  },
  {
   "cell_type": "code",
   "execution_count": 21,
   "id": "6746c9e6",
   "metadata": {},
   "outputs": [
    {
     "data": {
      "text/plain": [
       "3"
      ]
     },
     "execution_count": 21,
     "metadata": {},
     "output_type": "execute_result"
    }
   ],
   "source": [
    "len(a)"
   ]
  },
  {
   "cell_type": "code",
   "execution_count": 30,
   "id": "c3e20272",
   "metadata": {},
   "outputs": [
    {
     "ename": "TypeError",
     "evalue": "'builtin_function_or_method' object is not subscriptable",
     "output_type": "error",
     "traceback": [
      "\u001b[1;31m---------------------------------------------------------------------------\u001b[0m",
      "\u001b[1;31mTypeError\u001b[0m                                 Traceback (most recent call last)",
      "Input \u001b[1;32mIn [30]\u001b[0m, in \u001b[0;36m<cell line: 1>\u001b[1;34m()\u001b[0m\n\u001b[1;32m----> 1\u001b[0m \u001b[43mnumlist\u001b[49m\u001b[38;5;241;43m.\u001b[39;49m\u001b[43mindex\u001b[49m\u001b[43m[\u001b[49m\u001b[38;5;241;43m1\u001b[39;49m\u001b[43m]\u001b[49m\n",
      "\u001b[1;31mTypeError\u001b[0m: 'builtin_function_or_method' object is not subscriptable"
     ]
    }
   ],
   "source": [
    "numlist.index[1]"
   ]
  },
  {
   "cell_type": "code",
   "execution_count": 50,
   "id": "61a06046",
   "metadata": {},
   "outputs": [
    {
     "name": "stdout",
     "output_type": "stream",
     "text": [
      "['zero', 'one', 'four', 'six', 'seven']\n"
     ]
    }
   ],
   "source": [
    "wd = \"onefourzerosixseven\"\n",
    "lst = [\"zero\",\"one\", \"two\", \"three\", \"four\", \"five\", \"six\", \"seven\", \"eight\", \"nine\"]\n",
    "tmp=[]\n",
    "for i in lst:\n",
    "    if i in wd:\n",
    "        tmp.append(wd[wd.find(i):wd.find(i)+len(i)])\n",
    "print(tmp)"
   ]
  },
  {
   "cell_type": "code",
   "execution_count": 52,
   "id": "2a6980a8",
   "metadata": {},
   "outputs": [
    {
     "data": {
      "text/plain": [
       "3"
      ]
     },
     "execution_count": 52,
     "metadata": {},
     "output_type": "execute_result"
    }
   ],
   "source": [
    "wd.count(wd[0])"
   ]
  },
  {
   "cell_type": "code",
   "execution_count": 43,
   "id": "3107ed60",
   "metadata": {},
   "outputs": [
    {
     "data": {
      "text/plain": [
       "'one'"
      ]
     },
     "execution_count": 43,
     "metadata": {},
     "output_type": "execute_result"
    }
   ],
   "source": [
    "wd[0:3]"
   ]
  },
  {
   "cell_type": "code",
   "execution_count": 44,
   "id": "0e46810a",
   "metadata": {},
   "outputs": [
    {
     "data": {
      "text/plain": [
       "'fourzero'"
      ]
     },
     "execution_count": 44,
     "metadata": {},
     "output_type": "execute_result"
    }
   ],
   "source": [
    "wd[3:11]"
   ]
  },
  {
   "cell_type": "code",
   "execution_count": 47,
   "id": "7137a4dc",
   "metadata": {},
   "outputs": [
    {
     "data": {
      "text/plain": [
       "4"
      ]
     },
     "execution_count": 47,
     "metadata": {},
     "output_type": "execute_result"
    }
   ],
   "source": [
    "len(lst[i])"
   ]
  },
  {
   "cell_type": "code",
   "execution_count": 53,
   "id": "174ab04e",
   "metadata": {},
   "outputs": [
    {
     "data": {
      "text/plain": [
       "['zero', 'one', 'two']"
      ]
     },
     "execution_count": 53,
     "metadata": {},
     "output_type": "execute_result"
    }
   ],
   "source": [
    "lst[0:3]"
   ]
  },
  {
   "cell_type": "code",
   "execution_count": 1,
   "id": "149449d0",
   "metadata": {},
   "outputs": [
    {
     "name": "stdout",
     "output_type": "stream",
     "text": [
      "6\n",
      "7\n",
      "8\n"
     ]
    }
   ],
   "source": [
    "x = 0\n",
    "while x<10:\n",
    "    x+=1\n",
    "    if x<=5:\n",
    "        continue\n",
    "    if x>8:\n",
    "        break\n",
    "    print(x)"
   ]
  },
  {
   "cell_type": "code",
   "execution_count": null,
   "id": "5f4a8c27",
   "metadata": {},
   "outputs": [],
   "source": []
  }
 ],
 "metadata": {
  "kernelspec": {
   "display_name": "Python 3 (ipykernel)",
   "language": "python",
   "name": "python3"
  },
  "language_info": {
   "codemirror_mode": {
    "name": "ipython",
    "version": 3
   },
   "file_extension": ".py",
   "mimetype": "text/x-python",
   "name": "python",
   "nbconvert_exporter": "python",
   "pygments_lexer": "ipython3",
   "version": "3.9.12"
  }
 },
 "nbformat": 4,
 "nbformat_minor": 5
}
