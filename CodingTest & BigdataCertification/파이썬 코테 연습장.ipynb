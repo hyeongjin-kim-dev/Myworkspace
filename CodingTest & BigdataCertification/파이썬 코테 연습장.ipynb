{
 "cells": [
  {
   "cell_type": "markdown",
   "id": "9225c63c",
   "metadata": {},
   "source": [
    "# 10950"
   ]
  },
  {
   "cell_type": "code",
   "execution_count": 21,
   "id": "f6af2d1a",
   "metadata": {},
   "outputs": [
    {
     "name": "stdout",
     "output_type": "stream",
     "text": [
      "5\n",
      "1 1\n",
      "2 3 \n",
      "3 4\n",
      "3 3 \n",
      "2 2 \n",
      "4\n"
     ]
    }
   ],
   "source": [
    "n = int(input())\n",
    "for i in range(n):\n",
    "    a,b = map(int,input().split())\n",
    "    result = a+b\n",
    "    print(result)"
   ]
  },
  {
   "cell_type": "markdown",
   "id": "c900be4b",
   "metadata": {},
   "source": [
    "# 2739"
   ]
  },
  {
   "cell_type": "code",
   "execution_count": 28,
   "id": "6fd08633",
   "metadata": {},
   "outputs": [
    {
     "name": "stdout",
     "output_type": "stream",
     "text": [
      "2\n",
      "2 * 1 = 2\n",
      "2 * 2 = 4\n",
      "2 * 3 = 6\n",
      "2 * 4 = 8\n",
      "2 * 5 = 10\n",
      "2 * 6 = 12\n",
      "2 * 7 = 14\n",
      "2 * 8 = 16\n",
      "2 * 9 = 18\n"
     ]
    }
   ],
   "source": [
    "n = int(input())\n",
    "for i in range(1,10):\n",
    "#     print(f'{n}*{i}={n*i}')\n",
    "    print(n, '*', i, '=', n*i)"
   ]
  },
  {
   "cell_type": "markdown",
   "id": "975be1ce",
   "metadata": {},
   "source": [
    "# 5597"
   ]
  },
  {
   "cell_type": "code",
   "execution_count": 8,
   "id": "77958345",
   "metadata": {},
   "outputs": [
    {
     "name": "stdout",
     "output_type": "stream",
     "text": [
      "3\n",
      "1\n",
      "4\n",
      "5\n",
      "7\n",
      "9\n",
      "6\n",
      "10\n",
      "11\n",
      "12\n",
      "13\n",
      "14\n",
      "15\n",
      "16\n",
      "17\n",
      "18\n",
      "19\n",
      "20\n",
      "21\n",
      "22\n",
      "23\n",
      "24\n",
      "25\n",
      "26\n",
      "27\n",
      "28\n",
      "29\n",
      "30\n",
      "2\n",
      "8\n"
     ]
    }
   ],
   "source": [
    "students = [i for i in range(1,31)]\n",
    "\n",
    "for _ in range(28):\n",
    "    applied = int(input())\n",
    "    students.remove(applied) #소거\n",
    "\n",
    "print(min(students))\n",
    "print(max(students))"
   ]
  },
  {
   "cell_type": "markdown",
   "id": "63693eb4",
   "metadata": {},
   "source": [
    "# 3052"
   ]
  },
  {
   "cell_type": "code",
   "execution_count": 21,
   "id": "8fd4d17f",
   "metadata": {},
   "outputs": [
    {
     "name": "stdout",
     "output_type": "stream",
     "text": [
      "1\n",
      "2\n",
      "3\n",
      "4\n",
      "5\n",
      "6\n",
      "7\n",
      "8\n",
      "9\n",
      "10\n",
      "10\n"
     ]
    }
   ],
   "source": [
    "arr = []\n",
    "for i in range(10):\n",
    "    n = int(input())\n",
    "    arr.append(n % 42)\n",
    "arr = set(arr)\n",
    "print(len(arr))"
   ]
  },
  {
   "cell_type": "markdown",
   "id": "63f31f20",
   "metadata": {},
   "source": [
    "# 1546"
   ]
  },
  {
   "cell_type": "code",
   "execution_count": 41,
   "id": "f59b2e74",
   "metadata": {},
   "outputs": [
    {
     "name": "stdout",
     "output_type": "stream",
     "text": [
      "3\n",
      "1 2 3\n"
     ]
    },
    {
     "ename": "TypeError",
     "evalue": "int() argument must be a string, a bytes-like object or a number, not 'list'",
     "output_type": "error",
     "traceback": [
      "\u001b[1;31m---------------------------------------------------------------------------\u001b[0m",
      "\u001b[1;31mTypeError\u001b[0m                                 Traceback (most recent call last)",
      "Input \u001b[1;32mIn [41]\u001b[0m, in \u001b[0;36m<cell line: 2>\u001b[1;34m()\u001b[0m\n\u001b[0;32m      1\u001b[0m n \u001b[38;5;241m=\u001b[39m \u001b[38;5;28mint\u001b[39m(\u001b[38;5;28minput\u001b[39m())\n\u001b[1;32m----> 2\u001b[0m sub \u001b[38;5;241m=\u001b[39m [\u001b[38;5;28;43mint\u001b[39;49m\u001b[43m(\u001b[49m\u001b[38;5;28;43minput\u001b[39;49m\u001b[43m(\u001b[49m\u001b[43m)\u001b[49m\u001b[38;5;241;43m.\u001b[39;49m\u001b[43msplit\u001b[49m\u001b[43m(\u001b[49m\u001b[43m)\u001b[49m\u001b[43m)\u001b[49m]\n\u001b[0;32m      3\u001b[0m m\u001b[38;5;241m=\u001b[39m\u001b[38;5;28mmax\u001b[39m(sub)\n\u001b[0;32m      4\u001b[0m \u001b[38;5;28mprint\u001b[39m(m)\n",
      "\u001b[1;31mTypeError\u001b[0m: int() argument must be a string, a bytes-like object or a number, not 'list'"
     ]
    }
   ],
   "source": [
    "n = int(input())\n",
    "sub = [int(input().split())]\n",
    "m=max(sub)\n",
    "print(m)"
   ]
  },
  {
   "cell_type": "markdown",
   "id": "5f63d60b",
   "metadata": {},
   "source": [
    "# 2738"
   ]
  },
  {
   "cell_type": "code",
   "execution_count": 48,
   "id": "874e38ae",
   "metadata": {},
   "outputs": [
    {
     "name": "stdout",
     "output_type": "stream",
     "text": [
      "3 3\n",
      "1 1 1\n",
      "2 2 2\n",
      "0 1 0\n",
      "3 3 3\n",
      "4 4 4\n",
      "5 5 100\n",
      "4 4 4 \n",
      "6 6 6 \n",
      "5 6 100 \n"
     ]
    }
   ],
   "source": [
    "A, B = [], []\n",
    "\n",
    "N, M = map(int, input().split())\n",
    "\n",
    "for row in range(N):\n",
    "    row = list(map(int, input().split()))\n",
    "    A.append(row)\n",
    "\n",
    "for row in range(N):\n",
    "    row = list(map(int, input().split()))\n",
    "    B.append(row)\n",
    "    \n",
    "for row in range(N):\n",
    "    for col in range(M):\n",
    "        print(A[row][col] + B[row][col], end=' ')\n",
    "    print()"
   ]
  },
  {
   "cell_type": "markdown",
   "id": "d2e69a23",
   "metadata": {},
   "source": [
    "# 10809"
   ]
  },
  {
   "cell_type": "code",
   "execution_count": 12,
   "id": "ba854ab6",
   "metadata": {},
   "outputs": [
    {
     "name": "stdout",
     "output_type": "stream",
     "text": [
      "apple\n",
      "0\n",
      "-1\n",
      "-1\n",
      "-1\n",
      "4\n",
      "-1\n",
      "-1\n",
      "-1\n",
      "-1\n",
      "-1\n",
      "-1\n",
      "3\n",
      "-1\n",
      "-1\n",
      "-1\n",
      "1\n",
      "-1\n",
      "-1\n",
      "-1\n",
      "-1\n",
      "-1\n",
      "-1\n",
      "-1\n",
      "-1\n",
      "-1\n",
      "-1\n"
     ]
    }
   ],
   "source": [
    "word = input()\n",
    "alphabet = list(range(97,123))  # 아스키코드 숫자 범위\n",
    "\n",
    "for x in alphabet :\n",
    "    print(word.find(chr(x)))"
   ]
  },
  {
   "cell_type": "markdown",
   "id": "3bb572d6",
   "metadata": {},
   "source": [
    "# 2675"
   ]
  },
  {
   "cell_type": "code",
   "execution_count": 11,
   "id": "0bc3587f",
   "metadata": {},
   "outputs": [
    {
     "name": "stdout",
     "output_type": "stream",
     "text": [
      "2\n",
      "3 ABC\n",
      "AAABBBCCC\n",
      "5 /HTP\n",
      "/////HHHHHTTTTTPPPPP\n"
     ]
    }
   ],
   "source": [
    "t = int(input())\n",
    "for i in range(t):\n",
    "    num, s = input().split()\n",
    "    text = ''\n",
    "    for i in s:\n",
    "        text += int(num) * i\n",
    "    print(text)"
   ]
  },
  {
   "cell_type": "markdown",
   "id": "394bc946",
   "metadata": {},
   "source": [
    "# 1157"
   ]
  },
  {
   "cell_type": "code",
   "execution_count": 15,
   "id": "05a5029c",
   "metadata": {},
   "outputs": [
    {
     "name": "stdout",
     "output_type": "stream",
     "text": [
      "appppple\n",
      "P\n"
     ]
    }
   ],
   "source": [
    "words = input().upper()\n",
    "unique_words = list(set(words))  # 입력받은 문자열에서 중복값을 제거\n",
    "\n",
    "cnt_list = []\n",
    "for x in unique_words :\n",
    "    cnt = words.count(x)\n",
    "    cnt_list.append(cnt)  # count 숫자를 리스트에 append\n",
    "\n",
    "if cnt_list.count(max(cnt_list)) > 1 :  # count 숫자 최대값이 중복되면\n",
    "    print('?')\n",
    "else :\n",
    "    max_index = cnt_list.index(max(cnt_list))  # count 숫자 최대값 인덱스(위치)\n",
    "    print(unique_words[max_index])"
   ]
  },
  {
   "cell_type": "markdown",
   "id": "f37cd9ca",
   "metadata": {},
   "source": [
    "# 1152"
   ]
  },
  {
   "cell_type": "code",
   "execution_count": 24,
   "id": "7509640c",
   "metadata": {},
   "outputs": [
    {
     "name": "stdout",
     "output_type": "stream",
     "text": [
      "the tiger is lion\n",
      "4\n"
     ]
    }
   ],
   "source": [
    "a = list(input().split())\n",
    "print(len(a))"
   ]
  },
  {
   "cell_type": "markdown",
   "id": "6e51557b",
   "metadata": {},
   "source": [
    "# 2908"
   ]
  },
  {
   "cell_type": "code",
   "execution_count": 10,
   "id": "970c0f24",
   "metadata": {},
   "outputs": [
    {
     "name": "stdout",
     "output_type": "stream",
     "text": [
      "221 231\n",
      "132\n"
     ]
    }
   ],
   "source": [
    "#내가 짠거\n",
    "\n",
    "\n",
    "A,B = map(int,input().split())\n",
    "A_lst = list(map(int,str(A)))\n",
    "B_lst = list(map(int,str(B)))\n",
    "for i in range(len(A_lst)-1,-1,-1):\n",
    "    if A_lst[i]>B_lst[i]:\n",
    "        tmp = ''.join(map(str,A_lst))\n",
    "        print(int(str(tmp)[::-1]))\n",
    "        break\n",
    "    else:\n",
    "        tmp = ''.join(map(str,B_lst))\n",
    "        print(int(str(tmp)[::-1]))\n",
    "        break"
   ]
  },
  {
   "cell_type": "code",
   "execution_count": 11,
   "id": "f81c11f4",
   "metadata": {},
   "outputs": [
    {
     "name": "stdout",
     "output_type": "stream",
     "text": [
      "221 231\n",
      "132\n"
     ]
    }
   ],
   "source": [
    "num1, num2 = input().split()\n",
    "num1 = int(num1[::-1])  # [::-1] : 역순\n",
    "num2 = int(num2[::-1])\n",
    "\n",
    "if num1 > num2:\n",
    "    print(num1)\n",
    "else :\n",
    "    print(num2)"
   ]
  },
  {
   "cell_type": "markdown",
   "id": "a5e3ff20",
   "metadata": {},
   "source": [
    "# 1316"
   ]
  },
  {
   "cell_type": "code",
   "execution_count": 20,
   "id": "483aee49",
   "metadata": {},
   "outputs": [
    {
     "name": "stdout",
     "output_type": "stream",
     "text": [
      "3\n",
      "happy\n",
      "new\n",
      "year\n",
      "3\n"
     ]
    }
   ],
   "source": [
    "n = int(input())\n",
    "\n",
    "group_word = 0\n",
    "for _ in range(n):\n",
    "    word = input()\n",
    "    error = 0\n",
    "    for index in range(len(word)-1):  # 인덱스 범위 생성 : 0부터 단어개수 -1까지 \n",
    "        if word[index] != word[index+1]:  # 연달은 두 문자가 다른 때,\n",
    "            new_word = word[index+1:]  # 현재글자 이후 문자열을 새로운 단어로 생성\n",
    "            if new_word.count(word[index]) > 0:  # 남은 문자열에서 현재글자가 있있다면\n",
    "                error += 1  # error에 1씩 증가.\n",
    "    if error == 0:  \n",
    "        group_word += 1  # error가 0이면 그룹단어\n",
    "print(group_word)"
   ]
  },
  {
   "cell_type": "markdown",
   "id": "23f0c1dd",
   "metadata": {},
   "source": [
    "# 1712"
   ]
  },
  {
   "cell_type": "code",
   "execution_count": 3,
   "id": "765a0945",
   "metadata": {},
   "outputs": [
    {
     "name": "stdout",
     "output_type": "stream",
     "text": [
      "1000 70 170\n",
      "11\n"
     ]
    }
   ],
   "source": [
    "# 내가 푼거\n",
    "\n",
    "A,B,C = map(int,input().split())\n",
    "cnt = 1\n",
    "while True:\n",
    "    if C*cnt <=  A+B*cnt:\n",
    "        cnt+=1\n",
    "    else:\n",
    "        print(cnt)\n",
    "        break"
   ]
  },
  {
   "cell_type": "code",
   "execution_count": 4,
   "id": "6004f5b3",
   "metadata": {},
   "outputs": [
    {
     "name": "stdout",
     "output_type": "stream",
     "text": [
      "3 2 1\n",
      "-1\n"
     ]
    }
   ],
   "source": [
    "# 정답\n",
    "\n",
    "A, B, C = map(int, input().split())\n",
    "\n",
    "if B>=C:\n",
    "    print(-1)\n",
    "else:\n",
    "    print(int(A/(C-B)+1))"
   ]
  },
  {
   "cell_type": "markdown",
   "id": "1520ea09",
   "metadata": {},
   "source": [
    "# 2292"
   ]
  },
  {
   "cell_type": "code",
   "execution_count": 5,
   "id": "34f1b301",
   "metadata": {},
   "outputs": [
    {
     "name": "stdout",
     "output_type": "stream",
     "text": [
      "13\n",
      "3\n"
     ]
    }
   ],
   "source": [
    "n = int(input())\n",
    "cnt = 1\n",
    "cnt_six = 6\n",
    "count = 1\n",
    "while n > cnt:\n",
    "    count += 1\n",
    "    cnt += cnt_six\n",
    "    cnt_six += 6\n",
    "print(count)"
   ]
  },
  {
   "cell_type": "markdown",
   "id": "4a41b857",
   "metadata": {},
   "source": [
    "# 1193"
   ]
  },
  {
   "cell_type": "code",
   "execution_count": 7,
   "id": "51a00d27",
   "metadata": {},
   "outputs": [
    {
     "name": "stdout",
     "output_type": "stream",
     "text": [
      "3\n",
      "2/1\n"
     ]
    }
   ],
   "source": [
    "X=int(input())\n",
    "\n",
    "line=1\n",
    "while X>line:\n",
    "    X-=line\n",
    "    line+=1\n",
    "    \n",
    "if line%2==0:\n",
    "    a=X\n",
    "    b=line-X+1\n",
    "else:\n",
    "    a=line-X+1\n",
    "    b=X\n",
    "print(a, '/', b, sep='')"
   ]
  },
  {
   "cell_type": "markdown",
   "id": "71e9d3f4",
   "metadata": {},
   "source": [
    "# 2869"
   ]
  },
  {
   "cell_type": "code",
   "execution_count": null,
   "id": "096368e4",
   "metadata": {},
   "outputs": [],
   "source": [
    "# 내가 짠 코드\n",
    "\n",
    "A,B,V = map(int,input().split())\n",
    "result=0\n",
    "\n",
    "while V>0:\n",
    "    v-=A\n",
    "    if \n",
    "    cnt+=1\n",
    "\n",
    "    if result+A >=V:\n",
    "        cnt+=1\n",
    "        break\n"
   ]
  },
  {
   "cell_type": "code",
   "execution_count": 33,
   "id": "7eef1f3c",
   "metadata": {},
   "outputs": [
    {
     "name": "stdout",
     "output_type": "stream",
     "text": [
      "2 1 5\n",
      "4\n"
     ]
    }
   ],
   "source": [
    "A, B, V = map(int, input().split())\n",
    "\n",
    "day=1\n",
    "while V>0:\n",
    "    V-=A\n",
    "    if V<=0:\n",
    "        break\n",
    "    V+=B\n",
    "    day+=1\n",
    "\n",
    "print(day)"
   ]
  },
  {
   "cell_type": "code",
   "execution_count": 34,
   "id": "1e896e37",
   "metadata": {},
   "outputs": [
    {
     "name": "stdout",
     "output_type": "stream",
     "text": [
      "2 1 5\n",
      "4\n"
     ]
    }
   ],
   "source": [
    "import math\n",
    "A, B, V = map(int, input().split())\n",
    "print(math.ceil((V-A)/(A-B))+1)"
   ]
  },
  {
   "cell_type": "markdown",
   "id": "45923f01",
   "metadata": {},
   "source": [
    "# 10250"
   ]
  },
  {
   "cell_type": "code",
   "execution_count": null,
   "id": "8ec86117",
   "metadata": {},
   "outputs": [],
   "source": [
    "# 내가 푼거\n",
    "T = int(input())\n",
    "for i in range(T):\n",
    "    H,W,N=map(int,input().split())\n",
    "    x = N//H+1\n",
    "    y= N%H\n",
    "    if x<10:     \n",
    "        print(str(y)+\"0\"+str(x))\n",
    "    else:\n",
    "        print(str(y)+str(x))\n",
    "\n",
    "# N이 H의 배수일 때 신경을 못씀"
   ]
  },
  {
   "cell_type": "code",
   "execution_count": 45,
   "id": "36548338",
   "metadata": {},
   "outputs": [
    {
     "data": {
      "text/plain": [
       "1"
      ]
     },
     "execution_count": 45,
     "metadata": {},
     "output_type": "execute_result"
    }
   ],
   "source": [
    "10//6"
   ]
  },
  {
   "cell_type": "code",
   "execution_count": 51,
   "id": "d5c0cc29",
   "metadata": {},
   "outputs": [
    {
     "name": "stdout",
     "output_type": "stream",
     "text": [
      "1\n",
      "5 12 10\n",
      "502\n"
     ]
    }
   ],
   "source": [
    "# 정식\n",
    "t = int(input())\n",
    "\n",
    "for i in range(t):\n",
    "    h, w, n = map(int, input().split())\n",
    "    num = n//h + 1\n",
    "    floor = n % h\n",
    "    if n % h == 0:  # h의 배수이면,\n",
    "        num = n//h\n",
    "        floor = h\n",
    "    print(f'{floor*100+num}')"
   ]
  },
  {
   "cell_type": "markdown",
   "id": "9621cfb2",
   "metadata": {},
   "source": [
    "# 2775"
   ]
  },
  {
   "cell_type": "code",
   "execution_count": 55,
   "id": "0e0ade7a",
   "metadata": {},
   "outputs": [
    {
     "name": "stdout",
     "output_type": "stream",
     "text": [
      "2\n",
      "1\n",
      "3\n",
      "6\n",
      "2\n",
      "3\n",
      "10\n"
     ]
    }
   ],
   "source": [
    "t = int(input())\n",
    "for _ in range(t):\n",
    "    floor = int(input())\n",
    "    num = int(input())\n",
    "    f0 = [x for x in range(1,num+1)]\n",
    "    for i in range(floor):\n",
    "        for j in range(1,num):\n",
    "            f0[j]+=f0[j-1]\n",
    "    print(f0[-1])"
   ]
  },
  {
   "cell_type": "markdown",
   "id": "d9db0a4b",
   "metadata": {},
   "source": [
    "# 2839"
   ]
  },
  {
   "cell_type": "code",
   "execution_count": 62,
   "id": "b0c357b5",
   "metadata": {},
   "outputs": [
    {
     "name": "stdout",
     "output_type": "stream",
     "text": [
      "11\n",
      "-1\n"
     ]
    }
   ],
   "source": [
    "# 내가 푼거\n",
    "\n",
    "N = int(input())\n",
    "if (N%5)%3==0:\n",
    "    a=N//5\n",
    "    b=(N%5)//3\n",
    "    print(a+b)\n",
    "elif(N%3)%5==0:\n",
    "    a=N//3\n",
    "    b=(N%3)%5\n",
    "    print(a+b)\n",
    "else:\n",
    "    print(-1)\n",
    "    \n",
    "# 11. 13 등 이 해결이 안됨"
   ]
  },
  {
   "cell_type": "code",
   "execution_count": 65,
   "id": "09ddc810",
   "metadata": {},
   "outputs": [
    {
     "name": "stdout",
     "output_type": "stream",
     "text": [
      "11\n",
      "3\n"
     ]
    }
   ],
   "source": [
    "# 정식\n",
    "\n",
    "sugar = int(input())\n",
    "\n",
    "bag = 0\n",
    "while sugar >= 0 :\n",
    "    if sugar % 5 == 0 :  # 5의 배수이면\n",
    "        bag += (sugar // 5)  # 5로 나눈 몫을 구해야 정수가 됨\n",
    "        print(bag)\n",
    "        break\n",
    "    sugar -= 3  \n",
    "    bag += 1  # 5의 배수가 될 때까지 설탕-3, 봉지+1\n",
    "else :\n",
    "    print(-1)"
   ]
  },
  {
   "cell_type": "markdown",
   "id": "4063dbc9",
   "metadata": {},
   "source": [
    "# 11/2"
   ]
  },
  {
   "cell_type": "markdown",
   "id": "92168c98",
   "metadata": {},
   "source": [
    "## 2581"
   ]
  },
  {
   "cell_type": "code",
   "execution_count": 19,
   "id": "cdc22e62",
   "metadata": {},
   "outputs": [
    {
     "name": "stdout",
     "output_type": "stream",
     "text": [
      "64\n",
      "65\n",
      "-1\n"
     ]
    }
   ],
   "source": [
    "M=int(input())\n",
    "N=int(input())\n",
    "result=[]\n",
    "for i in range(M,N+1):\n",
    "    count=0\n",
    "    if i>1:\n",
    "        for j in range(2,i):\n",
    "            if i%j==0:\n",
    "                count+=1\n",
    "                break\n",
    "        if count==0:\n",
    "            result.append(i)\n",
    "if len(result) >0:\n",
    "    print(sum(result))\n",
    "    print(min(result))\n",
    "else:\n",
    "    print(-1)"
   ]
  },
  {
   "cell_type": "markdown",
   "id": "8f370b35",
   "metadata": {},
   "source": [
    "## 11653"
   ]
  },
  {
   "cell_type": "code",
   "execution_count": 23,
   "id": "ec846fc4",
   "metadata": {},
   "outputs": [
    {
     "name": "stdout",
     "output_type": "stream",
     "text": [
      "9991\n",
      "97\n",
      "103\n"
     ]
    }
   ],
   "source": [
    "N=int(input())\n",
    "i=2\n",
    "while N!=1:\n",
    "    if N%i==0:\n",
    "        N=N//i\n",
    "        print(i)\n",
    "    else:\n",
    "        i+=1"
   ]
  },
  {
   "cell_type": "markdown",
   "id": "8f6579b8",
   "metadata": {},
   "source": [
    "## 1929"
   ]
  },
  {
   "cell_type": "code",
   "execution_count": 37,
   "id": "8efc0c4d",
   "metadata": {},
   "outputs": [
    {
     "name": "stdout",
     "output_type": "stream",
     "text": [
      "3 16\n",
      "3\n",
      "5\n",
      "7\n",
      "11\n",
      "13\n"
     ]
    }
   ],
   "source": [
    "M,N = map(int,input().split())\n",
    "\n",
    "for i in range(M,N+1):\n",
    "    if i>1:    \n",
    "        for j in range(2,i+1):\n",
    "            if i%j==0:\n",
    "                if i==j:\n",
    "                    print(i)\n",
    "                break"
   ]
  },
  {
   "cell_type": "markdown",
   "id": "8776a706",
   "metadata": {},
   "source": [
    "## 4948"
   ]
  },
  {
   "cell_type": "code",
   "execution_count": 49,
   "id": "88f9413e",
   "metadata": {},
   "outputs": [
    {
     "name": "stdout",
     "output_type": "stream",
     "text": [
      "10\n",
      "4\n",
      "20\n",
      "4\n",
      "0\n"
     ]
    }
   ],
   "source": [
    "# 정답코드\n",
    "\n",
    "n=123456\n",
    "\n",
    "# 에라토스테네스의 체\n",
    "def prime_list(n):\n",
    "    if n == 1:\n",
    "        return False\n",
    "    for i in range(2,int(n**0.5)+1):\n",
    "        if n%i == 0:\n",
    "            return False\n",
    "    return True\t\t\n",
    "\n",
    "primes_list = list(range(2,246912))\n",
    "ans_list = []\n",
    "\n",
    "for i in primes_list:\n",
    "    # 만약 소수에 해당하면 prime_list 함수에서 true를 반환 받을 것입니다.\n",
    "    if prime_list(i):\n",
    "        # true를 반환 받는다면 ans_list에 해당 원소(i)를 추가해줍니다.\n",
    "        ans_list.append(i)\n",
    "        \n",
    "        \n",
    "while True:\n",
    "    \n",
    "    cnt = 0\n",
    "\n",
    "    num = int(input())\n",
    "\n",
    "    # 0을 입력받으면 종료    \n",
    "    if num == 0:\n",
    "        break\n",
    "    \n",
    "    for i in ans_list:\n",
    "        if num < i < 2*num+1:\n",
    "            cnt += 1\n",
    "            \n",
    "    print(cnt)"
   ]
  },
  {
   "cell_type": "markdown",
   "id": "8a6c6ebd",
   "metadata": {},
   "source": [
    "## 2750"
   ]
  },
  {
   "cell_type": "code",
   "execution_count": 64,
   "id": "023c2a42",
   "metadata": {},
   "outputs": [
    {
     "name": "stdout",
     "output_type": "stream",
     "text": [
      "5\n",
      "5\n",
      "2\n",
      "3\n",
      "4\n",
      "1\n",
      "1\n",
      "2\n",
      "3\n",
      "4\n",
      "5\n"
     ]
    }
   ],
   "source": [
    "N = int(input())\n",
    "res=[]\n",
    "for i in range(N):\n",
    "    res.append(int(input()))\n",
    "    res.sort()\n",
    "\n",
    "for j in range(len(res)):\n",
    "    print(res[j])\n"
   ]
  },
  {
   "cell_type": "code",
   "execution_count": 56,
   "id": "7d1ef632",
   "metadata": {},
   "outputs": [],
   "source": [
    "a.sort(reverse=True)"
   ]
  },
  {
   "cell_type": "code",
   "execution_count": 57,
   "id": "f9cf2fff",
   "metadata": {},
   "outputs": [
    {
     "name": "stdout",
     "output_type": "stream",
     "text": [
      "[5, 4, 3, 2, 1]\n"
     ]
    }
   ],
   "source": [
    "print(a)"
   ]
  },
  {
   "cell_type": "markdown",
   "id": "ef9a2f72",
   "metadata": {},
   "source": [
    "## 2587"
   ]
  },
  {
   "cell_type": "code",
   "execution_count": 73,
   "id": "ee84644c",
   "metadata": {},
   "outputs": [
    {
     "name": "stdout",
     "output_type": "stream",
     "text": [
      "10\n",
      "30\n",
      "40\n",
      "60\n",
      "30\n",
      "34\n",
      "30\n"
     ]
    }
   ],
   "source": [
    "res = []\n",
    "for _ in range(5):\n",
    "    res.append(int(input()))\n",
    "    res.sort()\n",
    "\n",
    "print(int(sum(res)/len(res)))\n",
    "print(res[2])"
   ]
  },
  {
   "cell_type": "markdown",
   "id": "e7f03882",
   "metadata": {},
   "source": [
    "## 25305"
   ]
  },
  {
   "cell_type": "code",
   "execution_count": 1,
   "id": "3c5723d6",
   "metadata": {},
   "outputs": [
    {
     "name": "stdout",
     "output_type": "stream",
     "text": [
      "1\n"
     ]
    },
    {
     "ename": "ValueError",
     "evalue": "not enough values to unpack (expected 2, got 1)",
     "output_type": "error",
     "traceback": [
      "\u001b[1;31m---------------------------------------------------------------------------\u001b[0m",
      "\u001b[1;31mValueError\u001b[0m                                Traceback (most recent call last)",
      "Input \u001b[1;32mIn [1]\u001b[0m, in \u001b[0;36m<cell line: 1>\u001b[1;34m()\u001b[0m\n\u001b[1;32m----> 1\u001b[0m N,k \u001b[38;5;241m=\u001b[39m \u001b[38;5;28mmap\u001b[39m(\u001b[38;5;28mint\u001b[39m,\u001b[38;5;28minput\u001b[39m()\u001b[38;5;241m.\u001b[39msplit())\n\u001b[0;32m      2\u001b[0m score \u001b[38;5;241m=\u001b[39m \u001b[38;5;28mlist\u001b[39m(\u001b[38;5;28mmap\u001b[39m(\u001b[38;5;28mint\u001b[39m,\u001b[38;5;28minput\u001b[39m()\u001b[38;5;241m.\u001b[39msplit()))\n\u001b[0;32m      4\u001b[0m score\u001b[38;5;241m.\u001b[39msort(reverse\u001b[38;5;241m=\u001b[39m\u001b[38;5;28;01mTrue\u001b[39;00m)\n",
      "\u001b[1;31mValueError\u001b[0m: not enough values to unpack (expected 2, got 1)"
     ]
    }
   ],
   "source": [
    "N,k = map(int,input().split())\n",
    "score = list(map(int,input().split()))\n",
    "\n",
    "score.sort(reverse=True)\n",
    "print(score[k-1])"
   ]
  },
  {
   "cell_type": "markdown",
   "id": "ed7a63eb",
   "metadata": {},
   "source": [
    "## 2751"
   ]
  },
  {
   "cell_type": "code",
   "execution_count": 1,
   "id": "29bc550b",
   "metadata": {},
   "outputs": [
    {
     "name": "stdout",
     "output_type": "stream",
     "text": [
      "123 123 \n"
     ]
    },
    {
     "ename": "ValueError",
     "evalue": "invalid literal for int() with base 10: '123 123 '",
     "output_type": "error",
     "traceback": [
      "\u001b[1;31m---------------------------------------------------------------------------\u001b[0m",
      "\u001b[1;31mValueError\u001b[0m                                Traceback (most recent call last)",
      "Input \u001b[1;32mIn [1]\u001b[0m, in \u001b[0;36m<cell line: 1>\u001b[1;34m()\u001b[0m\n\u001b[1;32m----> 1\u001b[0m N \u001b[38;5;241m=\u001b[39m \u001b[38;5;28;43mint\u001b[39;49m\u001b[43m(\u001b[49m\u001b[38;5;28;43minput\u001b[39;49m\u001b[43m(\u001b[49m\u001b[43m)\u001b[49m\u001b[43m)\u001b[49m\n\u001b[0;32m      2\u001b[0m res\u001b[38;5;241m=\u001b[39m[]\n\u001b[0;32m      3\u001b[0m \u001b[38;5;28;01mfor\u001b[39;00m i \u001b[38;5;129;01min\u001b[39;00m \u001b[38;5;28mrange\u001b[39m(N):\n",
      "\u001b[1;31mValueError\u001b[0m: invalid literal for int() with base 10: '123 123 '"
     ]
    }
   ],
   "source": [
    "N = int(input())\n",
    "res=[]\n",
    "for i in range(N):\n",
    "    res.append(int(input()))\n",
    "\n",
    "for i in sorted(res):\n",
    "    print(i)\n"
   ]
  },
  {
   "cell_type": "markdown",
   "id": "fbfcf398",
   "metadata": {},
   "source": [
    "## 10989"
   ]
  },
  {
   "cell_type": "code",
   "execution_count": 4,
   "id": "7b115b78",
   "metadata": {},
   "outputs": [
    {
     "name": "stdout",
     "output_type": "stream",
     "text": [
      "10\n",
      "5\n",
      "2\n",
      "3\n",
      "1\n",
      "4\n",
      "2\n",
      "3\n",
      "5\n",
      "1\n",
      "7\n",
      "1\n",
      "1\n",
      "2\n",
      "2\n",
      "3\n",
      "3\n",
      "4\n",
      "5\n",
      "5\n",
      "7\n"
     ]
    }
   ],
   "source": [
    "N = int(input())\n",
    "res=[]\n",
    "for _ in range(N):\n",
    "    res.append(int(input()))\n",
    "for i in sorted(res):\n",
    "    print(i)"
   ]
  },
  {
   "cell_type": "code",
   "execution_count": 5,
   "id": "06cd950f",
   "metadata": {},
   "outputs": [
    {
     "ename": "ValueError",
     "evalue": "invalid literal for int() with base 10: ''",
     "output_type": "error",
     "traceback": [
      "\u001b[1;31m---------------------------------------------------------------------------\u001b[0m",
      "\u001b[1;31mValueError\u001b[0m                                Traceback (most recent call last)",
      "Input \u001b[1;32mIn [5]\u001b[0m, in \u001b[0;36m<cell line: 3>\u001b[1;34m()\u001b[0m\n\u001b[0;32m      1\u001b[0m \u001b[38;5;28;01mimport\u001b[39;00m \u001b[38;5;21;01msys\u001b[39;00m\n\u001b[1;32m----> 3\u001b[0m n \u001b[38;5;241m=\u001b[39m \u001b[38;5;28;43mint\u001b[39;49m\u001b[43m(\u001b[49m\u001b[43msys\u001b[49m\u001b[38;5;241;43m.\u001b[39;49m\u001b[43mstdin\u001b[49m\u001b[38;5;241;43m.\u001b[39;49m\u001b[43mreadline\u001b[49m\u001b[43m(\u001b[49m\u001b[43m)\u001b[49m\u001b[43m)\u001b[49m\n\u001b[0;32m      4\u001b[0m num_list \u001b[38;5;241m=\u001b[39m [\u001b[38;5;241m0\u001b[39m] \u001b[38;5;241m*\u001b[39m \u001b[38;5;241m10001\u001b[39m\n\u001b[0;32m      6\u001b[0m \u001b[38;5;28;01mfor\u001b[39;00m _ \u001b[38;5;129;01min\u001b[39;00m \u001b[38;5;28mrange\u001b[39m(n):\n",
      "\u001b[1;31mValueError\u001b[0m: invalid literal for int() with base 10: ''"
     ]
    }
   ],
   "source": [
    "import sys\n",
    "\n",
    "n = int(sys.stdin.readline())\n",
    "num_list = [0] * 10001\n",
    "\n",
    "for _ in range(n):\n",
    "    num_list[int(sys.stdin.readline())] += 1\n",
    "\n",
    "for i in range(10001):\n",
    "    if num_list[i] != 0:\n",
    "        for j in range(num_list[i]):\n",
    "            print(i)"
   ]
  },
  {
   "cell_type": "markdown",
   "id": "db43bae8",
   "metadata": {},
   "source": [
    "## 2108"
   ]
  },
  {
   "cell_type": "code",
   "execution_count": 19,
   "id": "6ce16d95",
   "metadata": {
    "scrolled": true
   },
   "outputs": [
    {
     "name": "stdout",
     "output_type": "stream",
     "text": [
      "5\n",
      "1\n",
      "3\n",
      "8\n",
      "-2\n",
      "2\n",
      "{}\n"
     ]
    }
   ],
   "source": [
    "from collections import Counter\n",
    "\n",
    "N = int(input())\n",
    "res=[]\n",
    "test={}\n",
    "for _ in range(N):\n",
    "    res.append(int(input()))\n",
    "res.sort()  \n",
    "# print(round(sum(res)/N))\n",
    "# print(res[int(N-1)//2])\n",
    "for i in range(len(res)):\n",
    "    count=0\n",
    "    if res[i]==res[i-1]:\n",
    "        count+=1\n",
    "        test[res[i]]=count\n",
    "print(test)\n",
    "## 최빈값 어캐 구해?"
   ]
  },
  {
   "cell_type": "markdown",
   "id": "6c6487b9",
   "metadata": {},
   "source": [
    "## 1427"
   ]
  },
  {
   "cell_type": "code",
   "execution_count": 25,
   "id": "3e43688e",
   "metadata": {},
   "outputs": [
    {
     "name": "stdout",
     "output_type": "stream",
     "text": [
      "1234\n",
      "4321"
     ]
    }
   ],
   "source": [
    "nums = input()\n",
    "nums = [int(n)  for n in nums]\n",
    "\n",
    "ordered_nums = sorted(nums, reverse=True)\n",
    "\n",
    "for n in ordered_nums : \n",
    "    print(n, end=\"\")"
   ]
  },
  {
   "cell_type": "markdown",
   "id": "f3b6d22a",
   "metadata": {},
   "source": [
    "## 11650"
   ]
  },
  {
   "cell_type": "code",
   "execution_count": 9,
   "id": "9487aaaa",
   "metadata": {},
   "outputs": [
    {
     "name": "stdout",
     "output_type": "stream",
     "text": [
      "5\n",
      "3 4\n",
      "1 1\n",
      "1 -1\n",
      "2 2\n",
      "3 3\n",
      "[1, -1]\n",
      "[1, 1]\n",
      "[2, 2]\n",
      "[3, 3]\n",
      "[3, 4]\n"
     ]
    }
   ],
   "source": [
    "N = int(input())\n",
    "arr = []\n",
    "result_a=[]\n",
    "result_b=[]\n",
    "for i in range(N):\n",
    "    arr.append(list(map(int,input().split())))\n",
    "        \n",
    "for i in sorted(arr):\n",
    "    print(i)"
   ]
  },
  {
   "cell_type": "code",
   "execution_count": null,
   "id": "482723ab",
   "metadata": {},
   "outputs": [],
   "source": [
    "N=int(input())\n",
    "arr=[]\n",
    "for i in range(N):\n",
    "    a,b = map(int,input().split())\n",
    "    arr.append((a,b))\n",
    "arr.sort()\n",
    "for i in range(N):\n",
    "    print(arr[i][0],arr[i][1])"
   ]
  },
  {
   "cell_type": "markdown",
   "id": "6e5f3f22",
   "metadata": {},
   "source": [
    "## 10872"
   ]
  },
  {
   "cell_type": "code",
   "execution_count": 11,
   "id": "a0869080",
   "metadata": {},
   "outputs": [
    {
     "name": "stdout",
     "output_type": "stream",
     "text": [
      "5\n",
      "120\n"
     ]
    }
   ],
   "source": [
    "def factorial(n):\n",
    "    result = 1\n",
    "    if n > 0 :\n",
    "        result = n * factorial(n-1)\n",
    "    return result\n",
    "\n",
    "n = int(input())\n",
    "print(factorial(n))"
   ]
  },
  {
   "cell_type": "code",
   "execution_count": null,
   "id": "bf5d9f3f",
   "metadata": {},
   "outputs": [],
   "source": []
  }
 ],
 "metadata": {
  "kernelspec": {
   "display_name": "Python 3 (ipykernel)",
   "language": "python",
   "name": "python3"
  },
  "language_info": {
   "codemirror_mode": {
    "name": "ipython",
    "version": 3
   },
   "file_extension": ".py",
   "mimetype": "text/x-python",
   "name": "python",
   "nbconvert_exporter": "python",
   "pygments_lexer": "ipython3",
   "version": "3.9.12"
  }
 },
 "nbformat": 4,
 "nbformat_minor": 5
}
