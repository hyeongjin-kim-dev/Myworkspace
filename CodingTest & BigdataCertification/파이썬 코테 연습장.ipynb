{
 "cells": [
  {
   "cell_type": "markdown",
   "id": "9225c63c",
   "metadata": {},
   "source": [
    "# 10950"
   ]
  },
  {
   "cell_type": "code",
   "execution_count": 21,
   "id": "f6af2d1a",
   "metadata": {},
   "outputs": [
    {
     "name": "stdout",
     "output_type": "stream",
     "text": [
      "5\n",
      "1 1\n",
      "2 3 \n",
      "3 4\n",
      "3 3 \n",
      "2 2 \n",
      "4\n"
     ]
    }
   ],
   "source": [
    "n = int(input())\n",
    "for i in range(n):\n",
    "    a,b = map(int,input().split())\n",
    "    result = a+b\n",
    "    print(result)"
   ]
  },
  {
   "cell_type": "markdown",
   "id": "c900be4b",
   "metadata": {},
   "source": [
    "# 2739"
   ]
  },
  {
   "cell_type": "code",
   "execution_count": 28,
   "id": "6fd08633",
   "metadata": {},
   "outputs": [
    {
     "name": "stdout",
     "output_type": "stream",
     "text": [
      "2\n",
      "2 * 1 = 2\n",
      "2 * 2 = 4\n",
      "2 * 3 = 6\n",
      "2 * 4 = 8\n",
      "2 * 5 = 10\n",
      "2 * 6 = 12\n",
      "2 * 7 = 14\n",
      "2 * 8 = 16\n",
      "2 * 9 = 18\n"
     ]
    }
   ],
   "source": [
    "n = int(input())\n",
    "for i in range(1,10):\n",
    "#     print(f'{n}*{i}={n*i}')\n",
    "    print(n, '*', i, '=', n*i)"
   ]
  },
  {
   "cell_type": "markdown",
   "id": "975be1ce",
   "metadata": {},
   "source": [
    "# 5597"
   ]
  },
  {
   "cell_type": "code",
   "execution_count": 8,
   "id": "77958345",
   "metadata": {},
   "outputs": [
    {
     "name": "stdout",
     "output_type": "stream",
     "text": [
      "3\n",
      "1\n",
      "4\n",
      "5\n",
      "7\n",
      "9\n",
      "6\n",
      "10\n",
      "11\n",
      "12\n",
      "13\n",
      "14\n",
      "15\n",
      "16\n",
      "17\n",
      "18\n",
      "19\n",
      "20\n",
      "21\n",
      "22\n",
      "23\n",
      "24\n",
      "25\n",
      "26\n",
      "27\n",
      "28\n",
      "29\n",
      "30\n",
      "2\n",
      "8\n"
     ]
    }
   ],
   "source": [
    "students = [i for i in range(1,31)]\n",
    "\n",
    "for _ in range(28):\n",
    "    applied = int(input())\n",
    "    students.remove(applied) #소거\n",
    "\n",
    "print(min(students))\n",
    "print(max(students))"
   ]
  },
  {
   "cell_type": "markdown",
   "id": "63693eb4",
   "metadata": {},
   "source": [
    "# 3052"
   ]
  },
  {
   "cell_type": "code",
   "execution_count": 21,
   "id": "8fd4d17f",
   "metadata": {},
   "outputs": [
    {
     "name": "stdout",
     "output_type": "stream",
     "text": [
      "1\n",
      "2\n",
      "3\n",
      "4\n",
      "5\n",
      "6\n",
      "7\n",
      "8\n",
      "9\n",
      "10\n",
      "10\n"
     ]
    }
   ],
   "source": [
    "arr = []\n",
    "for i in range(10):\n",
    "    n = int(input())\n",
    "    arr.append(n % 42)\n",
    "arr = set(arr)\n",
    "print(len(arr))"
   ]
  },
  {
   "cell_type": "markdown",
   "id": "63f31f20",
   "metadata": {},
   "source": [
    "# 1546"
   ]
  },
  {
   "cell_type": "code",
   "execution_count": 41,
   "id": "f59b2e74",
   "metadata": {},
   "outputs": [
    {
     "name": "stdout",
     "output_type": "stream",
     "text": [
      "3\n",
      "1 2 3\n"
     ]
    },
    {
     "ename": "TypeError",
     "evalue": "int() argument must be a string, a bytes-like object or a number, not 'list'",
     "output_type": "error",
     "traceback": [
      "\u001b[1;31m---------------------------------------------------------------------------\u001b[0m",
      "\u001b[1;31mTypeError\u001b[0m                                 Traceback (most recent call last)",
      "Input \u001b[1;32mIn [41]\u001b[0m, in \u001b[0;36m<cell line: 2>\u001b[1;34m()\u001b[0m\n\u001b[0;32m      1\u001b[0m n \u001b[38;5;241m=\u001b[39m \u001b[38;5;28mint\u001b[39m(\u001b[38;5;28minput\u001b[39m())\n\u001b[1;32m----> 2\u001b[0m sub \u001b[38;5;241m=\u001b[39m [\u001b[38;5;28;43mint\u001b[39;49m\u001b[43m(\u001b[49m\u001b[38;5;28;43minput\u001b[39;49m\u001b[43m(\u001b[49m\u001b[43m)\u001b[49m\u001b[38;5;241;43m.\u001b[39;49m\u001b[43msplit\u001b[49m\u001b[43m(\u001b[49m\u001b[43m)\u001b[49m\u001b[43m)\u001b[49m]\n\u001b[0;32m      3\u001b[0m m\u001b[38;5;241m=\u001b[39m\u001b[38;5;28mmax\u001b[39m(sub)\n\u001b[0;32m      4\u001b[0m \u001b[38;5;28mprint\u001b[39m(m)\n",
      "\u001b[1;31mTypeError\u001b[0m: int() argument must be a string, a bytes-like object or a number, not 'list'"
     ]
    }
   ],
   "source": [
    "n = int(input())\n",
    "sub = [int(input().split())]\n",
    "m=max(sub)\n",
    "print(m)"
   ]
  },
  {
   "cell_type": "markdown",
   "id": "5f63d60b",
   "metadata": {},
   "source": [
    "# 2738"
   ]
  },
  {
   "cell_type": "code",
   "execution_count": 48,
   "id": "874e38ae",
   "metadata": {},
   "outputs": [
    {
     "name": "stdout",
     "output_type": "stream",
     "text": [
      "3 3\n",
      "1 1 1\n",
      "2 2 2\n",
      "0 1 0\n",
      "3 3 3\n",
      "4 4 4\n",
      "5 5 100\n",
      "4 4 4 \n",
      "6 6 6 \n",
      "5 6 100 \n"
     ]
    }
   ],
   "source": [
    "A, B = [], []\n",
    "\n",
    "N, M = map(int, input().split())\n",
    "\n",
    "for row in range(N):\n",
    "    row = list(map(int, input().split()))\n",
    "    A.append(row)\n",
    "\n",
    "for row in range(N):\n",
    "    row = list(map(int, input().split()))\n",
    "    B.append(row)\n",
    "    \n",
    "for row in range(N):\n",
    "    for col in range(M):\n",
    "        print(A[row][col] + B[row][col], end=' ')\n",
    "    print()"
   ]
  },
  {
   "cell_type": "markdown",
   "id": "d2e69a23",
   "metadata": {},
   "source": [
    "# 10809"
   ]
  },
  {
   "cell_type": "code",
   "execution_count": 12,
   "id": "ba854ab6",
   "metadata": {},
   "outputs": [
    {
     "name": "stdout",
     "output_type": "stream",
     "text": [
      "apple\n",
      "0\n",
      "-1\n",
      "-1\n",
      "-1\n",
      "4\n",
      "-1\n",
      "-1\n",
      "-1\n",
      "-1\n",
      "-1\n",
      "-1\n",
      "3\n",
      "-1\n",
      "-1\n",
      "-1\n",
      "1\n",
      "-1\n",
      "-1\n",
      "-1\n",
      "-1\n",
      "-1\n",
      "-1\n",
      "-1\n",
      "-1\n",
      "-1\n",
      "-1\n"
     ]
    }
   ],
   "source": [
    "word = input()\n",
    "alphabet = list(range(97,123))  # 아스키코드 숫자 범위\n",
    "\n",
    "for x in alphabet :\n",
    "    print(word.find(chr(x)))"
   ]
  },
  {
   "cell_type": "markdown",
   "id": "3bb572d6",
   "metadata": {},
   "source": [
    "# 2675"
   ]
  },
  {
   "cell_type": "code",
   "execution_count": 11,
   "id": "0bc3587f",
   "metadata": {},
   "outputs": [
    {
     "name": "stdout",
     "output_type": "stream",
     "text": [
      "2\n",
      "3 ABC\n",
      "AAABBBCCC\n",
      "5 /HTP\n",
      "/////HHHHHTTTTTPPPPP\n"
     ]
    }
   ],
   "source": [
    "t = int(input())\n",
    "for i in range(t):\n",
    "    num, s = input().split()\n",
    "    text = ''\n",
    "    for i in s:\n",
    "        text += int(num) * i\n",
    "    print(text)"
   ]
  },
  {
   "cell_type": "markdown",
   "id": "394bc946",
   "metadata": {},
   "source": [
    "# 1157"
   ]
  },
  {
   "cell_type": "code",
   "execution_count": 15,
   "id": "05a5029c",
   "metadata": {},
   "outputs": [
    {
     "name": "stdout",
     "output_type": "stream",
     "text": [
      "appppple\n",
      "P\n"
     ]
    }
   ],
   "source": [
    "words = input().upper()\n",
    "unique_words = list(set(words))  # 입력받은 문자열에서 중복값을 제거\n",
    "\n",
    "cnt_list = []\n",
    "for x in unique_words :\n",
    "    cnt = words.count(x)\n",
    "    cnt_list.append(cnt)  # count 숫자를 리스트에 append\n",
    "\n",
    "if cnt_list.count(max(cnt_list)) > 1 :  # count 숫자 최대값이 중복되면\n",
    "    print('?')\n",
    "else :\n",
    "    max_index = cnt_list.index(max(cnt_list))  # count 숫자 최대값 인덱스(위치)\n",
    "    print(unique_words[max_index])"
   ]
  },
  {
   "cell_type": "markdown",
   "id": "f37cd9ca",
   "metadata": {},
   "source": [
    "# 1152"
   ]
  },
  {
   "cell_type": "code",
   "execution_count": 24,
   "id": "7509640c",
   "metadata": {},
   "outputs": [
    {
     "name": "stdout",
     "output_type": "stream",
     "text": [
      "the tiger is lion\n",
      "4\n"
     ]
    }
   ],
   "source": [
    "a = list(input().split())\n",
    "print(len(a))"
   ]
  },
  {
   "cell_type": "markdown",
   "id": "6e51557b",
   "metadata": {},
   "source": [
    "# 2908"
   ]
  },
  {
   "cell_type": "code",
   "execution_count": 10,
   "id": "970c0f24",
   "metadata": {},
   "outputs": [
    {
     "name": "stdout",
     "output_type": "stream",
     "text": [
      "221 231\n",
      "132\n"
     ]
    }
   ],
   "source": [
    "#내가 짠거\n",
    "\n",
    "\n",
    "A,B = map(int,input().split())\n",
    "A_lst = list(map(int,str(A)))\n",
    "B_lst = list(map(int,str(B)))\n",
    "for i in range(len(A_lst)-1,-1,-1):\n",
    "    if A_lst[i]>B_lst[i]:\n",
    "        tmp = ''.join(map(str,A_lst))\n",
    "        print(int(str(tmp)[::-1]))\n",
    "        break\n",
    "    else:\n",
    "        tmp = ''.join(map(str,B_lst))\n",
    "        print(int(str(tmp)[::-1]))\n",
    "        break"
   ]
  },
  {
   "cell_type": "code",
   "execution_count": 11,
   "id": "f81c11f4",
   "metadata": {},
   "outputs": [
    {
     "name": "stdout",
     "output_type": "stream",
     "text": [
      "221 231\n",
      "132\n"
     ]
    }
   ],
   "source": [
    "num1, num2 = input().split()\n",
    "num1 = int(num1[::-1])  # [::-1] : 역순\n",
    "num2 = int(num2[::-1])\n",
    "\n",
    "if num1 > num2:\n",
    "    print(num1)\n",
    "else :\n",
    "    print(num2)"
   ]
  },
  {
   "cell_type": "markdown",
   "id": "a5e3ff20",
   "metadata": {},
   "source": [
    "# 1316"
   ]
  },
  {
   "cell_type": "code",
   "execution_count": 20,
   "id": "483aee49",
   "metadata": {},
   "outputs": [
    {
     "name": "stdout",
     "output_type": "stream",
     "text": [
      "3\n",
      "happy\n",
      "new\n",
      "year\n",
      "3\n"
     ]
    }
   ],
   "source": [
    "n = int(input())\n",
    "\n",
    "group_word = 0\n",
    "for _ in range(n):\n",
    "    word = input()\n",
    "    error = 0\n",
    "    for index in range(len(word)-1):  # 인덱스 범위 생성 : 0부터 단어개수 -1까지 \n",
    "        if word[index] != word[index+1]:  # 연달은 두 문자가 다른 때,\n",
    "            new_word = word[index+1:]  # 현재글자 이후 문자열을 새로운 단어로 생성\n",
    "            if new_word.count(word[index]) > 0:  # 남은 문자열에서 현재글자가 있있다면\n",
    "                error += 1  # error에 1씩 증가.\n",
    "    if error == 0:  \n",
    "        group_word += 1  # error가 0이면 그룹단어\n",
    "print(group_word)"
   ]
  },
  {
   "cell_type": "markdown",
   "id": "23f0c1dd",
   "metadata": {},
   "source": [
    "# 1712"
   ]
  },
  {
   "cell_type": "code",
   "execution_count": 3,
   "id": "765a0945",
   "metadata": {},
   "outputs": [
    {
     "name": "stdout",
     "output_type": "stream",
     "text": [
      "1000 70 170\n",
      "11\n"
     ]
    }
   ],
   "source": [
    "# 내가 푼거\n",
    "\n",
    "A,B,C = map(int,input().split())\n",
    "cnt = 1\n",
    "while True:\n",
    "    if C*cnt <=  A+B*cnt:\n",
    "        cnt+=1\n",
    "    else:\n",
    "        print(cnt)\n",
    "        break"
   ]
  },
  {
   "cell_type": "code",
   "execution_count": 4,
   "id": "6004f5b3",
   "metadata": {},
   "outputs": [
    {
     "name": "stdout",
     "output_type": "stream",
     "text": [
      "3 2 1\n",
      "-1\n"
     ]
    }
   ],
   "source": [
    "# 정답\n",
    "\n",
    "A, B, C = map(int, input().split())\n",
    "\n",
    "if B>=C:\n",
    "    print(-1)\n",
    "else:\n",
    "    print(int(A/(C-B)+1))"
   ]
  },
  {
   "cell_type": "markdown",
   "id": "1520ea09",
   "metadata": {},
   "source": [
    "# 2292"
   ]
  },
  {
   "cell_type": "code",
   "execution_count": 5,
   "id": "34f1b301",
   "metadata": {},
   "outputs": [
    {
     "name": "stdout",
     "output_type": "stream",
     "text": [
      "13\n",
      "3\n"
     ]
    }
   ],
   "source": [
    "n = int(input())\n",
    "cnt = 1\n",
    "cnt_six = 6\n",
    "count = 1\n",
    "while n > cnt:\n",
    "    count += 1\n",
    "    cnt += cnt_six\n",
    "    cnt_six += 6\n",
    "print(count)"
   ]
  },
  {
   "cell_type": "markdown",
   "id": "4a41b857",
   "metadata": {},
   "source": [
    "# 1193"
   ]
  },
  {
   "cell_type": "code",
   "execution_count": 7,
   "id": "51a00d27",
   "metadata": {},
   "outputs": [
    {
     "name": "stdout",
     "output_type": "stream",
     "text": [
      "3\n",
      "2/1\n"
     ]
    }
   ],
   "source": [
    "X=int(input())\n",
    "\n",
    "line=1\n",
    "while X>line:\n",
    "    X-=line\n",
    "    line+=1\n",
    "    \n",
    "if line%2==0:\n",
    "    a=X\n",
    "    b=line-X+1\n",
    "else:\n",
    "    a=line-X+1\n",
    "    b=X\n",
    "print(a, '/', b, sep='')"
   ]
  },
  {
   "cell_type": "markdown",
   "id": "71e9d3f4",
   "metadata": {},
   "source": [
    "# 2869"
   ]
  },
  {
   "cell_type": "code",
   "execution_count": null,
   "id": "096368e4",
   "metadata": {},
   "outputs": [],
   "source": [
    "# 내가 짠 코드\n",
    "\n",
    "A,B,V = map(int,input().split())\n",
    "result=0\n",
    "\n",
    "while V>0:\n",
    "    v-=A\n",
    "    if \n",
    "    cnt+=1\n",
    "\n",
    "    if result+A >=V:\n",
    "        cnt+=1\n",
    "        break\n"
   ]
  },
  {
   "cell_type": "code",
   "execution_count": 33,
   "id": "7eef1f3c",
   "metadata": {},
   "outputs": [
    {
     "name": "stdout",
     "output_type": "stream",
     "text": [
      "2 1 5\n",
      "4\n"
     ]
    }
   ],
   "source": [
    "A, B, V = map(int, input().split())\n",
    "\n",
    "day=1\n",
    "while V>0:\n",
    "    V-=A\n",
    "    if V<=0:\n",
    "        break\n",
    "    V+=B\n",
    "    day+=1\n",
    "\n",
    "print(day)"
   ]
  },
  {
   "cell_type": "code",
   "execution_count": 34,
   "id": "1e896e37",
   "metadata": {},
   "outputs": [
    {
     "name": "stdout",
     "output_type": "stream",
     "text": [
      "2 1 5\n",
      "4\n"
     ]
    }
   ],
   "source": [
    "import math\n",
    "A, B, V = map(int, input().split())\n",
    "print(math.ceil((V-A)/(A-B))+1)"
   ]
  },
  {
   "cell_type": "markdown",
   "id": "45923f01",
   "metadata": {},
   "source": [
    "# 10250"
   ]
  },
  {
   "cell_type": "code",
   "execution_count": null,
   "id": "8ec86117",
   "metadata": {},
   "outputs": [],
   "source": [
    "# 내가 푼거\n",
    "T = int(input())\n",
    "for i in range(T):\n",
    "    H,W,N=map(int,input().split())\n",
    "    x = N//H+1\n",
    "    y= N%H\n",
    "    if x<10:     \n",
    "        print(str(y)+\"0\"+str(x))\n",
    "    else:\n",
    "        print(str(y)+str(x))\n",
    "\n",
    "# N이 H의 배수일 때 신경을 못씀"
   ]
  },
  {
   "cell_type": "code",
   "execution_count": 45,
   "id": "36548338",
   "metadata": {},
   "outputs": [
    {
     "data": {
      "text/plain": [
       "1"
      ]
     },
     "execution_count": 45,
     "metadata": {},
     "output_type": "execute_result"
    }
   ],
   "source": [
    "10//6"
   ]
  },
  {
   "cell_type": "code",
   "execution_count": 51,
   "id": "d5c0cc29",
   "metadata": {},
   "outputs": [
    {
     "name": "stdout",
     "output_type": "stream",
     "text": [
      "1\n",
      "5 12 10\n",
      "502\n"
     ]
    }
   ],
   "source": [
    "# 정식\n",
    "t = int(input())\n",
    "\n",
    "for i in range(t):\n",
    "    h, w, n = map(int, input().split())\n",
    "    num = n//h + 1\n",
    "    floor = n % h\n",
    "    if n % h == 0:  # h의 배수이면,\n",
    "        num = n//h\n",
    "        floor = h\n",
    "    print(f'{floor*100+num}')"
   ]
  },
  {
   "cell_type": "markdown",
   "id": "9621cfb2",
   "metadata": {},
   "source": [
    "# 2775"
   ]
  },
  {
   "cell_type": "code",
   "execution_count": 55,
   "id": "0e0ade7a",
   "metadata": {},
   "outputs": [
    {
     "name": "stdout",
     "output_type": "stream",
     "text": [
      "2\n",
      "1\n",
      "3\n",
      "6\n",
      "2\n",
      "3\n",
      "10\n"
     ]
    }
   ],
   "source": [
    "t = int(input())\n",
    "for _ in range(t):\n",
    "    floor = int(input())\n",
    "    num = int(input())\n",
    "    f0 = [x for x in range(1,num+1)]\n",
    "    for i in range(floor):\n",
    "        for j in range(1,num):\n",
    "            f0[j]+=f0[j-1]\n",
    "    print(f0[-1])"
   ]
  },
  {
   "cell_type": "markdown",
   "id": "d9db0a4b",
   "metadata": {},
   "source": [
    "# 2839"
   ]
  },
  {
   "cell_type": "code",
   "execution_count": 62,
   "id": "b0c357b5",
   "metadata": {},
   "outputs": [
    {
     "name": "stdout",
     "output_type": "stream",
     "text": [
      "11\n",
      "-1\n"
     ]
    }
   ],
   "source": [
    "# 내가 푼거\n",
    "\n",
    "N = int(input())\n",
    "if (N%5)%3==0:\n",
    "    a=N//5\n",
    "    b=(N%5)//3\n",
    "    print(a+b)\n",
    "elif(N%3)%5==0:\n",
    "    a=N//3\n",
    "    b=(N%3)%5\n",
    "    print(a+b)\n",
    "else:\n",
    "    print(-1)\n",
    "    \n",
    "# 11. 13 등 이 해결이 안됨"
   ]
  },
  {
   "cell_type": "code",
   "execution_count": 65,
   "id": "09ddc810",
   "metadata": {},
   "outputs": [
    {
     "name": "stdout",
     "output_type": "stream",
     "text": [
      "11\n",
      "3\n"
     ]
    }
   ],
   "source": [
    "# 정식\n",
    "\n",
    "sugar = int(input())\n",
    "\n",
    "bag = 0\n",
    "while sugar >= 0 :\n",
    "    if sugar % 5 == 0 :  # 5의 배수이면\n",
    "        bag += (sugar // 5)  # 5로 나눈 몫을 구해야 정수가 됨\n",
    "        print(bag)\n",
    "        break\n",
    "    sugar -= 3  \n",
    "    bag += 1  # 5의 배수가 될 때까지 설탕-3, 봉지+1\n",
    "else :\n",
    "    print(-1)"
   ]
  },
  {
   "cell_type": "markdown",
   "id": "4063dbc9",
   "metadata": {},
   "source": [
    "# 11/2"
   ]
  },
  {
   "cell_type": "markdown",
   "id": "92168c98",
   "metadata": {},
   "source": [
    "## 2581"
   ]
  },
  {
   "cell_type": "code",
   "execution_count": 19,
   "id": "cdc22e62",
   "metadata": {},
   "outputs": [
    {
     "name": "stdout",
     "output_type": "stream",
     "text": [
      "64\n",
      "65\n",
      "-1\n"
     ]
    }
   ],
   "source": [
    "M=int(input())\n",
    "N=int(input())\n",
    "result=[]\n",
    "for i in range(M,N+1):\n",
    "    count=0\n",
    "    if i>1:\n",
    "        for j in range(2,i):\n",
    "            if i%j==0:\n",
    "                count+=1\n",
    "                break\n",
    "        if count==0:\n",
    "            result.append(i)\n",
    "if len(result) >0:\n",
    "    print(sum(result))\n",
    "    print(min(result))\n",
    "else:\n",
    "    print(-1)"
   ]
  },
  {
   "cell_type": "markdown",
   "id": "8f370b35",
   "metadata": {},
   "source": [
    "## 11653"
   ]
  },
  {
   "cell_type": "code",
   "execution_count": 23,
   "id": "ec846fc4",
   "metadata": {},
   "outputs": [
    {
     "name": "stdout",
     "output_type": "stream",
     "text": [
      "9991\n",
      "97\n",
      "103\n"
     ]
    }
   ],
   "source": [
    "N=int(input())\n",
    "i=2\n",
    "while N!=1:\n",
    "    if N%i==0:\n",
    "        N=N//i\n",
    "        print(i)\n",
    "    else:\n",
    "        i+=1"
   ]
  },
  {
   "cell_type": "markdown",
   "id": "8f6579b8",
   "metadata": {},
   "source": [
    "## 1929"
   ]
  },
  {
   "cell_type": "code",
   "execution_count": 37,
   "id": "8efc0c4d",
   "metadata": {},
   "outputs": [
    {
     "name": "stdout",
     "output_type": "stream",
     "text": [
      "3 16\n",
      "3\n",
      "5\n",
      "7\n",
      "11\n",
      "13\n"
     ]
    }
   ],
   "source": [
    "M,N = map(int,input().split())\n",
    "\n",
    "for i in range(M,N+1):\n",
    "    if i>1:    \n",
    "        for j in range(2,i+1):\n",
    "            if i%j==0:\n",
    "                if i==j:\n",
    "                    print(i)\n",
    "                break"
   ]
  },
  {
   "cell_type": "markdown",
   "id": "8776a706",
   "metadata": {},
   "source": [
    "## 4948"
   ]
  },
  {
   "cell_type": "code",
   "execution_count": 49,
   "id": "88f9413e",
   "metadata": {},
   "outputs": [
    {
     "name": "stdout",
     "output_type": "stream",
     "text": [
      "10\n",
      "4\n",
      "20\n",
      "4\n",
      "0\n"
     ]
    }
   ],
   "source": [
    "# 정답코드\n",
    "\n",
    "n=123456\n",
    "\n",
    "# 에라토스테네스의 체\n",
    "def prime_list(n):\n",
    "    if n == 1:\n",
    "        return False\n",
    "    for i in range(2,int(n**0.5)+1):\n",
    "        if n%i == 0:\n",
    "            return False\n",
    "    return True\t\t\n",
    "\n",
    "primes_list = list(range(2,246912))\n",
    "ans_list = []\n",
    "\n",
    "for i in primes_list:\n",
    "    # 만약 소수에 해당하면 prime_list 함수에서 true를 반환 받을 것입니다.\n",
    "    if prime_list(i):\n",
    "        # true를 반환 받는다면 ans_list에 해당 원소(i)를 추가해줍니다.\n",
    "        ans_list.append(i)\n",
    "        \n",
    "        \n",
    "while True:\n",
    "    \n",
    "    cnt = 0\n",
    "\n",
    "    num = int(input())\n",
    "\n",
    "    # 0을 입력받으면 종료    \n",
    "    if num == 0:\n",
    "        break\n",
    "    \n",
    "    for i in ans_list:\n",
    "        if num < i < 2*num+1:\n",
    "            cnt += 1\n",
    "            \n",
    "    print(cnt)"
   ]
  },
  {
   "cell_type": "markdown",
   "id": "8a6c6ebd",
   "metadata": {},
   "source": [
    "## 2750"
   ]
  },
  {
   "cell_type": "code",
   "execution_count": 64,
   "id": "023c2a42",
   "metadata": {},
   "outputs": [
    {
     "name": "stdout",
     "output_type": "stream",
     "text": [
      "5\n",
      "5\n",
      "2\n",
      "3\n",
      "4\n",
      "1\n",
      "1\n",
      "2\n",
      "3\n",
      "4\n",
      "5\n"
     ]
    }
   ],
   "source": [
    "N = int(input())\n",
    "res=[]\n",
    "for i in range(N):\n",
    "    res.append(int(input()))\n",
    "    res.sort()\n",
    "\n",
    "for j in range(len(res)):\n",
    "    print(res[j])\n"
   ]
  },
  {
   "cell_type": "code",
   "execution_count": 56,
   "id": "7d1ef632",
   "metadata": {},
   "outputs": [],
   "source": [
    "a.sort(reverse=True)"
   ]
  },
  {
   "cell_type": "code",
   "execution_count": 57,
   "id": "f9cf2fff",
   "metadata": {},
   "outputs": [
    {
     "name": "stdout",
     "output_type": "stream",
     "text": [
      "[5, 4, 3, 2, 1]\n"
     ]
    }
   ],
   "source": [
    "print(a)"
   ]
  },
  {
   "cell_type": "markdown",
   "id": "ef9a2f72",
   "metadata": {},
   "source": [
    "## 2587"
   ]
  },
  {
   "cell_type": "code",
   "execution_count": 73,
   "id": "ee84644c",
   "metadata": {},
   "outputs": [
    {
     "name": "stdout",
     "output_type": "stream",
     "text": [
      "10\n",
      "30\n",
      "40\n",
      "60\n",
      "30\n",
      "34\n",
      "30\n"
     ]
    }
   ],
   "source": [
    "res = []\n",
    "for _ in range(5):\n",
    "    res.append(int(input()))\n",
    "    res.sort()\n",
    "\n",
    "print(int(sum(res)/len(res)))\n",
    "print(res[2])"
   ]
  },
  {
   "cell_type": "markdown",
   "id": "e7f03882",
   "metadata": {},
   "source": [
    "## 25305"
   ]
  },
  {
   "cell_type": "code",
   "execution_count": 1,
   "id": "3c5723d6",
   "metadata": {},
   "outputs": [
    {
     "name": "stdout",
     "output_type": "stream",
     "text": [
      "1\n"
     ]
    },
    {
     "ename": "ValueError",
     "evalue": "not enough values to unpack (expected 2, got 1)",
     "output_type": "error",
     "traceback": [
      "\u001b[1;31m---------------------------------------------------------------------------\u001b[0m",
      "\u001b[1;31mValueError\u001b[0m                                Traceback (most recent call last)",
      "Input \u001b[1;32mIn [1]\u001b[0m, in \u001b[0;36m<cell line: 1>\u001b[1;34m()\u001b[0m\n\u001b[1;32m----> 1\u001b[0m N,k \u001b[38;5;241m=\u001b[39m \u001b[38;5;28mmap\u001b[39m(\u001b[38;5;28mint\u001b[39m,\u001b[38;5;28minput\u001b[39m()\u001b[38;5;241m.\u001b[39msplit())\n\u001b[0;32m      2\u001b[0m score \u001b[38;5;241m=\u001b[39m \u001b[38;5;28mlist\u001b[39m(\u001b[38;5;28mmap\u001b[39m(\u001b[38;5;28mint\u001b[39m,\u001b[38;5;28minput\u001b[39m()\u001b[38;5;241m.\u001b[39msplit()))\n\u001b[0;32m      4\u001b[0m score\u001b[38;5;241m.\u001b[39msort(reverse\u001b[38;5;241m=\u001b[39m\u001b[38;5;28;01mTrue\u001b[39;00m)\n",
      "\u001b[1;31mValueError\u001b[0m: not enough values to unpack (expected 2, got 1)"
     ]
    }
   ],
   "source": [
    "N,k = map(int,input().split())\n",
    "score = list(map(int,input().split()))\n",
    "\n",
    "score.sort(reverse=True)\n",
    "print(score[k-1])"
   ]
  },
  {
   "cell_type": "markdown",
   "id": "ed7a63eb",
   "metadata": {},
   "source": [
    "## 2751"
   ]
  },
  {
   "cell_type": "code",
   "execution_count": 1,
   "id": "29bc550b",
   "metadata": {},
   "outputs": [
    {
     "name": "stdout",
     "output_type": "stream",
     "text": [
      "123 123 \n"
     ]
    },
    {
     "ename": "ValueError",
     "evalue": "invalid literal for int() with base 10: '123 123 '",
     "output_type": "error",
     "traceback": [
      "\u001b[1;31m---------------------------------------------------------------------------\u001b[0m",
      "\u001b[1;31mValueError\u001b[0m                                Traceback (most recent call last)",
      "Input \u001b[1;32mIn [1]\u001b[0m, in \u001b[0;36m<cell line: 1>\u001b[1;34m()\u001b[0m\n\u001b[1;32m----> 1\u001b[0m N \u001b[38;5;241m=\u001b[39m \u001b[38;5;28;43mint\u001b[39;49m\u001b[43m(\u001b[49m\u001b[38;5;28;43minput\u001b[39;49m\u001b[43m(\u001b[49m\u001b[43m)\u001b[49m\u001b[43m)\u001b[49m\n\u001b[0;32m      2\u001b[0m res\u001b[38;5;241m=\u001b[39m[]\n\u001b[0;32m      3\u001b[0m \u001b[38;5;28;01mfor\u001b[39;00m i \u001b[38;5;129;01min\u001b[39;00m \u001b[38;5;28mrange\u001b[39m(N):\n",
      "\u001b[1;31mValueError\u001b[0m: invalid literal for int() with base 10: '123 123 '"
     ]
    }
   ],
   "source": [
    "N = int(input())\n",
    "res=[]\n",
    "for i in range(N):\n",
    "    res.append(int(input()))\n",
    "\n",
    "for i in sorted(res):\n",
    "    print(i)\n"
   ]
  },
  {
   "cell_type": "markdown",
   "id": "fbfcf398",
   "metadata": {},
   "source": [
    "## 10989"
   ]
  },
  {
   "cell_type": "code",
   "execution_count": 4,
   "id": "7b115b78",
   "metadata": {},
   "outputs": [
    {
     "name": "stdout",
     "output_type": "stream",
     "text": [
      "10\n",
      "5\n",
      "2\n",
      "3\n",
      "1\n",
      "4\n",
      "2\n",
      "3\n",
      "5\n",
      "1\n",
      "7\n",
      "1\n",
      "1\n",
      "2\n",
      "2\n",
      "3\n",
      "3\n",
      "4\n",
      "5\n",
      "5\n",
      "7\n"
     ]
    }
   ],
   "source": [
    "N = int(input())\n",
    "res=[]\n",
    "for _ in range(N):\n",
    "    res.append(int(input()))\n",
    "for i in sorted(res):\n",
    "    print(i)"
   ]
  },
  {
   "cell_type": "code",
   "execution_count": 5,
   "id": "06cd950f",
   "metadata": {},
   "outputs": [
    {
     "ename": "ValueError",
     "evalue": "invalid literal for int() with base 10: ''",
     "output_type": "error",
     "traceback": [
      "\u001b[1;31m---------------------------------------------------------------------------\u001b[0m",
      "\u001b[1;31mValueError\u001b[0m                                Traceback (most recent call last)",
      "Input \u001b[1;32mIn [5]\u001b[0m, in \u001b[0;36m<cell line: 3>\u001b[1;34m()\u001b[0m\n\u001b[0;32m      1\u001b[0m \u001b[38;5;28;01mimport\u001b[39;00m \u001b[38;5;21;01msys\u001b[39;00m\n\u001b[1;32m----> 3\u001b[0m n \u001b[38;5;241m=\u001b[39m \u001b[38;5;28;43mint\u001b[39;49m\u001b[43m(\u001b[49m\u001b[43msys\u001b[49m\u001b[38;5;241;43m.\u001b[39;49m\u001b[43mstdin\u001b[49m\u001b[38;5;241;43m.\u001b[39;49m\u001b[43mreadline\u001b[49m\u001b[43m(\u001b[49m\u001b[43m)\u001b[49m\u001b[43m)\u001b[49m\n\u001b[0;32m      4\u001b[0m num_list \u001b[38;5;241m=\u001b[39m [\u001b[38;5;241m0\u001b[39m] \u001b[38;5;241m*\u001b[39m \u001b[38;5;241m10001\u001b[39m\n\u001b[0;32m      6\u001b[0m \u001b[38;5;28;01mfor\u001b[39;00m _ \u001b[38;5;129;01min\u001b[39;00m \u001b[38;5;28mrange\u001b[39m(n):\n",
      "\u001b[1;31mValueError\u001b[0m: invalid literal for int() with base 10: ''"
     ]
    }
   ],
   "source": [
    "import sys\n",
    "\n",
    "n = int(sys.stdin.readline())\n",
    "num_list = [0] * 10001\n",
    "\n",
    "for _ in range(n):\n",
    "    num_list[int(sys.stdin.readline())] += 1\n",
    "\n",
    "for i in range(10001):\n",
    "    if num_list[i] != 0:\n",
    "        for j in range(num_list[i]):\n",
    "            print(i)"
   ]
  },
  {
   "cell_type": "markdown",
   "id": "db43bae8",
   "metadata": {},
   "source": [
    "## 2108"
   ]
  },
  {
   "cell_type": "code",
   "execution_count": 19,
   "id": "6ce16d95",
   "metadata": {
    "scrolled": true
   },
   "outputs": [
    {
     "name": "stdout",
     "output_type": "stream",
     "text": [
      "5\n",
      "1\n",
      "3\n",
      "8\n",
      "-2\n",
      "2\n",
      "{}\n"
     ]
    }
   ],
   "source": [
    "from collections import Counter\n",
    "\n",
    "N = int(input())\n",
    "res=[]\n",
    "test={}\n",
    "for _ in range(N):\n",
    "    res.append(int(input()))\n",
    "res.sort()  \n",
    "# print(round(sum(res)/N))\n",
    "# print(res[int(N-1)//2])\n",
    "for i in range(len(res)):\n",
    "    count=0\n",
    "    if res[i]==res[i-1]:\n",
    "        count+=1\n",
    "        test[res[i]]=count\n",
    "print(test)\n",
    "## 최빈값 어캐 구해?"
   ]
  },
  {
   "cell_type": "markdown",
   "id": "6c6487b9",
   "metadata": {},
   "source": [
    "## 1427"
   ]
  },
  {
   "cell_type": "code",
   "execution_count": 25,
   "id": "3e43688e",
   "metadata": {},
   "outputs": [
    {
     "name": "stdout",
     "output_type": "stream",
     "text": [
      "1234\n",
      "4321"
     ]
    }
   ],
   "source": [
    "nums = input()\n",
    "nums = [int(n)  for n in nums]\n",
    "\n",
    "ordered_nums = sorted(nums, reverse=True)\n",
    "\n",
    "for n in ordered_nums : \n",
    "    print(n, end=\"\")"
   ]
  },
  {
   "cell_type": "markdown",
   "id": "f3b6d22a",
   "metadata": {},
   "source": [
    "## 11650"
   ]
  },
  {
   "cell_type": "code",
   "execution_count": 9,
   "id": "9487aaaa",
   "metadata": {},
   "outputs": [
    {
     "name": "stdout",
     "output_type": "stream",
     "text": [
      "5\n",
      "3 4\n",
      "1 1\n",
      "1 -1\n",
      "2 2\n",
      "3 3\n",
      "[1, -1]\n",
      "[1, 1]\n",
      "[2, 2]\n",
      "[3, 3]\n",
      "[3, 4]\n"
     ]
    }
   ],
   "source": [
    "N = int(input())\n",
    "arr = []\n",
    "result_a=[]\n",
    "result_b=[]\n",
    "for i in range(N):\n",
    "    arr.append(list(map(int,input().split())))\n",
    "        \n",
    "for i in sorted(arr):\n",
    "    print(i)"
   ]
  },
  {
   "cell_type": "code",
   "execution_count": null,
   "id": "482723ab",
   "metadata": {},
   "outputs": [],
   "source": [
    "N=int(input())\n",
    "arr=[]\n",
    "for i in range(N):\n",
    "    a,b = map(int,input().split())\n",
    "    arr.append((a,b))\n",
    "arr.sort()\n",
    "for i in range(N):\n",
    "    print(arr[i][0],arr[i][1])"
   ]
  },
  {
   "cell_type": "markdown",
   "id": "6e5f3f22",
   "metadata": {},
   "source": [
    "## 10872"
   ]
  },
  {
   "cell_type": "code",
   "execution_count": 11,
   "id": "a0869080",
   "metadata": {},
   "outputs": [
    {
     "name": "stdout",
     "output_type": "stream",
     "text": [
      "5\n",
      "120\n"
     ]
    }
   ],
   "source": [
    "def factorial(n):\n",
    "    result = 1\n",
    "    if n > 0 :\n",
    "        result = n * factorial(n-1)\n",
    "    return result\n",
    "\n",
    "n = int(input())\n",
    "print(factorial(n))"
   ]
  },
  {
   "cell_type": "markdown",
   "id": "c0b61de9",
   "metadata": {},
   "source": [
    "# 11/03"
   ]
  },
  {
   "cell_type": "markdown",
   "id": "16832953",
   "metadata": {},
   "source": [
    "## 2798"
   ]
  },
  {
   "cell_type": "code",
   "execution_count": 23,
   "id": "661b2b4d",
   "metadata": {},
   "outputs": [
    {
     "name": "stdout",
     "output_type": "stream",
     "text": [
      "5 21\n",
      "5 6 7 8 9\n",
      "21\n"
     ]
    }
   ],
   "source": [
    "n,m = map(int,input().split())\n",
    "num = list(map(int,input().split()))\n",
    "ans = 0\n",
    "for i in range(n):\n",
    "    for j in range(i+1,n):\n",
    "        for k in range(j+1,n):\n",
    "            if(num[i] + num[j] + num[k] > m):\n",
    "                continue\n",
    "            else:\n",
    "                ans = max(ans ,num[i] + num[j] + num[k])\n",
    "\n",
    "print(ans)"
   ]
  },
  {
   "cell_type": "markdown",
   "id": "d9429cda",
   "metadata": {},
   "source": [
    "## 2231"
   ]
  },
  {
   "cell_type": "code",
   "execution_count": null,
   "id": "ac6471d2",
   "metadata": {},
   "outputs": [],
   "source": [
    "# 내 풀이\n",
    "\n",
    "N = int(input())\n",
    "result=[]\n",
    "for i in range(1,10000001):\n",
    "    arr=list(map(int,str(i)))\n",
    "    arr.append(i)\n",
    "    if sum(arr)==N:\n",
    "        result.append(i)\n",
    "print(min(result))"
   ]
  },
  {
   "cell_type": "code",
   "execution_count": 2,
   "id": "c50c2bc9",
   "metadata": {},
   "outputs": [
    {
     "name": "stdout",
     "output_type": "stream",
     "text": [
      "216\n",
      "198\n"
     ]
    }
   ],
   "source": [
    "# 정답\n",
    "\n",
    "N = int(input())\n",
    "result=0\n",
    "for i in range(1,N+1):\n",
    "    arr=list(map(int,str(i)))\n",
    "    result=i+sum(arr)\n",
    "    if result==N:\n",
    "        print(i)\n",
    "        break\n",
    "    if i==N:\n",
    "        print(0)"
   ]
  },
  {
   "cell_type": "markdown",
   "id": "cdfb6d8e",
   "metadata": {},
   "source": [
    "## 7568"
   ]
  },
  {
   "cell_type": "code",
   "execution_count": 25,
   "id": "c1b4d263",
   "metadata": {},
   "outputs": [
    {
     "name": "stdout",
     "output_type": "stream",
     "text": [
      "5\n",
      "55 185\n",
      "58 183\n",
      "88 186\n",
      "60 175\n",
      "46 155\n",
      "(55, 185)\n",
      "(55, 185)\n",
      "(55, 185)\n",
      "(55, 185)\n",
      "(55, 185)\n",
      "(58, 183)\n",
      "(58, 183)\n",
      "(58, 183)\n",
      "(58, 183)\n",
      "(58, 183)\n",
      "(88, 186)\n",
      "(88, 186)\n",
      "(88, 186)\n",
      "(88, 186)\n",
      "(88, 186)\n",
      "(60, 175)\n",
      "(60, 175)\n",
      "(60, 175)\n",
      "(60, 175)\n",
      "(60, 175)\n",
      "(46, 155)\n",
      "(46, 155)\n",
      "(46, 155)\n",
      "(46, 155)\n",
      "(46, 155)\n"
     ]
    }
   ],
   "source": [
    "num_student = int(input())\n",
    "student_list = []\n",
    "\n",
    "for _ in range(num_student):\n",
    "    weight, height = map(int, input().split())\n",
    "    student_list.append((weight, height))\n",
    "\n",
    "for i in student_list:\n",
    "    rank = 1\n",
    "    for j in student_list:\n",
    "        if i[0] < j[0] and i[1] < j[1]:\n",
    "                rank += 1\n",
    "    print(rank, end = \" \")"
   ]
  },
  {
   "cell_type": "markdown",
   "id": "c4ace87a",
   "metadata": {},
   "source": [
    "## 1018"
   ]
  },
  {
   "cell_type": "code",
   "execution_count": 32,
   "id": "4e6461ae",
   "metadata": {},
   "outputs": [
    {
     "name": "stdout",
     "output_type": "stream",
     "text": [
      "2 2\n",
      "1 1 \n",
      "1 1\n",
      "[['1', '1'], ['1', '1']]\n"
     ]
    }
   ],
   "source": [
    "N,M = map(int,input().split())\n",
    "arr = []\n",
    "for _ in range(N):\n",
    "    arr.append(list(input().split()))\n",
    "for i in range(N)\n",
    "    for j in arr:"
   ]
  },
  {
   "cell_type": "markdown",
   "id": "66115409",
   "metadata": {},
   "source": [
    "## 10815"
   ]
  },
  {
   "cell_type": "code",
   "execution_count": 47,
   "id": "e7b65bbc",
   "metadata": {},
   "outputs": [
    {
     "name": "stdout",
     "output_type": "stream",
     "text": [
      "5\n",
      "6 3 2 10 -10\n",
      "8\n",
      "10 9 -5 2 3 4 5 -10\n",
      "1 0 0 1 1 0 0 1 "
     ]
    }
   ],
   "source": [
    "N = int(input())\n",
    "cards = list(map(int, input().split()))\n",
    "M = int(input())\n",
    "checks = list(map(int,input().split()))\n",
    "for i in range(M):\n",
    "        if checks[i] in cards:\n",
    "            print(1, end=' ')\n",
    "        else:\n",
    "            print(0, end=' ')"
   ]
  },
  {
   "cell_type": "code",
   "execution_count": null,
   "id": "c35ede5b",
   "metadata": {},
   "outputs": [],
   "source": [
    "# 정답\n",
    "\n",
    "N = int(input())\n",
    "cards = list(map(int, input().split()))\n",
    "M = int(input())\n",
    "checks = list(map(int,input().split()))\n",
    "\n",
    "_dict = {}  # 속도는 dictionary!\n",
    "for i in range(len(cards)):\n",
    "    _dict[cards[i]] = 0  # 아무 숫자로 mapping\n",
    "\n",
    "for j in range(M):\n",
    "    if checks[j] not in _dict:\n",
    "        print(0, end=' ')\n",
    "    else:\n",
    "        print(1, end=' ')"
   ]
  },
  {
   "cell_type": "markdown",
   "id": "2e96efcd",
   "metadata": {},
   "source": [
    "## 14425"
   ]
  },
  {
   "cell_type": "code",
   "execution_count": 50,
   "id": "433391e1",
   "metadata": {},
   "outputs": [
    {
     "name": "stdout",
     "output_type": "stream",
     "text": [
      "5 11\n",
      "baekjoononlinejudge\n",
      "startlink\n",
      "codeplus\n",
      "sundaycoding\n",
      "codingsh\n",
      "baekjoon\n",
      "codeplus\n",
      "codeminus\n",
      "startlink\n",
      "starlink\n",
      "sundaycoding\n",
      "codingsh\n",
      "codinghs\n",
      "sondaycoding\n",
      "startrink\n",
      "icerink\n",
      "4\n"
     ]
    }
   ],
   "source": [
    "N,M=map(int,input().split())\n",
    "word=[]\n",
    "check=[]\n",
    "res ={}\n",
    "cnt=[]\n",
    "for i in range(N):\n",
    "    word.append(str(input()))\n",
    "    res[word[i]]=0\n",
    "for j in range(M):\n",
    "    check.append(str(input()))\n",
    "    if check[j] in res:\n",
    "        cnt.append(1)\n",
    "print(len(cnt))    "
   ]
  },
  {
   "cell_type": "markdown",
   "id": "010c93ef",
   "metadata": {},
   "source": [
    "## 1620"
   ]
  },
  {
   "cell_type": "code",
   "execution_count": 28,
   "id": "f1ac4f93",
   "metadata": {},
   "outputs": [
    {
     "name": "stdout",
     "output_type": "stream",
     "text": [
      "5 2\n",
      "Bulbasaur\n",
      "Ivysaur\n",
      "Venusaur\n",
      "Charmander\n",
      "Charmeleon\n",
      "['Bulbasaur', 'Ivysaur', 'Venusaur', 'Charmander', 'Charmeleon']\n",
      "2\n",
      "Charmander\n",
      "2 Ivysaur Charmander 2 "
     ]
    }
   ],
   "source": [
    "N,M=map(int,input().split())\n",
    "pock = []\n",
    "ans = []\n",
    "result=[]\n",
    "for i in range(N):\n",
    "    pock.append(str(input()))\n",
    "for j in range(M):\n",
    "    ans.append(input())\n",
    "    if ans[j] in pock:\n",
    "        result.append(pock.index(ans[j])+1)\n",
    "    else:\n",
    "        result.append(pock[int(ans[j])-1])"
   ]
  },
  {
   "cell_type": "code",
   "execution_count": 31,
   "id": "2978351a",
   "metadata": {},
   "outputs": [
    {
     "name": "stdout",
     "output_type": "stream",
     "text": [
      "5 2\n",
      "Bulbasaur\n",
      "Ivysaur\n",
      "Venusaur\n",
      "Charmander\n",
      "Charmeleon\n",
      "2\n"
     ]
    },
    {
     "ename": "AttributeError",
     "evalue": "'list' object has no attribute 'isdigit'",
     "output_type": "error",
     "traceback": [
      "\u001b[1;31m---------------------------------------------------------------------------\u001b[0m",
      "\u001b[1;31mAttributeError\u001b[0m                            Traceback (most recent call last)",
      "Input \u001b[1;32mIn [31]\u001b[0m, in \u001b[0;36m<cell line: 8>\u001b[1;34m()\u001b[0m\n\u001b[0;32m      8\u001b[0m \u001b[38;5;28;01mfor\u001b[39;00m j \u001b[38;5;129;01min\u001b[39;00m \u001b[38;5;28mrange\u001b[39m(M):\n\u001b[0;32m      9\u001b[0m     quest \u001b[38;5;241m=\u001b[39m \u001b[38;5;28minput\u001b[39m()\u001b[38;5;241m.\u001b[39msplit()\n\u001b[1;32m---> 10\u001b[0m     \u001b[38;5;28;01mif\u001b[39;00m \u001b[43mquest\u001b[49m\u001b[38;5;241;43m.\u001b[39;49m\u001b[43misdigit\u001b[49m():\n\u001b[0;32m     11\u001b[0m         \u001b[38;5;28mprint\u001b[39m(\u001b[38;5;28mdict\u001b[39m[\u001b[38;5;28mint\u001b[39m(quest)])\n\u001b[0;32m     12\u001b[0m     \u001b[38;5;28;01melse\u001b[39;00m:\n",
      "\u001b[1;31mAttributeError\u001b[0m: 'list' object has no attribute 'isdigit'"
     ]
    }
   ],
   "source": [
    "#정답\n",
    "\n",
    "import sys\n",
    "\n",
    "input = sys.stdin.readline\n",
    "\n",
    "n, m = map(int, input().split())\n",
    "\n",
    "dict = {}\n",
    "\n",
    "for i in range(1, n + 1):\n",
    "    a = input().rstrip()\n",
    "    dict[i] = a\n",
    "    dict[a] = i\n",
    "\n",
    "for i in range(m):\n",
    "    quest = input().rstrip()\n",
    "    if quest.isdigit():\n",
    "        print(dict[int(quest)])\n",
    "    else:\n",
    "        print(dict[quest])"
   ]
  },
  {
   "cell_type": "markdown",
   "id": "99f64617",
   "metadata": {},
   "source": [
    "## 10816"
   ]
  },
  {
   "cell_type": "code",
   "execution_count": 65,
   "id": "618cc580",
   "metadata": {},
   "outputs": [
    {
     "name": "stdout",
     "output_type": "stream",
     "text": [
      "10\n",
      "6 3 2 10 10 10 -10 -10 7 3\n",
      "8\n",
      "10\n",
      "3 "
     ]
    }
   ],
   "source": [
    "N = int(input())\n",
    "cards = list(map(int, input().split()))\n",
    "M = int(input())\n",
    "checks = list(map(int,input().split()))\n",
    "_dict = {}\n",
    "\n",
    "for i in range(len(cards)):\n",
    "    _dict[cards[i]]=0\n",
    "    for j in range(len(checks)):\n",
    "        if checks[j] in _dict:\n",
    "            _dict[checks[j]]+=1\n",
    "for value in _dict.values():\n",
    "    print(value, end=' ')"
   ]
  },
  {
   "cell_type": "code",
   "execution_count": 38,
   "id": "0d03c5de",
   "metadata": {},
   "outputs": [
    {
     "name": "stdout",
     "output_type": "stream",
     "text": [
      "5\n"
     ]
    }
   ],
   "source": [
    "# 정답\n",
    "\n",
    "N = int(input())\n",
    "cards = list(map(int, input().split()))\n",
    "M = int(input())\n",
    "checks = list(map(int,input().split()))\n",
    "\n",
    "hash = {}\n",
    "\n",
    "for i in cards:\n",
    "    if i in hash:\n",
    "        hash[i] += 1\n",
    "    else:\n",
    "        hash[i] = 1\n",
    "\n",
    "for i in checks:\n",
    "    if i in hash:\n",
    "        print(hash[i], end=' ')\n",
    "    else:\n",
    "        print(0, end=' ')"
   ]
  },
  {
   "cell_type": "markdown",
   "id": "6e09d8af",
   "metadata": {},
   "source": [
    "## 1764"
   ]
  },
  {
   "cell_type": "code",
   "execution_count": 78,
   "id": "3f96ce15",
   "metadata": {},
   "outputs": [
    {
     "name": "stdout",
     "output_type": "stream",
     "text": [
      "3 4\n",
      "apple\n",
      "ball\n",
      "pine\n",
      "apple\n",
      "ball\n",
      "test\n",
      "test\n",
      "2\n",
      "apple ball "
     ]
    }
   ],
   "source": [
    "N,M = map(int,input().split())\n",
    "see = []\n",
    "listen=[]\n",
    "cnt = 0\n",
    "res = []\n",
    "for _ in range(N):\n",
    "    see.append(input())\n",
    "for _ in range(M):\n",
    "    listen.append(input())\n",
    "for j in range(M):\n",
    "    if listen[j] in see:\n",
    "        cnt+=1\n",
    "        res.append(listen[j])\n",
    "print(cnt)\n",
    "for i in res:\n",
    "    print(i)"
   ]
  },
  {
   "cell_type": "code",
   "execution_count": 81,
   "id": "4da45564",
   "metadata": {},
   "outputs": [
    {
     "ename": "KeyboardInterrupt",
     "evalue": "Interrupted by user",
     "output_type": "error",
     "traceback": [
      "\u001b[1;31m---------------------------------------------------------------------------\u001b[0m",
      "\u001b[1;31mKeyboardInterrupt\u001b[0m                         Traceback (most recent call last)",
      "Input \u001b[1;32mIn [81]\u001b[0m, in \u001b[0;36m<cell line: 1>\u001b[1;34m()\u001b[0m\n\u001b[1;32m----> 1\u001b[0m N,M \u001b[38;5;241m=\u001b[39m \u001b[38;5;28mmap\u001b[39m(\u001b[38;5;28mint\u001b[39m,\u001b[38;5;28;43minput\u001b[39;49m\u001b[43m(\u001b[49m\u001b[43m)\u001b[49m\u001b[38;5;241m.\u001b[39msplit())\n\u001b[0;32m      2\u001b[0m see \u001b[38;5;241m=\u001b[39m {}\n\u001b[0;32m      3\u001b[0m ans \u001b[38;5;241m=\u001b[39m []\n",
      "File \u001b[1;32m~\\anaconda3\\lib\\site-packages\\ipykernel\\kernelbase.py:1075\u001b[0m, in \u001b[0;36mKernel.raw_input\u001b[1;34m(self, prompt)\u001b[0m\n\u001b[0;32m   1071\u001b[0m \u001b[38;5;28;01mif\u001b[39;00m \u001b[38;5;129;01mnot\u001b[39;00m \u001b[38;5;28mself\u001b[39m\u001b[38;5;241m.\u001b[39m_allow_stdin:\n\u001b[0;32m   1072\u001b[0m     \u001b[38;5;28;01mraise\u001b[39;00m StdinNotImplementedError(\n\u001b[0;32m   1073\u001b[0m         \u001b[38;5;124m\"\u001b[39m\u001b[38;5;124mraw_input was called, but this frontend does not support input requests.\u001b[39m\u001b[38;5;124m\"\u001b[39m\n\u001b[0;32m   1074\u001b[0m     )\n\u001b[1;32m-> 1075\u001b[0m \u001b[38;5;28;01mreturn\u001b[39;00m \u001b[38;5;28;43mself\u001b[39;49m\u001b[38;5;241;43m.\u001b[39;49m\u001b[43m_input_request\u001b[49m\u001b[43m(\u001b[49m\n\u001b[0;32m   1076\u001b[0m \u001b[43m    \u001b[49m\u001b[38;5;28;43mstr\u001b[39;49m\u001b[43m(\u001b[49m\u001b[43mprompt\u001b[49m\u001b[43m)\u001b[49m\u001b[43m,\u001b[49m\n\u001b[0;32m   1077\u001b[0m \u001b[43m    \u001b[49m\u001b[38;5;28;43mself\u001b[39;49m\u001b[38;5;241;43m.\u001b[39;49m\u001b[43m_parent_ident\u001b[49m\u001b[43m[\u001b[49m\u001b[38;5;124;43m\"\u001b[39;49m\u001b[38;5;124;43mshell\u001b[39;49m\u001b[38;5;124;43m\"\u001b[39;49m\u001b[43m]\u001b[49m\u001b[43m,\u001b[49m\n\u001b[0;32m   1078\u001b[0m \u001b[43m    \u001b[49m\u001b[38;5;28;43mself\u001b[39;49m\u001b[38;5;241;43m.\u001b[39;49m\u001b[43mget_parent\u001b[49m\u001b[43m(\u001b[49m\u001b[38;5;124;43m\"\u001b[39;49m\u001b[38;5;124;43mshell\u001b[39;49m\u001b[38;5;124;43m\"\u001b[39;49m\u001b[43m)\u001b[49m\u001b[43m,\u001b[49m\n\u001b[0;32m   1079\u001b[0m \u001b[43m    \u001b[49m\u001b[43mpassword\u001b[49m\u001b[38;5;241;43m=\u001b[39;49m\u001b[38;5;28;43;01mFalse\u001b[39;49;00m\u001b[43m,\u001b[49m\n\u001b[0;32m   1080\u001b[0m \u001b[43m\u001b[49m\u001b[43m)\u001b[49m\n",
      "File \u001b[1;32m~\\anaconda3\\lib\\site-packages\\ipykernel\\kernelbase.py:1120\u001b[0m, in \u001b[0;36mKernel._input_request\u001b[1;34m(self, prompt, ident, parent, password)\u001b[0m\n\u001b[0;32m   1117\u001b[0m             \u001b[38;5;28;01mbreak\u001b[39;00m\n\u001b[0;32m   1118\u001b[0m \u001b[38;5;28;01mexcept\u001b[39;00m \u001b[38;5;167;01mKeyboardInterrupt\u001b[39;00m:\n\u001b[0;32m   1119\u001b[0m     \u001b[38;5;66;03m# re-raise KeyboardInterrupt, to truncate traceback\u001b[39;00m\n\u001b[1;32m-> 1120\u001b[0m     \u001b[38;5;28;01mraise\u001b[39;00m \u001b[38;5;167;01mKeyboardInterrupt\u001b[39;00m(\u001b[38;5;124m\"\u001b[39m\u001b[38;5;124mInterrupted by user\u001b[39m\u001b[38;5;124m\"\u001b[39m) \u001b[38;5;28;01mfrom\u001b[39;00m \u001b[38;5;28mNone\u001b[39m\n\u001b[0;32m   1121\u001b[0m \u001b[38;5;28;01mexcept\u001b[39;00m \u001b[38;5;167;01mException\u001b[39;00m:\n\u001b[0;32m   1122\u001b[0m     \u001b[38;5;28mself\u001b[39m\u001b[38;5;241m.\u001b[39mlog\u001b[38;5;241m.\u001b[39mwarning(\u001b[38;5;124m\"\u001b[39m\u001b[38;5;124mInvalid Message:\u001b[39m\u001b[38;5;124m\"\u001b[39m, exc_info\u001b[38;5;241m=\u001b[39m\u001b[38;5;28;01mTrue\u001b[39;00m)\n",
      "\u001b[1;31mKeyboardInterrupt\u001b[0m: Interrupted by user"
     ]
    }
   ],
   "source": [
    "#정답\n",
    "\n",
    "N,M = map(int,input().split())\n",
    "see = {}\n",
    "ans = []\n",
    "for i in range(N):\n",
    "    name=input()\n",
    "    if name not in see:\n",
    "        see[name]=i\n",
    "\n",
    "for i in range(M):\n",
    "    name_1=input()\n",
    "    if name_1 in see:\n",
    "        ans.append(name_1)\n",
    "ans.sort()\n",
    "print(len(ans))\n",
    "for i in ans:\n",
    "    print(i)"
   ]
  },
  {
   "cell_type": "markdown",
   "id": "d4f646fb",
   "metadata": {},
   "source": [
    "## 1269"
   ]
  },
  {
   "cell_type": "code",
   "execution_count": 96,
   "id": "0c8dc35e",
   "metadata": {},
   "outputs": [
    {
     "name": "stdout",
     "output_type": "stream",
     "text": [
      "3 5\n",
      "1 2 3\n",
      "2 3 4 5 6\n"
     ]
    },
    {
     "data": {
      "text/plain": [
       "{1}"
      ]
     },
     "execution_count": 96,
     "metadata": {},
     "output_type": "execute_result"
    }
   ],
   "source": [
    "N,M = map(int,input().split())\n",
    "a=set(map(int,input().split()))\n",
    "b=set(map(int,input().split()))\n",
    "print(len(a-b)+len(b-a))"
   ]
  },
  {
   "cell_type": "markdown",
   "id": "96a62c75",
   "metadata": {},
   "source": [
    "## 11478"
   ]
  },
  {
   "cell_type": "code",
   "execution_count": 125,
   "id": "35b47de9",
   "metadata": {},
   "outputs": [
    {
     "name": "stdout",
     "output_type": "stream",
     "text": [
      "ababc\n",
      "12\n"
     ]
    }
   ],
   "source": [
    "S= input()\n",
    "ans = set()\n",
    "for i in range(len(S)):\n",
    "    for j in range(i,len(S)):\n",
    "        tmp = S[i:j+1]\n",
    "        ans.add(tmp)\n",
    "print(len(ans))"
   ]
  },
  {
   "cell_type": "markdown",
   "id": "91146fce",
   "metadata": {},
   "source": [
    "## 1085"
   ]
  },
  {
   "cell_type": "code",
   "execution_count": 129,
   "id": "e29ab069",
   "metadata": {},
   "outputs": [
    {
     "name": "stdout",
     "output_type": "stream",
     "text": [
      "6 2 10 3\n",
      "1\n"
     ]
    }
   ],
   "source": [
    "x,y,w,h=map(int,input().split())\n",
    "ans=[w-x,h-y,x,y]\n",
    "print(min(ans))"
   ]
  },
  {
   "cell_type": "markdown",
   "id": "2f3e34e9",
   "metadata": {},
   "source": [
    "## 3009"
   ]
  },
  {
   "cell_type": "code",
   "execution_count": 139,
   "id": "de01dffd",
   "metadata": {},
   "outputs": [
    {
     "name": "stdout",
     "output_type": "stream",
     "text": [
      "5 5\n",
      "5 7\n",
      "7 5\n",
      "7 7\n"
     ]
    }
   ],
   "source": [
    "x=[]\n",
    "y=[]\n",
    "for _ in range(3):\n",
    "    tmp_x,tmp_y=map(int,input().split())\n",
    "    x.append(tmp_x)\n",
    "    y.append(tmp_y)\n",
    "for i in range(3):\n",
    "    if x.count(x[i])==1:\n",
    "        x4=x[i]\n",
    "    if y.count(y[i])==1:\n",
    "        y4=y[i]\n",
    "print(x4,y4)"
   ]
  },
  {
   "cell_type": "markdown",
   "id": "0e54020a",
   "metadata": {},
   "source": [
    "## 4153"
   ]
  },
  {
   "cell_type": "code",
   "execution_count": 148,
   "id": "b8e44bab",
   "metadata": {},
   "outputs": [
    {
     "name": "stdout",
     "output_type": "stream",
     "text": [
      "6 8 10\n",
      "Right\n",
      "25 52 60\n",
      "Wrong\n",
      "8 6 10\n",
      "Right\n",
      "0 0 0\n"
     ]
    }
   ],
   "source": [
    "while True:\n",
    "    tmp=list(map(int,input().split()))\n",
    "    tmp.sort()\n",
    "    if(sum(tmp)==0):\n",
    "        break\n",
    "    if tmp[0]**2+tmp[1]**2==tmp[2]**2:\n",
    "        print(\"Right\")\n",
    "    else:\n",
    "        print(\"Wrong\")"
   ]
  },
  {
   "cell_type": "markdown",
   "id": "6e80b746",
   "metadata": {},
   "source": [
    "# 11/4"
   ]
  },
  {
   "cell_type": "markdown",
   "id": "c450f552",
   "metadata": {},
   "source": [
    "## 2477"
   ]
  },
  {
   "cell_type": "code",
   "execution_count": 14,
   "id": "8f0d02c3",
   "metadata": {},
   "outputs": [
    {
     "name": "stdout",
     "output_type": "stream",
     "text": [
      "7\n",
      "4 50\n",
      "2 160\n",
      "3 30\n",
      "1 60\n",
      "3 20\n",
      "1 100\n",
      "47600\n"
     ]
    }
   ],
   "source": [
    "N=int(input())\n",
    "arr=[]\n",
    "x_tmp=[]\n",
    "y_tmp=[]\n",
    "x_max=0\n",
    "x_min=0\n",
    "y_max=0\n",
    "y_min=0\n",
    "for i in range(6):\n",
    "    arr.append(list(map(int,input().split())))\n",
    "    if arr[i][0]==2 or arr[i][0]==1:\n",
    "        x_tmp.append(arr[i][1])\n",
    "        x_max=max(x_tmp)\n",
    "        x_min=min(x_tmp)\n",
    "    else:\n",
    "        y_tmp.append(arr[i][1])\n",
    "        y_max=max(y_tmp)\n",
    "        y_min=min(y_tmp)\n",
    "res=(x_max*y_max)-(x_min*y_min)\n",
    "print(res*N)\n"
   ]
  },
  {
   "cell_type": "code",
   "execution_count": null,
   "id": "ed7d33e0",
   "metadata": {},
   "outputs": [],
   "source": [
    "a = {1:1,2:2,3:3,4:4}"
   ]
  },
  {
   "cell_type": "code",
   "execution_count": 41,
   "id": "5d357f19",
   "metadata": {},
   "outputs": [
    {
     "name": "stdout",
     "output_type": "stream",
     "text": [
      "1\n"
     ]
    }
   ],
   "source": [
    "if a.keys()==1 or a.keys()==2:\n",
    "    x=max(a[1],a[2])\n",
    "print(x)"
   ]
  },
  {
   "cell_type": "code",
   "execution_count": 43,
   "id": "3217bd44",
   "metadata": {},
   "outputs": [],
   "source": [
    "t max(a[1],a[2])"
   ]
  },
  {
   "cell_type": "code",
   "execution_count": 17,
   "id": "ef7ea9b9",
   "metadata": {},
   "outputs": [
    {
     "name": "stdout",
     "output_type": "stream",
     "text": [
      "1\n",
      "3.141592653589793\n",
      "2\n"
     ]
    }
   ],
   "source": [
    "from math import pi\n",
    "R = int(input())\n",
    "print(R**2*pi)\n",
    "print(R**2*2)"
   ]
  },
  {
   "cell_type": "markdown",
   "id": "6b2d1687",
   "metadata": {},
   "source": [
    "## 5086"
   ]
  },
  {
   "cell_type": "code",
   "execution_count": 20,
   "id": "d8dd24ca",
   "metadata": {},
   "outputs": [
    {
     "name": "stdout",
     "output_type": "stream",
     "text": [
      "0 0\n"
     ]
    }
   ],
   "source": [
    "while True:\n",
    "    n,m=map(int,input().split())\n",
    "    if n==0 or m==0:\n",
    "        break\n",
    "    if m%n==0:\n",
    "        print(\"factor\")\n",
    "    elif n%m==0:\n",
    "        print(\"multiple\")\n",
    "    else:\n",
    "        print(\"neither\")"
   ]
  },
  {
   "cell_type": "markdown",
   "id": "1fa9acfb",
   "metadata": {},
   "source": [
    "## 1037"
   ]
  },
  {
   "cell_type": "code",
   "execution_count": 24,
   "id": "2d0b9704",
   "metadata": {},
   "outputs": [
    {
     "name": "stdout",
     "output_type": "stream",
     "text": [
      "2\n",
      "4 2\n",
      "8\n"
     ]
    }
   ],
   "source": [
    "n= map(int,input().split())\n",
    "a = list(map(int,input().split()))\n",
    "a_m = max(a)\n",
    "a_mi = min(a)\n",
    "print(a_m*a_mi)"
   ]
  },
  {
   "cell_type": "markdown",
   "id": "61ea173d",
   "metadata": {},
   "source": [
    "## 2609"
   ]
  },
  {
   "cell_type": "code",
   "execution_count": 39,
   "id": "49d5a862",
   "metadata": {},
   "outputs": [
    {
     "name": "stdout",
     "output_type": "stream",
     "text": [
      "24 18\n",
      "6\n",
      "72\n"
     ]
    }
   ],
   "source": [
    "n,m = map(int,input().split())\n",
    "x_arr=[]\n",
    "y_arr=[]\n",
    "for i in range(min(n,m),0,-1):\n",
    "    if n%i==0 and m%i==0:\n",
    "        x_arr.append(i)\n",
    "for i in range(max(n,m),(n*m)+1):\n",
    "    if i%n==0 and i%m==0:\n",
    "        y_arr.append(i)\n",
    "print(max(x_arr))\n",
    "print(min(y_arr))"
   ]
  },
  {
   "cell_type": "code",
   "execution_count": 40,
   "id": "15827b98",
   "metadata": {},
   "outputs": [
    {
     "name": "stdout",
     "output_type": "stream",
     "text": [
      "24 18\n",
      "6\n",
      "72\n"
     ]
    }
   ],
   "source": [
    "# Python math 라이브러리\n",
    "import math\n",
    "n,m = map(int,input().split())\n",
    "\n",
    "print(math.gcd(n,m))\n",
    "print(math.lcm(n,m))"
   ]
  },
  {
   "cell_type": "code",
   "execution_count": 41,
   "id": "9946ae72",
   "metadata": {},
   "outputs": [
    {
     "name": "stdout",
     "output_type": "stream",
     "text": [
      "24 18\n",
      "6\n",
      "72\n"
     ]
    }
   ],
   "source": [
    "# 유클리드 호제법\n",
    "\n",
    "def gcd(x,y):\n",
    "    while(y):\n",
    "        x,y=y,x%y\n",
    "    return x\n",
    "def lcm(x,y):\n",
    "    result = (x*y)//gcd(x,y)\n",
    "    return result\n",
    "n,m = map(int,input().split())\n",
    "print(gcd(n,m))\n",
    "print(lcm(n,m))"
   ]
  },
  {
   "cell_type": "markdown",
   "id": "13704e38",
   "metadata": {},
   "source": [
    "## 1934"
   ]
  },
  {
   "cell_type": "code",
   "execution_count": 44,
   "id": "56d74449",
   "metadata": {},
   "outputs": [
    {
     "name": "stdout",
     "output_type": "stream",
     "text": [
      "3\n",
      "1 45000\n",
      "6 10\n",
      "13 17\n",
      "45000\n",
      "30\n",
      "221\n"
     ]
    }
   ],
   "source": [
    "cnt = int(input())\n",
    "ans = []\n",
    "for _ in range(cnt):\n",
    "    n,m=map(int,input().split())\n",
    "    for i in range(max(n,m),(n*m)+1):\n",
    "        if i%n==0 and i%m==0:\n",
    "            ans.append(i)\n",
    "            break\n",
    "for i in ans:\n",
    "    print(i)"
   ]
  },
  {
   "cell_type": "code",
   "execution_count": 45,
   "id": "c3699790",
   "metadata": {},
   "outputs": [
    {
     "name": "stdout",
     "output_type": "stream",
     "text": [
      "3\n",
      "1 45000\n",
      "45000\n",
      "6 10\n",
      "30\n",
      "2 1\n",
      "2\n"
     ]
    }
   ],
   "source": [
    "# 파이썬 math 라이브러리\n",
    "import math\n",
    "cnt = int(input())\n",
    "ans = []\n",
    "for _ in range(cnt):\n",
    "    n,m=map(int,input().split())\n",
    "    ans.append(math.lcm(n,m))\n",
    "for i in ans:\n",
    "    print(i)"
   ]
  },
  {
   "cell_type": "markdown",
   "id": "b32b92b1",
   "metadata": {},
   "source": [
    "## 2981"
   ]
  },
  {
   "cell_type": "code",
   "execution_count": 58,
   "id": "3c1c05b8",
   "metadata": {},
   "outputs": [
    {
     "name": "stdout",
     "output_type": "stream",
     "text": [
      "5\n",
      "5\n",
      "17\n",
      "23\n",
      "14\n",
      "83\n",
      "[3]\n",
      "[]\n"
     ]
    }
   ],
   "source": [
    "from math import gcd\n",
    "from math import sqrt\n",
    "\n",
    "n = int(input())\n",
    "ns = list(int(input()) for _ in range(n))\n",
    "ns.sort()\n",
    "interval = list()\n",
    "ans = list()\n",
    "\n",
    "for i in range(1, n):\n",
    "    interval.append(ns[i] - ns[i - 1])\n",
    "\n",
    "prev = interval[0]\n",
    "for i in range(1, len(interval)):\n",
    "    prev = gcd(prev, interval[i])\n",
    "\n",
    "for i in range(2, int(sqrt(prev)) + 1): #제곱근까지만 탐색\n",
    "    if prev % i == 0:\n",
    "        ans.append(i)\n",
    "        ans.append(prev//i)\n",
    "ans.append(prev)\n",
    "ans = list(set(ans)) #중복이 있을수 있으니 제거\n",
    "ans.sort()\n",
    "print(*ans)"
   ]
  },
  {
   "cell_type": "markdown",
   "id": "18b61d6a",
   "metadata": {},
   "source": [
    "## 3036"
   ]
  },
  {
   "cell_type": "code",
   "execution_count": 66,
   "id": "3cd3403c",
   "metadata": {},
   "outputs": [
    {
     "name": "stdout",
     "output_type": "stream",
     "text": [
      "3\n",
      "8 2 4\n",
      "4/1\n",
      "2/1\n"
     ]
    }
   ],
   "source": [
    "import math\n",
    "n = int(input())\n",
    "li = list(map(int, input().split()))\n",
    "for i in range(1, n):\n",
    "    g = math.gcd(li[0], li[i])\n",
    "    print('{0}/{1}'.format(li[0]//g, li[i]//g))"
   ]
  },
  {
   "cell_type": "code",
   "execution_count": 64,
   "id": "81abbe8e",
   "metadata": {},
   "outputs": [
    {
     "name": "stdout",
     "output_type": "stream",
     "text": [
      "1/2\n"
     ]
    }
   ],
   "source": [
    "import fractions\n",
    "test = fractions.Fraction(1,2)\n",
    "print(test)"
   ]
  },
  {
   "cell_type": "markdown",
   "id": "dac2fe23",
   "metadata": {},
   "source": [
    "## 11050"
   ]
  },
  {
   "cell_type": "code",
   "execution_count": 79,
   "id": "d35642b6",
   "metadata": {},
   "outputs": [
    {
     "name": "stdout",
     "output_type": "stream",
     "text": [
      "5 2\n",
      "10\n"
     ]
    }
   ],
   "source": [
    "from math import factorial\n",
    "n, k = map(int, input().split())\n",
    "b = factorial(n) // (factorial(k) * factorial(n - k))\n",
    "print(b)"
   ]
  },
  {
   "cell_type": "code",
   "execution_count": 74,
   "id": "081a0432",
   "metadata": {},
   "outputs": [
    {
     "name": "stdout",
     "output_type": "stream",
     "text": [
      "2\n",
      "1\n"
     ]
    }
   ],
   "source": [
    "for i in range(2,0,-1):\n",
    "    print(i)"
   ]
  },
  {
   "cell_type": "markdown",
   "id": "bf0b3e02",
   "metadata": {},
   "source": [
    "## 11051"
   ]
  },
  {
   "cell_type": "code",
   "execution_count": 82,
   "id": "a90be50d",
   "metadata": {},
   "outputs": [
    {
     "name": "stdout",
     "output_type": "stream",
     "text": [
      "29 13\n",
      "6448\n"
     ]
    }
   ],
   "source": [
    "from math import factorial\n",
    "n, k = map(int, input().split())\n",
    "b = factorial(n) // (factorial(k) * factorial(n - k))\n",
    "print(b%10007)"
   ]
  },
  {
   "cell_type": "markdown",
   "id": "bc39d074",
   "metadata": {},
   "source": [
    "## 1010"
   ]
  },
  {
   "cell_type": "code",
   "execution_count": 85,
   "id": "3dd80e87",
   "metadata": {},
   "outputs": [
    {
     "name": "stdout",
     "output_type": "stream",
     "text": [
      "3\n",
      "2 2\n",
      "1\n",
      "1 5\n",
      "5\n",
      "13 29\n",
      "67863915\n"
     ]
    }
   ],
   "source": [
    "def factorial(n):\n",
    "    num = 1\n",
    "    for i in range(1, n+1):\n",
    "        num *= i\n",
    "    return num\n",
    "\n",
    "\n",
    "T = int(input())\n",
    "\n",
    "for _ in range(T):\n",
    "    n, m = map(int, input().split())\n",
    "    bridge = factorial(m) // (factorial(n) * factorial(m - n))\n",
    "    print(bridge)"
   ]
  },
  {
   "cell_type": "markdown",
   "id": "cb9106db",
   "metadata": {},
   "source": [
    "## 9375"
   ]
  },
  {
   "cell_type": "code",
   "execution_count": 95,
   "id": "e40ab8a8",
   "metadata": {},
   "outputs": [
    {
     "name": "stdout",
     "output_type": "stream",
     "text": [
      "2\n",
      "3\n",
      "hat headgear\n",
      "sunglasses eyewear\n",
      "turban headgear\n",
      "3\n",
      "mask face\n",
      "sunglasses face\n",
      "makeup face\n",
      "5\n",
      "3\n"
     ]
    }
   ],
   "source": [
    "case=int(input())\n",
    "ans=[]\n",
    "for _ in range(case):\n",
    "    kind=[]\n",
    "    cnt=0\n",
    "    n=int(input())\n",
    "    for _ in range(n):\n",
    "        cloth=list(map(str,input().split()))\n",
    "        kind.append(cloth)\n",
    "    for i in range(n):\n",
    "        if kind[i] in kind:\n",
    "            cnt+=1\n",
    "            for j in range(i+1,n):\n",
    "                if kind[i][1]!=kind[j][1]:\n",
    "                    cnt+=1\n",
    "                else:\n",
    "                    continue\n",
    "    ans.append(cnt)\n",
    "for i in ans:\n",
    "    print(i)"
   ]
  },
  {
   "cell_type": "code",
   "execution_count": 96,
   "id": "24dca920",
   "metadata": {},
   "outputs": [
    {
     "name": "stdout",
     "output_type": "stream",
     "text": [
      "2\n",
      "3\n",
      "hat headgear\n",
      "sunglasses eyewear\n",
      "turban headgear\n",
      "1:{'headgear': ['hat', 'turban'], 'eyewear': ['sunglasses']}\n",
      "5\n"
     ]
    },
    {
     "ename": "KeyboardInterrupt",
     "evalue": "Interrupted by user",
     "output_type": "error",
     "traceback": [
      "\u001b[1;31m---------------------------------------------------------------------------\u001b[0m",
      "\u001b[1;31mKeyboardInterrupt\u001b[0m                         Traceback (most recent call last)",
      "Input \u001b[1;32mIn [96]\u001b[0m, in \u001b[0;36m<cell line: 4>\u001b[1;34m()\u001b[0m\n\u001b[0;32m      2\u001b[0m t \u001b[38;5;241m=\u001b[39m \u001b[38;5;28mint\u001b[39m(\u001b[38;5;28minput\u001b[39m())\n\u001b[0;32m      4\u001b[0m \u001b[38;5;28;01mfor\u001b[39;00m i \u001b[38;5;129;01min\u001b[39;00m \u001b[38;5;28mrange\u001b[39m(t):\n\u001b[1;32m----> 5\u001b[0m     n \u001b[38;5;241m=\u001b[39m \u001b[38;5;28mint\u001b[39m(\u001b[38;5;28;43minput\u001b[39;49m\u001b[43m(\u001b[49m\u001b[43m)\u001b[49m)\n\u001b[0;32m      6\u001b[0m     weardict \u001b[38;5;241m=\u001b[39m {}\n\u001b[0;32m      7\u001b[0m     \u001b[38;5;28;01mfor\u001b[39;00m j \u001b[38;5;129;01min\u001b[39;00m \u001b[38;5;28mrange\u001b[39m(n):\n",
      "File \u001b[1;32m~\\anaconda3\\lib\\site-packages\\ipykernel\\kernelbase.py:1075\u001b[0m, in \u001b[0;36mKernel.raw_input\u001b[1;34m(self, prompt)\u001b[0m\n\u001b[0;32m   1071\u001b[0m \u001b[38;5;28;01mif\u001b[39;00m \u001b[38;5;129;01mnot\u001b[39;00m \u001b[38;5;28mself\u001b[39m\u001b[38;5;241m.\u001b[39m_allow_stdin:\n\u001b[0;32m   1072\u001b[0m     \u001b[38;5;28;01mraise\u001b[39;00m StdinNotImplementedError(\n\u001b[0;32m   1073\u001b[0m         \u001b[38;5;124m\"\u001b[39m\u001b[38;5;124mraw_input was called, but this frontend does not support input requests.\u001b[39m\u001b[38;5;124m\"\u001b[39m\n\u001b[0;32m   1074\u001b[0m     )\n\u001b[1;32m-> 1075\u001b[0m \u001b[38;5;28;01mreturn\u001b[39;00m \u001b[38;5;28;43mself\u001b[39;49m\u001b[38;5;241;43m.\u001b[39;49m\u001b[43m_input_request\u001b[49m\u001b[43m(\u001b[49m\n\u001b[0;32m   1076\u001b[0m \u001b[43m    \u001b[49m\u001b[38;5;28;43mstr\u001b[39;49m\u001b[43m(\u001b[49m\u001b[43mprompt\u001b[49m\u001b[43m)\u001b[49m\u001b[43m,\u001b[49m\n\u001b[0;32m   1077\u001b[0m \u001b[43m    \u001b[49m\u001b[38;5;28;43mself\u001b[39;49m\u001b[38;5;241;43m.\u001b[39;49m\u001b[43m_parent_ident\u001b[49m\u001b[43m[\u001b[49m\u001b[38;5;124;43m\"\u001b[39;49m\u001b[38;5;124;43mshell\u001b[39;49m\u001b[38;5;124;43m\"\u001b[39;49m\u001b[43m]\u001b[49m\u001b[43m,\u001b[49m\n\u001b[0;32m   1078\u001b[0m \u001b[43m    \u001b[49m\u001b[38;5;28;43mself\u001b[39;49m\u001b[38;5;241;43m.\u001b[39;49m\u001b[43mget_parent\u001b[49m\u001b[43m(\u001b[49m\u001b[38;5;124;43m\"\u001b[39;49m\u001b[38;5;124;43mshell\u001b[39;49m\u001b[38;5;124;43m\"\u001b[39;49m\u001b[43m)\u001b[49m\u001b[43m,\u001b[49m\n\u001b[0;32m   1079\u001b[0m \u001b[43m    \u001b[49m\u001b[43mpassword\u001b[49m\u001b[38;5;241;43m=\u001b[39;49m\u001b[38;5;28;43;01mFalse\u001b[39;49;00m\u001b[43m,\u001b[49m\n\u001b[0;32m   1080\u001b[0m \u001b[43m\u001b[49m\u001b[43m)\u001b[49m\n",
      "File \u001b[1;32m~\\anaconda3\\lib\\site-packages\\ipykernel\\kernelbase.py:1120\u001b[0m, in \u001b[0;36mKernel._input_request\u001b[1;34m(self, prompt, ident, parent, password)\u001b[0m\n\u001b[0;32m   1117\u001b[0m             \u001b[38;5;28;01mbreak\u001b[39;00m\n\u001b[0;32m   1118\u001b[0m \u001b[38;5;28;01mexcept\u001b[39;00m \u001b[38;5;167;01mKeyboardInterrupt\u001b[39;00m:\n\u001b[0;32m   1119\u001b[0m     \u001b[38;5;66;03m# re-raise KeyboardInterrupt, to truncate traceback\u001b[39;00m\n\u001b[1;32m-> 1120\u001b[0m     \u001b[38;5;28;01mraise\u001b[39;00m \u001b[38;5;167;01mKeyboardInterrupt\u001b[39;00m(\u001b[38;5;124m\"\u001b[39m\u001b[38;5;124mInterrupted by user\u001b[39m\u001b[38;5;124m\"\u001b[39m) \u001b[38;5;28;01mfrom\u001b[39;00m \u001b[38;5;28mNone\u001b[39m\n\u001b[0;32m   1121\u001b[0m \u001b[38;5;28;01mexcept\u001b[39;00m \u001b[38;5;167;01mException\u001b[39;00m:\n\u001b[0;32m   1122\u001b[0m     \u001b[38;5;28mself\u001b[39m\u001b[38;5;241m.\u001b[39mlog\u001b[38;5;241m.\u001b[39mwarning(\u001b[38;5;124m\"\u001b[39m\u001b[38;5;124mInvalid Message:\u001b[39m\u001b[38;5;124m\"\u001b[39m, exc_info\u001b[38;5;241m=\u001b[39m\u001b[38;5;28;01mTrue\u001b[39;00m)\n",
      "\u001b[1;31mKeyboardInterrupt\u001b[0m: Interrupted by user"
     ]
    }
   ],
   "source": [
    "## 정답\n",
    "t = int(input())\n",
    "\n",
    "for i in range(t):\n",
    "    n = int(input())\n",
    "    weardict = {}\n",
    "    for j in range(n):\n",
    "        wear = list(input().split())\n",
    "        if wear[1] in weardict:\n",
    "            weardict[wear[1]].append(wear[0])\n",
    "            print(f'1:{weardict}')\n",
    "        else:\n",
    "            weardict[wear[1]] = [wear[0]]\n",
    "\n",
    "    cnt = 1 # 각 종류마다 항목의 개수\n",
    "\n",
    "    for k in weardict:\n",
    "        cnt *= (len(weardict[k])+1)\n",
    "    print(cnt-1)"
   ]
  },
  {
   "cell_type": "markdown",
   "id": "29d89c0c",
   "metadata": {},
   "source": [
    "## 15649"
   ]
  },
  {
   "cell_type": "code",
   "execution_count": 123,
   "id": "7e620646",
   "metadata": {},
   "outputs": [
    {
     "name": "stdout",
     "output_type": "stream",
     "text": [
      "4 2\n",
      "1 2\n",
      "1 3\n",
      "1 4\n",
      "2 1\n",
      "2 3\n",
      "2 4\n",
      "3 1\n",
      "3 2\n",
      "3 4\n",
      "4 1\n",
      "4 2\n",
      "4 3\n"
     ]
    }
   ],
   "source": [
    "n,m = list(map(int,input().split()))\n",
    " \n",
    "s = []\n",
    " \n",
    "def dfs():\n",
    "    if len(s)==m:\n",
    "        print(' '.join(map(str,s)))\n",
    "        return\n",
    "    \n",
    "    for i in range(1,n+1):\n",
    "        if i not in s:\n",
    "            s.append(i)\n",
    "            dfs()\n",
    "            s.pop()\n",
    " \n",
    "dfs()"
   ]
  },
  {
   "cell_type": "markdown",
   "id": "3ba3c3c1",
   "metadata": {},
   "source": [
    "## 15650"
   ]
  },
  {
   "cell_type": "code",
   "execution_count": 7,
   "id": "c5c7d123",
   "metadata": {},
   "outputs": [
    {
     "name": "stdout",
     "output_type": "stream",
     "text": [
      "4 2\n",
      "1 1\n",
      "1 2\n",
      "1 3\n",
      "1 4\n",
      "2 2\n",
      "2 3\n",
      "2 4\n",
      "3 3\n",
      "3 4\n",
      "4 4\n"
     ]
    }
   ],
   "source": [
    "n,m = map(int,input().split())\n",
    "ls = []\n",
    "j=1\n",
    "def back(start):\n",
    "    if len(ls)==m:\n",
    "        print(' '.join(map(str,ls)))\n",
    "        return\n",
    "    for i in range(start,n+1):\n",
    "            ls.append(i)\n",
    "            back(i)\n",
    "            ls.pop()\n",
    "           \n",
    "back(1)"
   ]
  },
  {
   "cell_type": "code",
   "execution_count": 8,
   "id": "03b542f1",
   "metadata": {},
   "outputs": [],
   "source": [
    "a=[1,2,3,4,5]"
   ]
  },
  {
   "cell_type": "code",
   "execution_count": 9,
   "id": "071b3322",
   "metadata": {},
   "outputs": [
    {
     "data": {
      "text/plain": [
       "1"
      ]
     },
     "execution_count": 9,
     "metadata": {},
     "output_type": "execute_result"
    }
   ],
   "source": [
    "a.pop(0)"
   ]
  },
  {
   "cell_type": "markdown",
   "id": "98a09657",
   "metadata": {},
   "source": [
    "# 1920 (이진탐색 연습)"
   ]
  },
  {
   "cell_type": "code",
   "execution_count": 14,
   "id": "641e4f75",
   "metadata": {},
   "outputs": [
    {
     "name": "stdout",
     "output_type": "stream",
     "text": [
      "5\n",
      "4 1 5 2 3\n",
      "5\n",
      "1 3 7 9 5\n",
      "1\n",
      "1\n",
      "0\n",
      "0\n",
      "1\n"
     ]
    }
   ],
   "source": [
    "n=int(input())\n",
    "n_lst=list(map(int,input().split()))\n",
    "m=int(input())\n",
    "m_lst=list(map(int,input().split()))\n",
    "n_lst.sort()\n",
    "def bin_search(a,key):\n",
    "    start = 0\n",
    "    end = len(a)-1\n",
    "    while True:\n",
    "        med =(start+end)//2\n",
    "        if a[med]==key:\n",
    "            return 1\n",
    "        elif a[med]<key:\n",
    "            start=med+1\n",
    "        else:\n",
    "            end=med-1\n",
    "        if start>end:\n",
    "            break\n",
    "    return 0\n",
    "for i in range(len(m_lst)):\n",
    "    print(bin_search(n_lst,m_lst[i]))"
   ]
  },
  {
   "cell_type": "markdown",
   "id": "2bba4fd0",
   "metadata": {},
   "source": [
    "# 2805 (다시 풀어보자)"
   ]
  },
  {
   "cell_type": "code",
   "execution_count": 16,
   "id": "5668dad7",
   "metadata": {},
   "outputs": [
    {
     "name": "stdout",
     "output_type": "stream",
     "text": [
      "\n"
     ]
    },
    {
     "ename": "ValueError",
     "evalue": "not enough values to unpack (expected 2, got 0)",
     "output_type": "error",
     "traceback": [
      "\u001b[1;31m---------------------------------------------------------------------------\u001b[0m",
      "\u001b[1;31mValueError\u001b[0m                                Traceback (most recent call last)",
      "Input \u001b[1;32mIn [16]\u001b[0m, in \u001b[0;36m<cell line: 1>\u001b[1;34m()\u001b[0m\n\u001b[1;32m----> 1\u001b[0m n,m\u001b[38;5;241m=\u001b[39m\u001b[38;5;28mmap\u001b[39m(\u001b[38;5;28mint\u001b[39m,\u001b[38;5;28minput\u001b[39m()\u001b[38;5;241m.\u001b[39msplit())\n\u001b[0;32m      2\u001b[0m lst \u001b[38;5;241m=\u001b[39m \u001b[38;5;28mlist\u001b[39m(\u001b[38;5;28mmap\u001b[39m(\u001b[38;5;28mint\u001b[39m,\u001b[38;5;28minput\u001b[39m()\u001b[38;5;241m.\u001b[39msplit()))\n\u001b[0;32m      3\u001b[0m lst\u001b[38;5;241m.\u001b[39msort()\n",
      "\u001b[1;31mValueError\u001b[0m: not enough values to unpack (expected 2, got 0)"
     ]
    }
   ],
   "source": [
    "n,m=map(int,input().split())\n",
    "lst = list(map(int,input().split()))\n",
    "lst.sort()\n",
    "\n",
    "def bin_search(lst,m):\n",
    "    start = 0\n",
    "    end = len(lst)-1\n",
    "    tmp=[]\n",
    "    x=0\n",
    "    while True:\n",
    "        med=(start+end)//2\n",
    "        for i in range(len(lst)):\n",
    "            if lst[med] >=x:\n",
    "                if m == lst[i]-x:\n",
    "                    return x\n",
    "                else:\n",
    "                    x+=1\n",
    "            elif \n",
    "                \n",
    "        "
   ]
  },
  {
   "cell_type": "markdown",
   "id": "495dbe82",
   "metadata": {},
   "source": [
    "# 2566"
   ]
  },
  {
   "cell_type": "code",
   "execution_count": 17,
   "id": "c8ac6a90",
   "metadata": {},
   "outputs": [
    {
     "name": "stdout",
     "output_type": "stream",
     "text": [
      "3 23 85 34 17 74 25 52 65\n",
      "10 7 39 42 88 52 14 72 63\n",
      "87 42 18 78 53 45 18 84 53\n",
      "34 28 64 85 12 16 75 36 55\n",
      "21 77 45 35 28 75 90 76 1\n",
      "25 87 65 15 28 11 37 28 74\n",
      "65 27 75 41 7 89 78 64 39\n",
      "47 47 70 45 23 65 3 41 44\n",
      "87 13 82 38 31 12 29 29 80\n",
      "90\n",
      "5 6\n"
     ]
    }
   ],
   "source": [
    "ans = []\n",
    "idx=0\n",
    "for i in range(9):\n",
    "    idx+=1\n",
    "    a = list(map(int,input().split()))\n",
    "    ans.append([max(a),idx,a.index(max(a))])\n",
    "b = max(ans)\n",
    "print(b[0])\n",
    "print(b[1],b[2]+1)"
   ]
  },
  {
   "cell_type": "code",
   "execution_count": null,
   "id": "1561f088",
   "metadata": {},
   "outputs": [],
   "source": []
  }
 ],
 "metadata": {
  "kernelspec": {
   "display_name": "Python 3 (ipykernel)",
   "language": "python",
   "name": "python3"
  },
  "language_info": {
   "codemirror_mode": {
    "name": "ipython",
    "version": 3
   },
   "file_extension": ".py",
   "mimetype": "text/x-python",
   "name": "python",
   "nbconvert_exporter": "python",
   "pygments_lexer": "ipython3",
   "version": "3.9.12"
  }
 },
 "nbformat": 4,
 "nbformat_minor": 5
}
