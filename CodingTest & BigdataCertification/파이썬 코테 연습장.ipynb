{
 "cells": [
  {
   "cell_type": "markdown",
   "id": "9225c63c",
   "metadata": {},
   "source": [
    "# 10950"
   ]
  },
  {
   "cell_type": "code",
   "execution_count": 21,
   "id": "f6af2d1a",
   "metadata": {},
   "outputs": [
    {
     "name": "stdout",
     "output_type": "stream",
     "text": [
      "5\n",
      "1 1\n",
      "2 3 \n",
      "3 4\n",
      "3 3 \n",
      "2 2 \n",
      "4\n"
     ]
    }
   ],
   "source": [
    "n = int(input())\n",
    "for i in range(n):\n",
    "    a,b = map(int,input().split())\n",
    "    result = a+b\n",
    "    print(result)"
   ]
  },
  {
   "cell_type": "markdown",
   "id": "c900be4b",
   "metadata": {},
   "source": [
    "# 2739"
   ]
  },
  {
   "cell_type": "code",
   "execution_count": 28,
   "id": "6fd08633",
   "metadata": {},
   "outputs": [
    {
     "name": "stdout",
     "output_type": "stream",
     "text": [
      "2\n",
      "2 * 1 = 2\n",
      "2 * 2 = 4\n",
      "2 * 3 = 6\n",
      "2 * 4 = 8\n",
      "2 * 5 = 10\n",
      "2 * 6 = 12\n",
      "2 * 7 = 14\n",
      "2 * 8 = 16\n",
      "2 * 9 = 18\n"
     ]
    }
   ],
   "source": [
    "n = int(input())\n",
    "for i in range(1,10):\n",
    "#     print(f'{n}*{i}={n*i}')\n",
    "    print(n, '*', i, '=', n*i)"
   ]
  },
  {
   "cell_type": "markdown",
   "id": "975be1ce",
   "metadata": {},
   "source": [
    "# 5597"
   ]
  },
  {
   "cell_type": "code",
   "execution_count": 8,
   "id": "77958345",
   "metadata": {},
   "outputs": [
    {
     "name": "stdout",
     "output_type": "stream",
     "text": [
      "3\n",
      "1\n",
      "4\n",
      "5\n",
      "7\n",
      "9\n",
      "6\n",
      "10\n",
      "11\n",
      "12\n",
      "13\n",
      "14\n",
      "15\n",
      "16\n",
      "17\n",
      "18\n",
      "19\n",
      "20\n",
      "21\n",
      "22\n",
      "23\n",
      "24\n",
      "25\n",
      "26\n",
      "27\n",
      "28\n",
      "29\n",
      "30\n",
      "2\n",
      "8\n"
     ]
    }
   ],
   "source": [
    "students = [i for i in range(1,31)]\n",
    "\n",
    "for _ in range(28):\n",
    "    applied = int(input())\n",
    "    students.remove(applied) #소거\n",
    "\n",
    "print(min(students))\n",
    "print(max(students))"
   ]
  },
  {
   "cell_type": "markdown",
   "id": "63693eb4",
   "metadata": {},
   "source": [
    "# 3052"
   ]
  },
  {
   "cell_type": "code",
   "execution_count": 21,
   "id": "8fd4d17f",
   "metadata": {},
   "outputs": [
    {
     "name": "stdout",
     "output_type": "stream",
     "text": [
      "1\n",
      "2\n",
      "3\n",
      "4\n",
      "5\n",
      "6\n",
      "7\n",
      "8\n",
      "9\n",
      "10\n",
      "10\n"
     ]
    }
   ],
   "source": [
    "arr = []\n",
    "for i in range(10):\n",
    "    n = int(input())\n",
    "    arr.append(n % 42)\n",
    "arr = set(arr)\n",
    "print(len(arr))"
   ]
  },
  {
   "cell_type": "markdown",
   "id": "63f31f20",
   "metadata": {},
   "source": [
    "# 1546"
   ]
  },
  {
   "cell_type": "code",
   "execution_count": 41,
   "id": "f59b2e74",
   "metadata": {},
   "outputs": [
    {
     "name": "stdout",
     "output_type": "stream",
     "text": [
      "3\n",
      "1 2 3\n"
     ]
    },
    {
     "ename": "TypeError",
     "evalue": "int() argument must be a string, a bytes-like object or a number, not 'list'",
     "output_type": "error",
     "traceback": [
      "\u001b[1;31m---------------------------------------------------------------------------\u001b[0m",
      "\u001b[1;31mTypeError\u001b[0m                                 Traceback (most recent call last)",
      "Input \u001b[1;32mIn [41]\u001b[0m, in \u001b[0;36m<cell line: 2>\u001b[1;34m()\u001b[0m\n\u001b[0;32m      1\u001b[0m n \u001b[38;5;241m=\u001b[39m \u001b[38;5;28mint\u001b[39m(\u001b[38;5;28minput\u001b[39m())\n\u001b[1;32m----> 2\u001b[0m sub \u001b[38;5;241m=\u001b[39m [\u001b[38;5;28;43mint\u001b[39;49m\u001b[43m(\u001b[49m\u001b[38;5;28;43minput\u001b[39;49m\u001b[43m(\u001b[49m\u001b[43m)\u001b[49m\u001b[38;5;241;43m.\u001b[39;49m\u001b[43msplit\u001b[49m\u001b[43m(\u001b[49m\u001b[43m)\u001b[49m\u001b[43m)\u001b[49m]\n\u001b[0;32m      3\u001b[0m m\u001b[38;5;241m=\u001b[39m\u001b[38;5;28mmax\u001b[39m(sub)\n\u001b[0;32m      4\u001b[0m \u001b[38;5;28mprint\u001b[39m(m)\n",
      "\u001b[1;31mTypeError\u001b[0m: int() argument must be a string, a bytes-like object or a number, not 'list'"
     ]
    }
   ],
   "source": [
    "n = int(input())\n",
    "sub = [int(input().split())]\n",
    "m=max(sub)\n",
    "print(m)"
   ]
  },
  {
   "cell_type": "markdown",
   "id": "5f63d60b",
   "metadata": {},
   "source": [
    "# 2738"
   ]
  },
  {
   "cell_type": "code",
   "execution_count": 48,
   "id": "874e38ae",
   "metadata": {},
   "outputs": [
    {
     "name": "stdout",
     "output_type": "stream",
     "text": [
      "3 3\n",
      "1 1 1\n",
      "2 2 2\n",
      "0 1 0\n",
      "3 3 3\n",
      "4 4 4\n",
      "5 5 100\n",
      "4 4 4 \n",
      "6 6 6 \n",
      "5 6 100 \n"
     ]
    }
   ],
   "source": [
    "A, B = [], []\n",
    "\n",
    "N, M = map(int, input().split())\n",
    "\n",
    "for row in range(N):\n",
    "    row = list(map(int, input().split()))\n",
    "    A.append(row)\n",
    "\n",
    "for row in range(N):\n",
    "    row = list(map(int, input().split()))\n",
    "    B.append(row)\n",
    "    \n",
    "for row in range(N):\n",
    "    for col in range(M):\n",
    "        print(A[row][col] + B[row][col], end=' ')\n",
    "    print()"
   ]
  },
  {
   "cell_type": "markdown",
   "id": "d2e69a23",
   "metadata": {},
   "source": [
    "# 10809"
   ]
  },
  {
   "cell_type": "code",
   "execution_count": 12,
   "id": "ba854ab6",
   "metadata": {},
   "outputs": [
    {
     "name": "stdout",
     "output_type": "stream",
     "text": [
      "apple\n",
      "0\n",
      "-1\n",
      "-1\n",
      "-1\n",
      "4\n",
      "-1\n",
      "-1\n",
      "-1\n",
      "-1\n",
      "-1\n",
      "-1\n",
      "3\n",
      "-1\n",
      "-1\n",
      "-1\n",
      "1\n",
      "-1\n",
      "-1\n",
      "-1\n",
      "-1\n",
      "-1\n",
      "-1\n",
      "-1\n",
      "-1\n",
      "-1\n",
      "-1\n"
     ]
    }
   ],
   "source": [
    "word = input()\n",
    "alphabet = list(range(97,123))  # 아스키코드 숫자 범위\n",
    "\n",
    "for x in alphabet :\n",
    "    print(word.find(chr(x)))"
   ]
  },
  {
   "cell_type": "code",
   "execution_count": null,
   "id": "674ef552",
   "metadata": {},
   "outputs": [],
   "source": []
  }
 ],
 "metadata": {
  "kernelspec": {
   "display_name": "Python 3",
   "language": "python",
   "name": "python3"
  },
  "language_info": {
   "codemirror_mode": {
    "name": "ipython",
    "version": 3
   },
   "file_extension": ".py",
   "mimetype": "text/x-python",
   "name": "python",
   "nbconvert_exporter": "python",
   "pygments_lexer": "ipython3",
   "version": "3.8.8"
  }
 },
 "nbformat": 4,
 "nbformat_minor": 5
}
