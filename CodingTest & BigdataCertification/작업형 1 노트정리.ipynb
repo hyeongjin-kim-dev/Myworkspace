{
 "cells": [
  {
   "cell_type": "code",
   "execution_count": 2,
   "id": "ed7fec3f",
   "metadata": {},
   "outputs": [],
   "source": [
    "# 필요한 라이브러리 호출\n",
    "import pandas as pd\n",
    "import numpy as np"
   ]
  },
  {
   "cell_type": "markdown",
   "id": "021d2c6d",
   "metadata": {},
   "source": [
    "# 이상치 발견 및 IQR 활용"
   ]
  },
  {
   "cell_type": "code",
   "execution_count": 7,
   "id": "71fe6274",
   "metadata": {},
   "outputs": [],
   "source": [
    "# 데이터 호출\n",
    "data=pd.read_csv(\"C:/users/SuperUser/Desktop/data/train.csv\")"
   ]
  },
  {
   "cell_type": "code",
   "execution_count": 8,
   "id": "2ae38f8a",
   "metadata": {},
   "outputs": [],
   "source": [
    "# IQR 구하기\n",
    "q1 = np.percentile(data['Fare'],25)\n",
    "q3 = np.percentile(data['Fare'],75)\n",
    "\n",
    "iqr=q3-q1"
   ]
  },
  {
   "cell_type": "code",
   "execution_count": 10,
   "id": "8299a05a",
   "metadata": {},
   "outputs": [],
   "source": [
    "# Fare 컬럼에서 iqr 범위 벗어난 이상치 구하기\n",
    "data=data[(data['Fare']<=q1-1.5*iqr)|(data['Fare']>=q3+1.5*iqr)]"
   ]
  },
  {
   "cell_type": "code",
   "execution_count": 11,
   "id": "9adbcdac",
   "metadata": {},
   "outputs": [
    {
     "name": "stdout",
     "output_type": "stream",
     "text": [
      "70\n"
     ]
    }
   ],
   "source": [
    "#이상치에 해당하는 여성의 수\n",
    "print(sum(data['Sex']==\"female\"))"
   ]
  },
  {
   "cell_type": "markdown",
   "id": "7a63e0a8",
   "metadata": {},
   "source": [
    "1. np.percentile(해당하는 데이터,비율) -> 1분위수= 25, 2분위수=50, 3분위수=75\n",
    "2. iqr 정상범위 = q1-1.5*iqr <= X =< q3+1.5*iqr\n",
    "3. 개수는 Sum() 함수로 구하기"
   ]
  },
  {
   "cell_type": "markdown",
   "id": "8330eb43",
   "metadata": {},
   "source": [
    "# 이상치 발견(소수점 구하기)"
   ]
  },
  {
   "cell_type": "code",
   "execution_count": 12,
   "id": "91da967e",
   "metadata": {},
   "outputs": [],
   "source": [
    "# 데이터 호출\n",
    "data=pd.read_csv(\"C:/users/SuperUser/Desktop/data/basic1.csv\")"
   ]
  },
  {
   "cell_type": "code",
   "execution_count": 14,
   "id": "dc0a0e13",
   "metadata": {},
   "outputs": [],
   "source": [
    "# 나이가 소수점인 나이 구하기\n",
    "data=data[data['age']-np.floor(data['age'])!=0]"
   ]
  },
  {
   "cell_type": "code",
   "execution_count": 16,
   "id": "e395a0ee",
   "metadata": {},
   "outputs": [],
   "source": [
    "# 올림 내림 버림(절사)들의 평균값 구하기\n",
    "u = np.ceil(data['age']).mean()\n",
    "d = np.floor(data['age']).mean()\n",
    "t = np.trunc(data['age']).mean()"
   ]
  },
  {
   "cell_type": "code",
   "execution_count": 17,
   "id": "bd3d03a3",
   "metadata": {},
   "outputs": [
    {
     "name": "stdout",
     "output_type": "stream",
     "text": [
      "69.5\n"
     ]
    }
   ],
   "source": [
    "print(u+d+t)"
   ]
  },
  {
   "cell_type": "markdown",
   "id": "0214f254",
   "metadata": {},
   "source": [
    "1. 소수점 구하기 = 기존 데이터 - np.floor(데이터) !=0 ex) 1.5 - np.floor(1.5) = 0.5\n",
    "2. 올림 내림 버림\n",
    " - np.ceil() 올림\n",
    " - np.floor() 내림\n",
    " - np.trunc() 버림"
   ]
  },
  {
   "cell_type": "markdown",
   "id": "9c99758c",
   "metadata": {},
   "source": [
    "# 결측치 처리(Map 활용하기)"
   ]
  },
  {
   "cell_type": "code",
   "execution_count": 28,
   "id": "12c51666",
   "metadata": {},
   "outputs": [],
   "source": [
    "# 데이터 호출\n",
    "data=pd.read_csv(\"C:/users/SuperUser/Desktop/data/basic1.csv\")"
   ]
  },
  {
   "cell_type": "code",
   "execution_count": 29,
   "id": "83d55485",
   "metadata": {},
   "outputs": [
    {
     "data": {
      "text/plain": [
       "id      0.00\n",
       "age     0.00\n",
       "city    0.00\n",
       "f1      0.31\n",
       "f2      0.00\n",
       "f3      0.95\n",
       "f4      0.00\n",
       "f5      0.00\n",
       "dtype: float64"
      ]
     },
     "execution_count": 29,
     "metadata": {},
     "output_type": "execute_result"
    }
   ],
   "source": [
    "# 결측치 비율 확인하기\n",
    "data.isnull().sum()/data.shape[0]"
   ]
  },
  {
   "cell_type": "code",
   "execution_count": 30,
   "id": "88503eba",
   "metadata": {},
   "outputs": [
    {
     "data": {
      "text/html": [
       "<div>\n",
       "<style scoped>\n",
       "    .dataframe tbody tr th:only-of-type {\n",
       "        vertical-align: middle;\n",
       "    }\n",
       "\n",
       "    .dataframe tbody tr th {\n",
       "        vertical-align: top;\n",
       "    }\n",
       "\n",
       "    .dataframe thead th {\n",
       "        text-align: right;\n",
       "    }\n",
       "</style>\n",
       "<table border=\"1\" class=\"dataframe\">\n",
       "  <thead>\n",
       "    <tr style=\"text-align: right;\">\n",
       "      <th></th>\n",
       "      <th>id</th>\n",
       "      <th>age</th>\n",
       "      <th>city</th>\n",
       "      <th>f1</th>\n",
       "      <th>f2</th>\n",
       "      <th>f4</th>\n",
       "      <th>f5</th>\n",
       "    </tr>\n",
       "  </thead>\n",
       "  <tbody>\n",
       "    <tr>\n",
       "      <th>0</th>\n",
       "      <td>id01</td>\n",
       "      <td>2.0</td>\n",
       "      <td>서울</td>\n",
       "      <td>NaN</td>\n",
       "      <td>0</td>\n",
       "      <td>ENFJ</td>\n",
       "      <td>91.297791</td>\n",
       "    </tr>\n",
       "    <tr>\n",
       "      <th>1</th>\n",
       "      <td>id02</td>\n",
       "      <td>9.0</td>\n",
       "      <td>서울</td>\n",
       "      <td>70.0</td>\n",
       "      <td>1</td>\n",
       "      <td>ENFJ</td>\n",
       "      <td>60.339826</td>\n",
       "    </tr>\n",
       "    <tr>\n",
       "      <th>2</th>\n",
       "      <td>id03</td>\n",
       "      <td>27.0</td>\n",
       "      <td>서울</td>\n",
       "      <td>61.0</td>\n",
       "      <td>1</td>\n",
       "      <td>ISTJ</td>\n",
       "      <td>17.252986</td>\n",
       "    </tr>\n",
       "    <tr>\n",
       "      <th>3</th>\n",
       "      <td>id04</td>\n",
       "      <td>75.0</td>\n",
       "      <td>서울</td>\n",
       "      <td>NaN</td>\n",
       "      <td>2</td>\n",
       "      <td>INFP</td>\n",
       "      <td>52.667078</td>\n",
       "    </tr>\n",
       "    <tr>\n",
       "      <th>4</th>\n",
       "      <td>id05</td>\n",
       "      <td>24.0</td>\n",
       "      <td>서울</td>\n",
       "      <td>85.0</td>\n",
       "      <td>2</td>\n",
       "      <td>ISFJ</td>\n",
       "      <td>29.269869</td>\n",
       "    </tr>\n",
       "    <tr>\n",
       "      <th>...</th>\n",
       "      <td>...</td>\n",
       "      <td>...</td>\n",
       "      <td>...</td>\n",
       "      <td>...</td>\n",
       "      <td>...</td>\n",
       "      <td>...</td>\n",
       "      <td>...</td>\n",
       "    </tr>\n",
       "    <tr>\n",
       "      <th>95</th>\n",
       "      <td>id96</td>\n",
       "      <td>92.0</td>\n",
       "      <td>경기</td>\n",
       "      <td>53.0</td>\n",
       "      <td>1</td>\n",
       "      <td>ENTJ</td>\n",
       "      <td>52.667078</td>\n",
       "    </tr>\n",
       "    <tr>\n",
       "      <th>96</th>\n",
       "      <td>id97</td>\n",
       "      <td>100.0</td>\n",
       "      <td>경기</td>\n",
       "      <td>NaN</td>\n",
       "      <td>0</td>\n",
       "      <td>INFP</td>\n",
       "      <td>67.886373</td>\n",
       "    </tr>\n",
       "    <tr>\n",
       "      <th>97</th>\n",
       "      <td>id98</td>\n",
       "      <td>39.0</td>\n",
       "      <td>경기</td>\n",
       "      <td>58.0</td>\n",
       "      <td>2</td>\n",
       "      <td>INFP</td>\n",
       "      <td>98.429899</td>\n",
       "    </tr>\n",
       "    <tr>\n",
       "      <th>98</th>\n",
       "      <td>id99</td>\n",
       "      <td>1.0</td>\n",
       "      <td>경기</td>\n",
       "      <td>47.0</td>\n",
       "      <td>0</td>\n",
       "      <td>ESFJ</td>\n",
       "      <td>97.381034</td>\n",
       "    </tr>\n",
       "    <tr>\n",
       "      <th>99</th>\n",
       "      <td>id100</td>\n",
       "      <td>47.0</td>\n",
       "      <td>경기</td>\n",
       "      <td>53.0</td>\n",
       "      <td>0</td>\n",
       "      <td>ESFP</td>\n",
       "      <td>33.308999</td>\n",
       "    </tr>\n",
       "  </tbody>\n",
       "</table>\n",
       "<p>100 rows × 7 columns</p>\n",
       "</div>"
      ],
      "text/plain": [
       "       id    age city    f1  f2    f4         f5\n",
       "0    id01    2.0   서울   NaN   0  ENFJ  91.297791\n",
       "1    id02    9.0   서울  70.0   1  ENFJ  60.339826\n",
       "2    id03   27.0   서울  61.0   1  ISTJ  17.252986\n",
       "3    id04   75.0   서울   NaN   2  INFP  52.667078\n",
       "4    id05   24.0   서울  85.0   2  ISFJ  29.269869\n",
       "..    ...    ...  ...   ...  ..   ...        ...\n",
       "95   id96   92.0   경기  53.0   1  ENTJ  52.667078\n",
       "96   id97  100.0   경기   NaN   0  INFP  67.886373\n",
       "97   id98   39.0   경기  58.0   2  INFP  98.429899\n",
       "98   id99    1.0   경기  47.0   0  ESFJ  97.381034\n",
       "99  id100   47.0   경기  53.0   0  ESFP  33.308999\n",
       "\n",
       "[100 rows x 7 columns]"
      ]
     },
     "execution_count": 30,
     "metadata": {},
     "output_type": "execute_result"
    }
   ],
   "source": [
    "# 80 %이상인 f3 컬럼 삭제하기\n",
    "data.drop('f3',axis=1)"
   ]
  },
  {
   "cell_type": "code",
   "execution_count": 31,
   "id": "53035558",
   "metadata": {},
   "outputs": [
    {
     "data": {
      "text/plain": [
       "array(['서울', '부산', '대구', '경기'], dtype=object)"
      ]
     },
     "execution_count": 31,
     "metadata": {},
     "output_type": "execute_result"
    }
   ],
   "source": [
    "# city 컬럼 데이터 확인하기(중복제거한 유일 값)\n",
    "data['city'].unique()"
   ]
  },
  {
   "cell_type": "code",
   "execution_count": 32,
   "id": "a11c4686",
   "metadata": {},
   "outputs": [
    {
     "data": {
      "text/plain": [
       "(68.0, 62.0, 75.0, 58.0)"
      ]
     },
     "execution_count": 32,
     "metadata": {},
     "output_type": "execute_result"
    }
   ],
   "source": [
    "# city별 'f1'중앙값구하기\n",
    "s = data[data['city']==\"서울\"]['f1'].median()\n",
    "b = data[data['city']==\"부산\"]['f1'].median()\n",
    "d = data[data['city']==\"대구\"]['f1'].median()\n",
    "k = data[data['city']==\"경기\"]['f1'].median()\n",
    "s,b,d,k"
   ]
  },
  {
   "cell_type": "code",
   "execution_count": 37,
   "id": "d7cfc14d",
   "metadata": {},
   "outputs": [],
   "source": [
    "# city별 'f1'중앙값으로 결측치 대체하기\n",
    "data['f1']=data['f1'].fillna(data['city'].map({\"서울\":s,\"부산\":b,\"대구\":d,\"경기\":k}))"
   ]
  },
  {
   "cell_type": "code",
   "execution_count": 38,
   "id": "9f2930fb",
   "metadata": {},
   "outputs": [
    {
     "name": "stdout",
     "output_type": "stream",
     "text": [
      "65.52\n"
     ]
    }
   ],
   "source": [
    "print(data['f1'].mean())"
   ]
  },
  {
   "cell_type": "markdown",
   "id": "e2cfe494",
   "metadata": {},
   "source": [
    "1. 결측치 확인하기 - data.isnull().sum()\n",
    "2. data.shape[0] - 전체 행의 개수 / data.shape[1] - 전체 열의 개수\n",
    "3. data.drop(컬럼명, axis=1) - 데이터 삭제\n",
    " - axis=1 : 컬럼을 기준\n",
    " - axis=0 : 행을 기준\n",
    "4. data['컬럼'].unique - 해당 컬럼의 유일 값 반환\n",
    "5. map() 함수 : 해당 컬럼에 지정값 삽입"
   ]
  },
  {
   "cell_type": "markdown",
   "id": "0ad1d015",
   "metadata": {},
   "source": [
    "# 왜도 첨도 구하기"
   ]
  },
  {
   "cell_type": "code",
   "execution_count": 41,
   "id": "773844f2",
   "metadata": {},
   "outputs": [],
   "source": [
    "data=pd.read_csv(\"C:/Users/SuperUser/Desktop/data/train (1).csv\")"
   ]
  },
  {
   "cell_type": "code",
   "execution_count": 42,
   "id": "0a4e75a5",
   "metadata": {},
   "outputs": [
    {
     "data": {
      "text/html": [
       "<div>\n",
       "<style scoped>\n",
       "    .dataframe tbody tr th:only-of-type {\n",
       "        vertical-align: middle;\n",
       "    }\n",
       "\n",
       "    .dataframe tbody tr th {\n",
       "        vertical-align: top;\n",
       "    }\n",
       "\n",
       "    .dataframe thead th {\n",
       "        text-align: right;\n",
       "    }\n",
       "</style>\n",
       "<table border=\"1\" class=\"dataframe\">\n",
       "  <thead>\n",
       "    <tr style=\"text-align: right;\">\n",
       "      <th></th>\n",
       "      <th>Id</th>\n",
       "      <th>MSSubClass</th>\n",
       "      <th>MSZoning</th>\n",
       "      <th>LotFrontage</th>\n",
       "      <th>LotArea</th>\n",
       "      <th>Street</th>\n",
       "      <th>Alley</th>\n",
       "      <th>LotShape</th>\n",
       "      <th>LandContour</th>\n",
       "      <th>Utilities</th>\n",
       "      <th>...</th>\n",
       "      <th>PoolArea</th>\n",
       "      <th>PoolQC</th>\n",
       "      <th>Fence</th>\n",
       "      <th>MiscFeature</th>\n",
       "      <th>MiscVal</th>\n",
       "      <th>MoSold</th>\n",
       "      <th>YrSold</th>\n",
       "      <th>SaleType</th>\n",
       "      <th>SaleCondition</th>\n",
       "      <th>SalePrice</th>\n",
       "    </tr>\n",
       "  </thead>\n",
       "  <tbody>\n",
       "    <tr>\n",
       "      <th>0</th>\n",
       "      <td>1</td>\n",
       "      <td>60</td>\n",
       "      <td>RL</td>\n",
       "      <td>65.0</td>\n",
       "      <td>8450</td>\n",
       "      <td>Pave</td>\n",
       "      <td>NaN</td>\n",
       "      <td>Reg</td>\n",
       "      <td>Lvl</td>\n",
       "      <td>AllPub</td>\n",
       "      <td>...</td>\n",
       "      <td>0</td>\n",
       "      <td>NaN</td>\n",
       "      <td>NaN</td>\n",
       "      <td>NaN</td>\n",
       "      <td>0</td>\n",
       "      <td>2</td>\n",
       "      <td>2008</td>\n",
       "      <td>WD</td>\n",
       "      <td>Normal</td>\n",
       "      <td>208500</td>\n",
       "    </tr>\n",
       "    <tr>\n",
       "      <th>1</th>\n",
       "      <td>2</td>\n",
       "      <td>20</td>\n",
       "      <td>RL</td>\n",
       "      <td>80.0</td>\n",
       "      <td>9600</td>\n",
       "      <td>Pave</td>\n",
       "      <td>NaN</td>\n",
       "      <td>Reg</td>\n",
       "      <td>Lvl</td>\n",
       "      <td>AllPub</td>\n",
       "      <td>...</td>\n",
       "      <td>0</td>\n",
       "      <td>NaN</td>\n",
       "      <td>NaN</td>\n",
       "      <td>NaN</td>\n",
       "      <td>0</td>\n",
       "      <td>5</td>\n",
       "      <td>2007</td>\n",
       "      <td>WD</td>\n",
       "      <td>Normal</td>\n",
       "      <td>181500</td>\n",
       "    </tr>\n",
       "    <tr>\n",
       "      <th>2</th>\n",
       "      <td>3</td>\n",
       "      <td>60</td>\n",
       "      <td>RL</td>\n",
       "      <td>68.0</td>\n",
       "      <td>11250</td>\n",
       "      <td>Pave</td>\n",
       "      <td>NaN</td>\n",
       "      <td>IR1</td>\n",
       "      <td>Lvl</td>\n",
       "      <td>AllPub</td>\n",
       "      <td>...</td>\n",
       "      <td>0</td>\n",
       "      <td>NaN</td>\n",
       "      <td>NaN</td>\n",
       "      <td>NaN</td>\n",
       "      <td>0</td>\n",
       "      <td>9</td>\n",
       "      <td>2008</td>\n",
       "      <td>WD</td>\n",
       "      <td>Normal</td>\n",
       "      <td>223500</td>\n",
       "    </tr>\n",
       "    <tr>\n",
       "      <th>3</th>\n",
       "      <td>4</td>\n",
       "      <td>70</td>\n",
       "      <td>RL</td>\n",
       "      <td>60.0</td>\n",
       "      <td>9550</td>\n",
       "      <td>Pave</td>\n",
       "      <td>NaN</td>\n",
       "      <td>IR1</td>\n",
       "      <td>Lvl</td>\n",
       "      <td>AllPub</td>\n",
       "      <td>...</td>\n",
       "      <td>0</td>\n",
       "      <td>NaN</td>\n",
       "      <td>NaN</td>\n",
       "      <td>NaN</td>\n",
       "      <td>0</td>\n",
       "      <td>2</td>\n",
       "      <td>2006</td>\n",
       "      <td>WD</td>\n",
       "      <td>Abnorml</td>\n",
       "      <td>140000</td>\n",
       "    </tr>\n",
       "    <tr>\n",
       "      <th>4</th>\n",
       "      <td>5</td>\n",
       "      <td>60</td>\n",
       "      <td>RL</td>\n",
       "      <td>84.0</td>\n",
       "      <td>14260</td>\n",
       "      <td>Pave</td>\n",
       "      <td>NaN</td>\n",
       "      <td>IR1</td>\n",
       "      <td>Lvl</td>\n",
       "      <td>AllPub</td>\n",
       "      <td>...</td>\n",
       "      <td>0</td>\n",
       "      <td>NaN</td>\n",
       "      <td>NaN</td>\n",
       "      <td>NaN</td>\n",
       "      <td>0</td>\n",
       "      <td>12</td>\n",
       "      <td>2008</td>\n",
       "      <td>WD</td>\n",
       "      <td>Normal</td>\n",
       "      <td>250000</td>\n",
       "    </tr>\n",
       "  </tbody>\n",
       "</table>\n",
       "<p>5 rows × 81 columns</p>\n",
       "</div>"
      ],
      "text/plain": [
       "   Id  MSSubClass MSZoning  LotFrontage  LotArea Street Alley LotShape  \\\n",
       "0   1          60       RL         65.0     8450   Pave   NaN      Reg   \n",
       "1   2          20       RL         80.0     9600   Pave   NaN      Reg   \n",
       "2   3          60       RL         68.0    11250   Pave   NaN      IR1   \n",
       "3   4          70       RL         60.0     9550   Pave   NaN      IR1   \n",
       "4   5          60       RL         84.0    14260   Pave   NaN      IR1   \n",
       "\n",
       "  LandContour Utilities  ... PoolArea PoolQC Fence MiscFeature MiscVal MoSold  \\\n",
       "0         Lvl    AllPub  ...        0    NaN   NaN         NaN       0      2   \n",
       "1         Lvl    AllPub  ...        0    NaN   NaN         NaN       0      5   \n",
       "2         Lvl    AllPub  ...        0    NaN   NaN         NaN       0      9   \n",
       "3         Lvl    AllPub  ...        0    NaN   NaN         NaN       0      2   \n",
       "4         Lvl    AllPub  ...        0    NaN   NaN         NaN       0     12   \n",
       "\n",
       "  YrSold  SaleType  SaleCondition  SalePrice  \n",
       "0   2008        WD         Normal     208500  \n",
       "1   2007        WD         Normal     181500  \n",
       "2   2008        WD         Normal     223500  \n",
       "3   2006        WD        Abnorml     140000  \n",
       "4   2008        WD         Normal     250000  \n",
       "\n",
       "[5 rows x 81 columns]"
      ]
     },
     "execution_count": 42,
     "metadata": {},
     "output_type": "execute_result"
    }
   ],
   "source": [
    "data.head()"
   ]
  },
  {
   "cell_type": "code",
   "execution_count": 43,
   "id": "608942b1",
   "metadata": {},
   "outputs": [
    {
     "data": {
      "text/plain": [
       "(1.8828757597682129, 6.536281860064529)"
      ]
     },
     "execution_count": 43,
     "metadata": {},
     "output_type": "execute_result"
    }
   ],
   "source": [
    "# SalePrice 컬럼의 왜도 첨도 구하기\n",
    "s = data['SalePrice'].skew()\n",
    "k = data['SalePrice'].kurt()\n",
    "s,k"
   ]
  },
  {
   "cell_type": "code",
   "execution_count": 44,
   "id": "ca263157",
   "metadata": {},
   "outputs": [],
   "source": [
    "# log1p 스케일링\n",
    "data['SalePrice']=np.log1p(data['SalePrice'])"
   ]
  },
  {
   "cell_type": "code",
   "execution_count": 45,
   "id": "d47cca87",
   "metadata": {},
   "outputs": [],
   "source": [
    "# 변환 이후 왜도 첨도 구하기\n",
    "s1 = data['SalePrice'].skew()\n",
    "k1 = data['SalePrice'].kurt()"
   ]
  },
  {
   "cell_type": "code",
   "execution_count": 46,
   "id": "0a501ad6",
   "metadata": {},
   "outputs": [
    {
     "name": "stdout",
     "output_type": "stream",
     "text": [
      "9.35\n"
     ]
    }
   ],
   "source": [
    "print(np.round(s+s1+k+k1,2))"
   ]
  },
  {
   "cell_type": "markdown",
   "id": "32f4f761",
   "metadata": {},
   "source": [
    "1. 왜도 - data['column'].skew()\n",
    "2. 첨도 - data['column'].kurt()\n",
    "3. 변수 변환 하는 법\n",
    " - np.log : 로그변환\n",
    " - np.exp : 지수변환\n",
    " - np.log1p : log(x+1) 값 변환"
   ]
  },
  {
   "cell_type": "markdown",
   "id": "fb660a40",
   "metadata": {},
   "source": [
    "# 표준편차 구하기"
   ]
  },
  {
   "cell_type": "code",
   "execution_count": 47,
   "id": "697de380",
   "metadata": {},
   "outputs": [],
   "source": [
    "data=pd.read_csv(\"C:/users/SuperUser/Desktop/data/basic1.csv\")"
   ]
  },
  {
   "cell_type": "code",
   "execution_count": 48,
   "id": "c7bc0442",
   "metadata": {},
   "outputs": [
    {
     "data": {
      "text/plain": [
       "(17.727097901235837, 23.586719427112648)"
      ]
     },
     "execution_count": 48,
     "metadata": {},
     "output_type": "execute_result"
    }
   ],
   "source": [
    "# f4 컬럼 값이 enfj, infp인 f1의 표준편차 구하기\n",
    "enfj = data[data['f4']=='ENFJ']['f1'].std()\n",
    "infp = data[data['f4']=='INFP']['f1'].std()\n",
    "\n",
    "enfj, infp"
   ]
  },
  {
   "cell_type": "code",
   "execution_count": 49,
   "id": "173cebce",
   "metadata": {},
   "outputs": [
    {
     "name": "stdout",
     "output_type": "stream",
     "text": [
      "5.859621525876811\n"
     ]
    }
   ],
   "source": [
    "# 두 표준편차의 차이 절댓값으로 구하기\n",
    "\n",
    "print(np.abs(enfj-infp))"
   ]
  },
  {
   "cell_type": "markdown",
   "id": "8bc5398c",
   "metadata": {},
   "source": [
    "1. 표준편차 : data['column'].std() 해당 컬럼의 표준편차\n",
    "2. 절댓값 : np.abs()"
   ]
  }
 ],
 "metadata": {
  "kernelspec": {
   "display_name": "Python 3 (ipykernel)",
   "language": "python",
   "name": "python3"
  },
  "language_info": {
   "codemirror_mode": {
    "name": "ipython",
    "version": 3
   },
   "file_extension": ".py",
   "mimetype": "text/x-python",
   "name": "python",
   "nbconvert_exporter": "python",
   "pygments_lexer": "ipython3",
   "version": "3.9.12"
  }
 },
 "nbformat": 4,
 "nbformat_minor": 5
}
