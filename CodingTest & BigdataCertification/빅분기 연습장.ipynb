{
 "cells": [
  {
   "cell_type": "markdown",
   "id": "4f703e34",
   "metadata": {},
   "source": [
    "# 1"
   ]
  },
  {
   "cell_type": "code",
   "execution_count": 19,
   "id": "3b7d18e9",
   "metadata": {},
   "outputs": [
    {
     "name": "stdout",
     "output_type": "stream",
     "text": [
      "70\n"
     ]
    }
   ],
   "source": [
    "import pandas as pd\n",
    "import numpy as np\n",
    "data = pd.read_csv(\"C:/Users/SuperUser/Desktop/data/titanic_train.csv\")\n",
    "q1 = np.percentile(data['Fare'],25)\n",
    "q3 = np.percentile(data['Fare'],75)\n",
    "iqr = q3-q1\n",
    "\n",
    "ans = data[(data['Fare']<q1-iqr*1.5) | (data['Fare']>q3+1.5*iqr)]['Sex']=='female'\n",
    "print(sum(ans))"
   ]
  },
  {
   "cell_type": "markdown",
   "id": "687c263a",
   "metadata": {},
   "source": [
    "# 2"
   ]
  },
  {
   "cell_type": "code",
   "execution_count": 21,
   "id": "8bb63ab5",
   "metadata": {},
   "outputs": [
    {
     "name": "stdout",
     "output_type": "stream",
     "text": [
      "69.5\n"
     ]
    }
   ],
   "source": [
    "import pandas as pd\n",
    "import numpy as np\n",
    "data = pd.read_csv(\"C:/Users/SuperUser/Desktop/data/basic1.csv\")\n",
    "\n",
    "data=data[(data['age']-np.floor(data['age']))!=0]\n",
    "\n",
    "u = np.ceil(data['age']).mean()\n",
    "f = np.floor(data['age']).mean()\n",
    "t = np.trunc(data['age']).mean()\n",
    "\n",
    "print(u+f+t)"
   ]
  },
  {
   "cell_type": "markdown",
   "id": "db87ef23",
   "metadata": {},
   "source": [
    "# 3"
   ]
  },
  {
   "cell_type": "code",
   "execution_count": 48,
   "id": "afbaedc8",
   "metadata": {},
   "outputs": [
    {
     "name": "stdout",
     "output_type": "stream",
     "text": [
      "65.52\n"
     ]
    }
   ],
   "source": [
    "import pandas as pd\n",
    "import numpy as np\n",
    "\n",
    "data = pd.read_csv(\"C:/Users/SuperUser/Desktop/data/basic1.csv\")\n",
    "# print(data.isnull().sum()/data.shape[0])\n",
    "data = data.drop('f3',axis=1)\n",
    "\n",
    "data['city'].unique()\n",
    "s = data[data['city']=='서울']['f1'].median()\n",
    "b = data[data['city']=='부산']['f1'].median()\n",
    "d = data[data['city']=='대구']['f1'].median()\n",
    "k = data[data['city']=='경기']['f1'].median()\n",
    "\n",
    "data['f1'] = data['f1'].fillna(data['city'].map({'서울':s,'부산':b,'대구':d,'경기':k}))\n",
    "print(data['f1'].mean())"
   ]
  },
  {
   "cell_type": "markdown",
   "id": "db300e32",
   "metadata": {},
   "source": [
    "# 4"
   ]
  },
  {
   "cell_type": "code",
   "execution_count": 50,
   "id": "eeac22fa",
   "metadata": {},
   "outputs": [
    {
     "name": "stdout",
     "output_type": "stream",
     "text": [
      "9.35\n"
     ]
    }
   ],
   "source": [
    "import pandas as pd\n",
    "import numpy as np\n",
    "\n",
    "data = pd.read_csv(\"C:/Users/SuperUser/Desktop/train.csv\")\n",
    "\n",
    "s = data['SalePrice'].skew()\n",
    "k = data['SalePrice'].kurt()\n",
    "\n",
    "data['SalePrice'] = np.log1p(data['SalePrice'])\n",
    "\n",
    "s1 = data['SalePrice'].skew()\n",
    "k1 = data['SalePrice'].kurt()\n",
    "\n",
    "print(round(s+k+s1+k1,2))"
   ]
  },
  {
   "cell_type": "markdown",
   "id": "0c429d67",
   "metadata": {},
   "source": [
    "# 5"
   ]
  },
  {
   "cell_type": "code",
   "execution_count": 52,
   "id": "973fab5f",
   "metadata": {},
   "outputs": [
    {
     "name": "stdout",
     "output_type": "stream",
     "text": [
      "5.859621525876811\n"
     ]
    }
   ],
   "source": [
    "import pandas as pd\n",
    "import numpy as np\n",
    "\n",
    "data = pd.read_csv(\"C:/Users/SuperUser/Desktop/data/basic1.csv\")\n",
    "\n",
    "a = data[data['f4']=='ENFJ']['f1'].std()\n",
    "b = data[data['f4']=='INFP']['f1'].std()\n",
    "\n",
    "print(abs(a-b))"
   ]
  },
  {
   "cell_type": "markdown",
   "id": "b72e383c",
   "metadata": {},
   "source": [
    "# 6"
   ]
  },
  {
   "cell_type": "code",
   "execution_count": 61,
   "id": "2dba95e0",
   "metadata": {},
   "outputs": [
    {
     "data": {
      "text/plain": [
       "833.0"
      ]
     },
     "execution_count": 61,
     "metadata": {},
     "output_type": "execute_result"
    }
   ],
   "source": [
    "import pandas as pd\n",
    "\n",
    "data = pd.read_csv(\"C:/Users/SuperUser/Desktop/data/basic1.csv\")\n",
    "\n",
    "data = data.dropna(subset=['f1'])\n",
    "\n",
    "data = data.groupby(['city','f2']).sum()\n",
    "data.iloc[0]['f1']"
   ]
  },
  {
   "cell_type": "markdown",
   "id": "5ba44c03",
   "metadata": {},
   "source": [
    "# 7"
   ]
  },
  {
   "cell_type": "code",
   "execution_count": 64,
   "id": "77b8726c",
   "metadata": {},
   "outputs": [
    {
     "name": "stdout",
     "output_type": "stream",
     "text": [
      "90.0\n"
     ]
    }
   ],
   "source": [
    "import pandas as pd\n",
    "\n",
    "data = pd.read_csv(\"C:/Users/SuperUser/Desktop/data/basic1.csv\")\n",
    "\n",
    "data['f4']=data['f4'].replace('ESFJ','ISFJ')\n",
    "\n",
    "ans = data[(data['city']=='경기')&(data['f4']=='ISFJ')]['age'].max()\n",
    "print(ans)"
   ]
  },
  {
   "cell_type": "markdown",
   "id": "fd60c6a6",
   "metadata": {},
   "source": [
    "# 8"
   ]
  },
  {
   "cell_type": "code",
   "execution_count": 16,
   "id": "96d9202e",
   "metadata": {},
   "outputs": [
    {
     "data": {
      "text/plain": [
       "980.3783783783783"
      ]
     },
     "execution_count": 16,
     "metadata": {},
     "output_type": "execute_result"
    }
   ],
   "source": [
    "import pandas as pd\n",
    "\n",
    "data = pd.read_csv(\"C:/Users/SuperUser/Desktop/data/basic1.csv\")\n",
    "\n",
    "tmp = data[data['f2']==1]['f1'].cumsum()\n",
    "tmp = tmp.fillna(method='bfill')\n",
    "tmp.mean()"
   ]
  },
  {
   "cell_type": "markdown",
   "id": "c322220c",
   "metadata": {},
   "source": [
    "# 9"
   ]
  },
  {
   "cell_type": "code",
   "execution_count": 18,
   "id": "e82b84ef",
   "metadata": {},
   "outputs": [
    {
     "data": {
      "text/plain": [
       "0.260619629559015"
      ]
     },
     "execution_count": 18,
     "metadata": {},
     "output_type": "execute_result"
    }
   ],
   "source": [
    "import pandas as pd\n",
    "from sklearn.preprocessing import StandardScaler\n",
    "\n",
    "data = pd.read_csv(\"C:/Users/SuperUser/Desktop/data/basic1.csv\")\n",
    "scale = StandardScaler()\n",
    "data['f5']=scale.fit_transform(data[['f5']])\n",
    "data['f5'].median()"
   ]
  },
  {
   "cell_type": "markdown",
   "id": "2a6f8252",
   "metadata": {},
   "source": [
    "# 10"
   ]
  },
  {
   "cell_type": "code",
   "execution_count": 28,
   "id": "14f1f129",
   "metadata": {},
   "outputs": [
    {
     "data": {
      "text/plain": [
       "39.17"
      ]
     },
     "execution_count": 28,
     "metadata": {},
     "output_type": "execute_result"
    }
   ],
   "source": [
    "import pandas as pd\n",
    "from sklearn.preprocessing import power_transform\n",
    "\n",
    "data = pd.read_csv(\"C:/Users/SuperUser/Desktop/data/basic1.csv\")\n",
    "data= data[data['age']>=20]\n",
    "\n",
    "data['f1']=data['f1'].fillna(data['f1'].mode()[0])\n",
    "\n",
    "data['a']=power_transform(data[['f1']],standardize=False)\n",
    "data['b']=power_transform(data[['f1']], method = \"box-cox\",standardize=False)\n",
    "# data['a'].head()\n",
    "round(sum(abs(data['a']-data['b'])),2)"
   ]
  },
  {
   "cell_type": "markdown",
   "id": "b78465ed",
   "metadata": {},
   "source": [
    "# 11"
   ]
  },
  {
   "cell_type": "code",
   "execution_count": 37,
   "id": "369eadcf",
   "metadata": {},
   "outputs": [
    {
     "name": "stdout",
     "output_type": "stream",
     "text": [
      "1.0248740983597389\n"
     ]
    }
   ],
   "source": [
    "import pandas as pd\n",
    "from sklearn.preprocessing import MinMaxScaler\n",
    "\n",
    "data = pd.read_csv(\"C:/Users/SuperUser/Desktop/data/basic1.csv\")\n",
    "scale = MinMaxScaler()\n",
    "data['f5']=scale.fit_transform(data[['f5']])\n",
    "tmp=data['f5'].sort_values(ascending=False)\n",
    "\n",
    "up = tmp.quantile(0.95)\n",
    "down = tmp.quantile(0.05)\n",
    "print(up+down)"
   ]
  },
  {
   "cell_type": "markdown",
   "id": "7126f1b3",
   "metadata": {},
   "source": [
    "# 12"
   ]
  },
  {
   "cell_type": "code",
   "execution_count": 50,
   "id": "4a60478d",
   "metadata": {},
   "outputs": [
    {
     "name": "stdout",
     "output_type": "stream",
     "text": [
      "91.6\n"
     ]
    }
   ],
   "source": [
    "import pandas as pd\n",
    "\n",
    "data = pd.read_csv(\"C:/Users/SuperUser/Desktop/covid.csv\",index_col = 0)\n",
    "\n",
    "# data.head()\n",
    "\n",
    "data=data.groupby('country').max()\n",
    "data = data.reset_index().sort_values('ratio',ascending=False)\n",
    "\n",
    "data = data[1:]\n",
    "\n",
    "top = data['ratio'].head(10).mean()\n",
    "bot = data['ratio'].tail(10).mean()\n",
    "\n",
    "print(round(top-bot,1))"
   ]
  },
  {
   "cell_type": "markdown",
   "id": "f84d3641",
   "metadata": {},
   "source": [
    "# 13"
   ]
  },
  {
   "cell_type": "code",
   "execution_count": 56,
   "id": "984a0b6a",
   "metadata": {},
   "outputs": [
    {
     "name": "stdout",
     "output_type": "stream",
     "text": [
      "0.49\n"
     ]
    }
   ],
   "source": [
    "import pandas as pd\n",
    "\n",
    "data = pd.read_csv(\"C:/Users/SuperUser/Desktop/winequality-red.csv\")\n",
    "\n",
    "a= abs(data.corr()[:-1]['quality']).max()\n",
    "b= abs(data.corr()[:-1]['quality']).min()\n",
    "\n",
    "print(round(a+b,2))"
   ]
  },
  {
   "cell_type": "markdown",
   "id": "c21d80f1",
   "metadata": {},
   "source": [
    "# 14"
   ]
  },
  {
   "cell_type": "code",
   "execution_count": 61,
   "id": "a4ef595f",
   "metadata": {},
   "outputs": [
    {
     "data": {
      "text/plain": [
       "643.68"
      ]
     },
     "execution_count": 61,
     "metadata": {},
     "output_type": "execute_result"
    }
   ],
   "source": [
    "import pandas as pd\n",
    "\n",
    "data = pd.read_csv(\"C:/Users/SuperUser/Desktop/data/basic1.csv\")\n",
    "data = data.groupby(['city','f4'])[['f5']].mean()\n",
    "\n",
    "data=data.reset_index().sort_values('f5',ascending=False)\n",
    "round(sum(data['f5'].iloc[:7]),2)"
   ]
  },
  {
   "cell_type": "markdown",
   "id": "9886d2db",
   "metadata": {},
   "source": [
    "# 15"
   ]
  },
  {
   "cell_type": "code",
   "execution_count": 64,
   "id": "b2dac5ea",
   "metadata": {},
   "outputs": [
    {
     "data": {
      "text/plain": [
       "73.875"
      ]
     },
     "execution_count": 64,
     "metadata": {},
     "output_type": "execute_result"
    }
   ],
   "source": [
    "import pandas as pd\n",
    "\n",
    "data = pd.read_csv(\"C:/Users/SuperUser/Desktop/data/basic1.csv\")\n",
    "data = data.sort_values('age',ascending=False).head(20)\n",
    "data['f1']=data['f1'].fillna(data['f1'].median())\n",
    "\n",
    "data[(data['f4']=='ISFJ')&(data['f5']>=20)]['f1'].mean()"
   ]
  },
  {
   "cell_type": "markdown",
   "id": "03e61547",
   "metadata": {},
   "source": [
    "# 16"
   ]
  },
  {
   "cell_type": "code",
   "execution_count": 67,
   "id": "a168f21c",
   "metadata": {},
   "outputs": [
    {
     "name": "stdout",
     "output_type": "stream",
     "text": [
      "38.44\n"
     ]
    }
   ],
   "source": [
    "import pandas as pd\n",
    "\n",
    "data = pd.read_csv(\"C:/Users/SuperUser/Desktop/data/basic1.csv\")\n",
    "\n",
    "data=data[data['f2']==0].sort_values('age',ascending=True)\n",
    "data = data[:20]\n",
    "\n",
    "before = data['f1'].var()\n",
    "data['f1']=data['f1'].fillna(data['f1'].min())\n",
    "after = data['f1'].var()\n",
    "\n",
    "print(round(before-after,2))"
   ]
  },
  {
   "cell_type": "markdown",
   "id": "cf3b95fe",
   "metadata": {},
   "source": [
    "# 17"
   ]
  },
  {
   "cell_type": "code",
   "execution_count": 73,
   "id": "04f93e5e",
   "metadata": {},
   "outputs": [
    {
     "data": {
      "text/plain": [
       "1477685.0"
      ]
     },
     "execution_count": 73,
     "metadata": {},
     "output_type": "execute_result"
    }
   ],
   "source": [
    "import pandas as pd\n",
    "\n",
    "data = pd.read_csv(\"C:/Users/SuperUser/Desktop/data/basic2.csv\")\n",
    "\n",
    "data['Date']=pd.to_datetime(data['Date'])\n",
    "\n",
    "data['year']=data['Date'].dt.year\n",
    "data['month']=data['Date'].dt.month\n",
    "data['day']=data['Date'].dt.day\n",
    "\n",
    "data[(data['year']==2022)&(data['month']==5)]['Sales'].median()"
   ]
  },
  {
   "cell_type": "markdown",
   "id": "e5e8f826",
   "metadata": {},
   "source": [
    "# 18"
   ]
  },
  {
   "cell_type": "code",
   "execution_count": 1,
   "id": "5a73a991",
   "metadata": {},
   "outputs": [
    {
     "name": "stdout",
     "output_type": "stream",
     "text": [
      "3010339.1\n"
     ]
    }
   ],
   "source": [
    "import pandas as pd\n",
    "\n",
    "data = pd.read_csv(\"C:/Users/SuperUser/Desktop/data/basic2.csv\")\n",
    "\n",
    "data['Date']=pd.to_datetime(data['Date'])\n",
    "\n",
    "data['year']=data['Date'].dt.year\n",
    "data['month']=data['Date'].dt.month\n",
    "data['day']=data['Date'].dt.day\n",
    "data['weekday']=data['Date'].dt.weekday\n",
    "\n",
    "a = data[(data['year']==2022)&(data['month']==5)&(data['weekday']>=5)]['Sales'].mean()\n",
    "b = data[(data['year']==2022)&(data['month']==5)&(data['weekday'] < 5)]['Sales'].mean()\n",
    "\n",
    "print(round(a-b,2))"
   ]
  },
  {
   "cell_type": "markdown",
   "id": "0f7175ef",
   "metadata": {},
   "source": [
    "# 19"
   ]
  },
  {
   "cell_type": "code",
   "execution_count": 2,
   "id": "9177119f",
   "metadata": {},
   "outputs": [
    {
     "name": "stdout",
     "output_type": "stream",
     "text": [
      "42473436.0\n"
     ]
    }
   ],
   "source": [
    "import pandas as pd\n",
    "\n",
    "data = pd.read_csv(\"C:/Users/SuperUser/Desktop/data/basic2.csv\")\n",
    "\n",
    "data['Date']=pd.to_datetime(data['Date'])\n",
    "\n",
    "data['year']=data['Date'].dt.year\n",
    "data['month']=data['Date'].dt.month\n",
    "\n",
    "def chg(x):\n",
    "    if x['Events']==1:\n",
    "        x['Sale2']=x['Sales']*0.8\n",
    "    else:\n",
    "        x['Sale2']=x['Sales']\n",
    "    return x\n",
    "data=data.apply(lambda x: chg(x),axis=1)\n",
    "\n",
    "a = data[data['year']==2022].groupby('month')['Sale2'].sum().max()\n",
    "b = data[data['year']==2023].groupby('month')['Sale2'].sum().max()\n",
    "\n",
    "print(round(abs(a-b),0))"
   ]
  },
  {
   "cell_type": "markdown",
   "id": "0e2d6956",
   "metadata": {},
   "source": [
    "# 20"
   ]
  },
  {
   "cell_type": "code",
   "execution_count": 12,
   "id": "1dac61a0",
   "metadata": {},
   "outputs": [
    {
     "name": "stdout",
     "output_type": "stream",
     "text": [
      "15\n"
     ]
    }
   ],
   "source": [
    "import pandas as pd\n",
    "\n",
    "a = pd.read_csv(\"C:/Users/SuperUser/Desktop/data/basic1.csv\")\n",
    "b = pd.read_csv(\"C:/Users/SuperUser/Desktop/data/basic3.csv\")\n",
    "\n",
    "data = pd.merge(a,b ,how='left',on='f4')\n",
    "data=data.dropna(subset=['r2'])\n",
    "\n",
    "data = data.reset_index()\n",
    "\n",
    "print(sum(data.iloc[:20]['f2']))"
   ]
  },
  {
   "cell_type": "markdown",
   "id": "31369fa3",
   "metadata": {},
   "source": [
    "# 21"
   ]
  },
  {
   "cell_type": "code",
   "execution_count": 26,
   "id": "ab1787a1",
   "metadata": {},
   "outputs": [
    {
     "name": "stdout",
     "output_type": "stream",
     "text": [
      "165.0\n"
     ]
    }
   ],
   "source": [
    "import pandas as pd\n",
    "\n",
    "data = pd.read_csv(\"C:/Users/SuperUser/Desktop/data/basic1.csv\")\n",
    "\n",
    "data = data[(data['age']>0)]\n",
    "data = data[(data['age']==round(data['age'],0))]\n",
    "\n",
    "data['range'] = pd.qcut(data['age'],q=3,labels=['g1','g2','g3'])\n",
    "\n",
    "a = data[data['range']=='g1']['age'].median()\n",
    "b = data[data['range']=='g2']['age'].median()\n",
    "c = data[data['range']=='g3']['age'].median()\n",
    "\n",
    "print(a+b+c)"
   ]
  },
  {
   "cell_type": "markdown",
   "id": "81ba4cb1",
   "metadata": {},
   "source": [
    "# 22"
   ]
  },
  {
   "cell_type": "code",
   "execution_count": 33,
   "id": "2f5bf0d7",
   "metadata": {},
   "outputs": [
    {
     "name": "stdout",
     "output_type": "stream",
     "text": [
      "91639050\n"
     ]
    }
   ],
   "source": [
    "import pandas as pd\n",
    "\n",
    "data = pd.read_csv(\"C:/Users/SuperUser/Desktop/data/basic2.csv\")\n",
    "\n",
    "data['Date']=pd.to_datetime(data['Date'])\n",
    "data=data.set_index('Date')\n",
    "tmp = data.resample('W').sum()\n",
    "a = tmp['Sales'].max()\n",
    "b = tmp['Sales'].min()\n",
    "\n",
    "print(abs(a-b))"
   ]
  },
  {
   "cell_type": "markdown",
   "id": "337a210a",
   "metadata": {},
   "source": [
    "# 23"
   ]
  },
  {
   "cell_type": "code",
   "execution_count": 38,
   "id": "6b8dfb87",
   "metadata": {},
   "outputs": [
    {
     "name": "stdout",
     "output_type": "stream",
     "text": [
      "0.5\n"
     ]
    }
   ],
   "source": [
    "import pandas as pd\n",
    "\n",
    "data = pd.read_csv(\"C:/Users/SuperUser/Desktop/data/basic1.csv\")\n",
    "\n",
    "a = data['f1'].sort_values(ascending=False).iloc[9]\n",
    "data['f1']=data['f1'].fillna(a)\n",
    "\n",
    "a = data['f1'].median()\n",
    "data = data.drop_duplicates(subset=['age'])\n",
    "b= data['f1'].median()\n",
    "\n",
    "print(abs(a-b))"
   ]
  },
  {
   "cell_type": "markdown",
   "id": "9086fa66",
   "metadata": {},
   "source": [
    "# 24"
   ]
  },
  {
   "cell_type": "code",
   "execution_count": 57,
   "id": "ddc4dde9",
   "metadata": {},
   "outputs": [
    {
     "data": {
      "text/plain": [
       "1894876.0"
      ]
     },
     "execution_count": 57,
     "metadata": {},
     "output_type": "execute_result"
    }
   ],
   "source": [
    "import pandas as pd\n",
    "\n",
    "data = pd.read_csv(\"C:/Users/SuperUser/Desktop/data/basic2.csv\")\n",
    "data['prev']=data['PV'].shift(1)\n",
    "\n",
    "data['prev'] = data['prev'].fillna(method='bfill')\n",
    "\n",
    "data.head()\n",
    "a = data[(data['Events']==1)&(data['Sales']<=1000000)]['prev'].sum()\n",
    "a"
   ]
  },
  {
   "cell_type": "markdown",
   "id": "83164d13",
   "metadata": {},
   "source": [
    "# 25"
   ]
  },
  {
   "cell_type": "code",
   "execution_count": 77,
   "id": "4507330a",
   "metadata": {},
   "outputs": [
    {
     "data": {
      "text/plain": [
       "0"
      ]
     },
     "execution_count": 77,
     "metadata": {},
     "output_type": "execute_result"
    }
   ],
   "source": [
    "import pandas as pd\n",
    "\n",
    "data = pd.read_csv(\"C:/Users/SuperUser/Desktop/data/basic1.csv\")\n",
    "\n",
    "tmp = data[(data['f4'].str[:1]=='E')&(data['city']=='부산')&(20<=data['age']) & (data['age']<30)]\n",
    "\n",
    "len(tmp)"
   ]
  },
  {
   "cell_type": "code",
   "execution_count": 139,
   "id": "8c41fb9c",
   "metadata": {},
   "outputs": [
    {
     "data": {
      "text/plain": [
       "((712, 11), (179, 11), (712, 2), (179, 2))"
      ]
     },
     "execution_count": 139,
     "metadata": {},
     "output_type": "execute_result"
    }
   ],
   "source": [
    "import pandas as pd\n",
    "import numpy as np\n",
    "from sklearn.model_selection import train_test_split\n",
    "\n",
    "def exam_data_load(df, target, id_name=\"\", null_name=\"\"):\n",
    "    if id_name == \"\":\n",
    "        df = df.reset_index().rename(columns={\"index\": \"id\"})\n",
    "        id_name = 'id'\n",
    "    else:\n",
    "        id_name = id_name\n",
    "    \n",
    "    if null_name != \"\":\n",
    "        df[df == null_name] = np.nan\n",
    "    \n",
    "    X_train, X_test = train_test_split(df, test_size=0.2, random_state=2021)\n",
    "    \n",
    "    y_train = X_train[[id_name, target]]\n",
    "    X_train = X_train.drop(columns=[target])\n",
    "\n",
    "    \n",
    "    y_test = X_test[[id_name, target]]\n",
    "    X_test = X_test.drop(columns=[target])\n",
    "    return X_train, X_test, y_train, y_test \n",
    "    \n",
    "df = pd.read_csv(\"C:/Users/SuperUser/Desktop/data/titanic_train.csv\")\n",
    "X_train, X_test, y_train, y_test = exam_data_load(df, target='Survived', id_name='PassengerId')\n",
    "\n",
    "X_train.shape, X_test.shape, y_train.shape, y_test.shape"
   ]
  },
  {
   "cell_type": "code",
   "execution_count": 140,
   "id": "34d35ea7",
   "metadata": {},
   "outputs": [
    {
     "name": "stdout",
     "output_type": "stream",
     "text": [
      "<class 'pandas.core.frame.DataFrame'>\n",
      "Int64Index: 712 entries, 90 to 116\n",
      "Data columns (total 11 columns):\n",
      " #   Column       Non-Null Count  Dtype  \n",
      "---  ------       --------------  -----  \n",
      " 0   PassengerId  712 non-null    int64  \n",
      " 1   Pclass       712 non-null    int64  \n",
      " 2   Name         712 non-null    object \n",
      " 3   Sex          712 non-null    object \n",
      " 4   Age          575 non-null    float64\n",
      " 5   SibSp        712 non-null    int64  \n",
      " 6   Parch        712 non-null    int64  \n",
      " 7   Ticket       712 non-null    object \n",
      " 8   Fare         712 non-null    float64\n",
      " 9   Cabin        170 non-null    object \n",
      " 10  Embarked     711 non-null    object \n",
      "dtypes: float64(2), int64(4), object(5)\n",
      "memory usage: 66.8+ KB\n"
     ]
    }
   ],
   "source": [
    "X_train.info()"
   ]
  },
  {
   "cell_type": "code",
   "execution_count": 141,
   "id": "033e3abc",
   "metadata": {},
   "outputs": [
    {
     "name": "stdout",
     "output_type": "stream",
     "text": [
      "<class 'pandas.core.frame.DataFrame'>\n",
      "Int64Index: 179 entries, 210 to 45\n",
      "Data columns (total 11 columns):\n",
      " #   Column       Non-Null Count  Dtype  \n",
      "---  ------       --------------  -----  \n",
      " 0   PassengerId  179 non-null    int64  \n",
      " 1   Pclass       179 non-null    int64  \n",
      " 2   Name         179 non-null    object \n",
      " 3   Sex          179 non-null    object \n",
      " 4   Age          139 non-null    float64\n",
      " 5   SibSp        179 non-null    int64  \n",
      " 6   Parch        179 non-null    int64  \n",
      " 7   Ticket       179 non-null    object \n",
      " 8   Fare         179 non-null    float64\n",
      " 9   Cabin        34 non-null     object \n",
      " 10  Embarked     178 non-null    object \n",
      "dtypes: float64(2), int64(4), object(5)\n",
      "memory usage: 16.8+ KB\n"
     ]
    }
   ],
   "source": [
    "X_test.info()"
   ]
  },
  {
   "cell_type": "code",
   "execution_count": 142,
   "id": "b5597c77",
   "metadata": {},
   "outputs": [],
   "source": [
    "col = ['Pclass','Sex','SibSp','Fare','Embarked']\n",
    "y = y_train['Survived']\n",
    "X_train = pd.get_dummies(X_train[col])\n",
    "test = pd.get_dummies(X_test[col])"
   ]
  },
  {
   "cell_type": "code",
   "execution_count": 143,
   "id": "6772fce0",
   "metadata": {},
   "outputs": [
    {
     "data": {
      "text/plain": [
       "0.8862359550561798"
      ]
     },
     "execution_count": 143,
     "metadata": {},
     "output_type": "execute_result"
    }
   ],
   "source": [
    "from sklearn.ensemble import RandomForestClassifier\n",
    "\n",
    "model = RandomForestClassifier(max_depth = 7, n_estimators=200, random_state=2022)\n",
    "model.fit(X_train,y)\n",
    "pred = model.predict(test)\n",
    "model.score(X_train,y)"
   ]
  },
  {
   "cell_type": "code",
   "execution_count": 145,
   "id": "cdaae1a3",
   "metadata": {},
   "outputs": [
    {
     "data": {
      "text/html": [
       "<div>\n",
       "<style scoped>\n",
       "    .dataframe tbody tr th:only-of-type {\n",
       "        vertical-align: middle;\n",
       "    }\n",
       "\n",
       "    .dataframe tbody tr th {\n",
       "        vertical-align: top;\n",
       "    }\n",
       "\n",
       "    .dataframe thead th {\n",
       "        text-align: right;\n",
       "    }\n",
       "</style>\n",
       "<table border=\"1\" class=\"dataframe\">\n",
       "  <thead>\n",
       "    <tr style=\"text-align: right;\">\n",
       "      <th></th>\n",
       "      <th>PassengerId</th>\n",
       "      <th>Survived</th>\n",
       "    </tr>\n",
       "  </thead>\n",
       "  <tbody>\n",
       "    <tr>\n",
       "      <th>210</th>\n",
       "      <td>211</td>\n",
       "      <td>0</td>\n",
       "    </tr>\n",
       "    <tr>\n",
       "      <th>876</th>\n",
       "      <td>877</td>\n",
       "      <td>0</td>\n",
       "    </tr>\n",
       "    <tr>\n",
       "      <th>666</th>\n",
       "      <td>667</td>\n",
       "      <td>0</td>\n",
       "    </tr>\n",
       "    <tr>\n",
       "      <th>819</th>\n",
       "      <td>820</td>\n",
       "      <td>0</td>\n",
       "    </tr>\n",
       "    <tr>\n",
       "      <th>736</th>\n",
       "      <td>737</td>\n",
       "      <td>0</td>\n",
       "    </tr>\n",
       "    <tr>\n",
       "      <th>...</th>\n",
       "      <td>...</td>\n",
       "      <td>...</td>\n",
       "    </tr>\n",
       "    <tr>\n",
       "      <th>494</th>\n",
       "      <td>495</td>\n",
       "      <td>0</td>\n",
       "    </tr>\n",
       "    <tr>\n",
       "      <th>871</th>\n",
       "      <td>872</td>\n",
       "      <td>1</td>\n",
       "    </tr>\n",
       "    <tr>\n",
       "      <th>530</th>\n",
       "      <td>531</td>\n",
       "      <td>1</td>\n",
       "    </tr>\n",
       "    <tr>\n",
       "      <th>157</th>\n",
       "      <td>158</td>\n",
       "      <td>0</td>\n",
       "    </tr>\n",
       "    <tr>\n",
       "      <th>45</th>\n",
       "      <td>46</td>\n",
       "      <td>0</td>\n",
       "    </tr>\n",
       "  </tbody>\n",
       "</table>\n",
       "<p>179 rows × 2 columns</p>\n",
       "</div>"
      ],
      "text/plain": [
       "     PassengerId  Survived\n",
       "210          211         0\n",
       "876          877         0\n",
       "666          667         0\n",
       "819          820         0\n",
       "736          737         0\n",
       "..           ...       ...\n",
       "494          495         0\n",
       "871          872         1\n",
       "530          531         1\n",
       "157          158         0\n",
       "45            46         0\n",
       "\n",
       "[179 rows x 2 columns]"
      ]
     },
     "execution_count": 145,
     "metadata": {},
     "output_type": "execute_result"
    }
   ],
   "source": [
    "output = pd.DataFrame({'PassengerId': X_test.PassengerId, 'Survived':pred})\n",
    "output"
   ]
  },
  {
   "cell_type": "code",
   "execution_count": 226,
   "id": "9306f19c",
   "metadata": {},
   "outputs": [
    {
     "data": {
      "text/plain": [
       "((614, 9), (154, 9), (614, 2), (154, 2))"
      ]
     },
     "execution_count": 226,
     "metadata": {},
     "output_type": "execute_result"
    }
   ],
   "source": [
    "import pandas as pd\n",
    "import numpy as np\n",
    "from sklearn.model_selection import train_test_split\n",
    "\n",
    "def exam_data_load(df, target, id_name=\"\", null_name=\"\"):\n",
    "    if id_name == \"\":\n",
    "        df = df.reset_index().rename(columns={\"index\": \"id\"})\n",
    "        id_name = 'id'\n",
    "    else:\n",
    "        id_name = id_name\n",
    "    \n",
    "    if null_name != \"\":\n",
    "        df[df == null_name] = np.nan\n",
    "    \n",
    "    X_train, X_test = train_test_split(df, test_size=0.2, random_state=2021)\n",
    "    \n",
    "    y_train = X_train[[id_name, target]]\n",
    "    X_train = X_train.drop(columns=[target])\n",
    "\n",
    "    \n",
    "    y_test = X_test[[id_name, target]]\n",
    "    X_test = X_test.drop(columns=[target])\n",
    "    return X_train, X_test, y_train, y_test \n",
    "    \n",
    "df = pd.read_csv(\"C:/Users/SuperUser/Desktop/diabetes.csv\")\n",
    "X_train, X_test, y_train, y_test = exam_data_load(df, target='Outcome')\n",
    "\n",
    "X_train.shape, X_test.shape, y_train.shape, y_test.shape"
   ]
  },
  {
   "cell_type": "code",
   "execution_count": 227,
   "id": "7a9e17ef",
   "metadata": {},
   "outputs": [
    {
     "name": "stdout",
     "output_type": "stream",
     "text": [
      "<class 'pandas.core.frame.DataFrame'>\n",
      "Int64Index: 614 entries, 147 to 116\n",
      "Data columns (total 9 columns):\n",
      " #   Column                    Non-Null Count  Dtype  \n",
      "---  ------                    --------------  -----  \n",
      " 0   id                        614 non-null    int64  \n",
      " 1   Pregnancies               614 non-null    int64  \n",
      " 2   Glucose                   614 non-null    int64  \n",
      " 3   BloodPressure             614 non-null    int64  \n",
      " 4   SkinThickness             614 non-null    int64  \n",
      " 5   Insulin                   614 non-null    int64  \n",
      " 6   BMI                       614 non-null    float64\n",
      " 7   DiabetesPedigreeFunction  614 non-null    float64\n",
      " 8   Age                       614 non-null    int64  \n",
      "dtypes: float64(2), int64(7)\n",
      "memory usage: 48.0 KB\n"
     ]
    }
   ],
   "source": [
    "X_train.info()"
   ]
  },
  {
   "cell_type": "code",
   "execution_count": 228,
   "id": "2ee95cde",
   "metadata": {},
   "outputs": [
    {
     "name": "stdout",
     "output_type": "stream",
     "text": [
      "<class 'pandas.core.frame.DataFrame'>\n",
      "Int64Index: 154 entries, 258 to 174\n",
      "Data columns (total 9 columns):\n",
      " #   Column                    Non-Null Count  Dtype  \n",
      "---  ------                    --------------  -----  \n",
      " 0   id                        154 non-null    int64  \n",
      " 1   Pregnancies               154 non-null    int64  \n",
      " 2   Glucose                   154 non-null    int64  \n",
      " 3   BloodPressure             154 non-null    int64  \n",
      " 4   SkinThickness             154 non-null    int64  \n",
      " 5   Insulin                   154 non-null    int64  \n",
      " 6   BMI                       154 non-null    float64\n",
      " 7   DiabetesPedigreeFunction  154 non-null    float64\n",
      " 8   Age                       154 non-null    int64  \n",
      "dtypes: float64(2), int64(7)\n",
      "memory usage: 12.0 KB\n"
     ]
    }
   ],
   "source": [
    "X_test.info()"
   ]
  },
  {
   "cell_type": "code",
   "execution_count": 229,
   "id": "ccc9e5b1",
   "metadata": {},
   "outputs": [
    {
     "data": {
      "text/html": [
       "<div>\n",
       "<style scoped>\n",
       "    .dataframe tbody tr th:only-of-type {\n",
       "        vertical-align: middle;\n",
       "    }\n",
       "\n",
       "    .dataframe tbody tr th {\n",
       "        vertical-align: top;\n",
       "    }\n",
       "\n",
       "    .dataframe thead th {\n",
       "        text-align: right;\n",
       "    }\n",
       "</style>\n",
       "<table border=\"1\" class=\"dataframe\">\n",
       "  <thead>\n",
       "    <tr style=\"text-align: right;\">\n",
       "      <th></th>\n",
       "      <th>id</th>\n",
       "      <th>Pregnancies</th>\n",
       "      <th>Glucose</th>\n",
       "      <th>BloodPressure</th>\n",
       "      <th>SkinThickness</th>\n",
       "      <th>Insulin</th>\n",
       "      <th>BMI</th>\n",
       "      <th>DiabetesPedigreeFunction</th>\n",
       "      <th>Age</th>\n",
       "    </tr>\n",
       "  </thead>\n",
       "  <tbody>\n",
       "    <tr>\n",
       "      <th>count</th>\n",
       "      <td>614.000000</td>\n",
       "      <td>614.000000</td>\n",
       "      <td>614.000000</td>\n",
       "      <td>614.000000</td>\n",
       "      <td>614.000000</td>\n",
       "      <td>614.000000</td>\n",
       "      <td>614.000000</td>\n",
       "      <td>614.000000</td>\n",
       "      <td>614.000000</td>\n",
       "    </tr>\n",
       "    <tr>\n",
       "      <th>mean</th>\n",
       "      <td>386.978827</td>\n",
       "      <td>3.845277</td>\n",
       "      <td>120.705212</td>\n",
       "      <td>68.530945</td>\n",
       "      <td>20.982085</td>\n",
       "      <td>82.229642</td>\n",
       "      <td>31.948534</td>\n",
       "      <td>0.477471</td>\n",
       "      <td>33.319218</td>\n",
       "    </tr>\n",
       "    <tr>\n",
       "      <th>std</th>\n",
       "      <td>219.881344</td>\n",
       "      <td>3.388952</td>\n",
       "      <td>32.047977</td>\n",
       "      <td>19.761915</td>\n",
       "      <td>15.965031</td>\n",
       "      <td>116.525772</td>\n",
       "      <td>7.734385</td>\n",
       "      <td>0.339811</td>\n",
       "      <td>11.940953</td>\n",
       "    </tr>\n",
       "    <tr>\n",
       "      <th>min</th>\n",
       "      <td>0.000000</td>\n",
       "      <td>0.000000</td>\n",
       "      <td>0.000000</td>\n",
       "      <td>0.000000</td>\n",
       "      <td>0.000000</td>\n",
       "      <td>0.000000</td>\n",
       "      <td>0.000000</td>\n",
       "      <td>0.078000</td>\n",
       "      <td>21.000000</td>\n",
       "    </tr>\n",
       "    <tr>\n",
       "      <th>25%</th>\n",
       "      <td>196.500000</td>\n",
       "      <td>1.000000</td>\n",
       "      <td>99.000000</td>\n",
       "      <td>62.000000</td>\n",
       "      <td>0.000000</td>\n",
       "      <td>0.000000</td>\n",
       "      <td>27.400000</td>\n",
       "      <td>0.244250</td>\n",
       "      <td>24.000000</td>\n",
       "    </tr>\n",
       "    <tr>\n",
       "      <th>50%</th>\n",
       "      <td>388.000000</td>\n",
       "      <td>3.000000</td>\n",
       "      <td>117.000000</td>\n",
       "      <td>72.000000</td>\n",
       "      <td>23.000000</td>\n",
       "      <td>44.000000</td>\n",
       "      <td>32.250000</td>\n",
       "      <td>0.377000</td>\n",
       "      <td>29.000000</td>\n",
       "    </tr>\n",
       "    <tr>\n",
       "      <th>75%</th>\n",
       "      <td>575.750000</td>\n",
       "      <td>6.000000</td>\n",
       "      <td>140.000000</td>\n",
       "      <td>80.000000</td>\n",
       "      <td>33.000000</td>\n",
       "      <td>130.000000</td>\n",
       "      <td>36.600000</td>\n",
       "      <td>0.628500</td>\n",
       "      <td>41.000000</td>\n",
       "    </tr>\n",
       "    <tr>\n",
       "      <th>max</th>\n",
       "      <td>766.000000</td>\n",
       "      <td>17.000000</td>\n",
       "      <td>199.000000</td>\n",
       "      <td>114.000000</td>\n",
       "      <td>99.000000</td>\n",
       "      <td>846.000000</td>\n",
       "      <td>59.400000</td>\n",
       "      <td>2.420000</td>\n",
       "      <td>81.000000</td>\n",
       "    </tr>\n",
       "  </tbody>\n",
       "</table>\n",
       "</div>"
      ],
      "text/plain": [
       "               id  Pregnancies     Glucose  BloodPressure  SkinThickness  \\\n",
       "count  614.000000   614.000000  614.000000     614.000000     614.000000   \n",
       "mean   386.978827     3.845277  120.705212      68.530945      20.982085   \n",
       "std    219.881344     3.388952   32.047977      19.761915      15.965031   \n",
       "min      0.000000     0.000000    0.000000       0.000000       0.000000   \n",
       "25%    196.500000     1.000000   99.000000      62.000000       0.000000   \n",
       "50%    388.000000     3.000000  117.000000      72.000000      23.000000   \n",
       "75%    575.750000     6.000000  140.000000      80.000000      33.000000   \n",
       "max    766.000000    17.000000  199.000000     114.000000      99.000000   \n",
       "\n",
       "          Insulin         BMI  DiabetesPedigreeFunction         Age  \n",
       "count  614.000000  614.000000                614.000000  614.000000  \n",
       "mean    82.229642   31.948534                  0.477471   33.319218  \n",
       "std    116.525772    7.734385                  0.339811   11.940953  \n",
       "min      0.000000    0.000000                  0.078000   21.000000  \n",
       "25%      0.000000   27.400000                  0.244250   24.000000  \n",
       "50%     44.000000   32.250000                  0.377000   29.000000  \n",
       "75%    130.000000   36.600000                  0.628500   41.000000  \n",
       "max    846.000000   59.400000                  2.420000   81.000000  "
      ]
     },
     "execution_count": 229,
     "metadata": {},
     "output_type": "execute_result"
    }
   ],
   "source": [
    "X_train.describe()"
   ]
  },
  {
   "cell_type": "code",
   "execution_count": 230,
   "id": "3370ef03",
   "metadata": {},
   "outputs": [],
   "source": [
    "col=['Glucose','BloodPressure','SkinThickness','Insulin','BMI']\n",
    "mean = X_train[col].mean()\n",
    "X_train[col] = X_train[col].replace(0,mean)"
   ]
  },
  {
   "cell_type": "code",
   "execution_count": 231,
   "id": "f346cf7e",
   "metadata": {},
   "outputs": [],
   "source": [
    "# from sklearn.preprocessing import StandardScaler\n",
    "# scale = StandardScaler()\n",
    "# col = ['Pregnancies','Glucose','BloodPressure','SkinThickness','Insulin','BMI','DiabetesPedigreeFunction','Age']\n",
    "# X_train[col] = scale.fit_transform(X_train[col])\n",
    "# X_test[col] = scale.fit_transform(X_test[col])"
   ]
  },
  {
   "cell_type": "code",
   "execution_count": 232,
   "id": "20eb4301",
   "metadata": {},
   "outputs": [],
   "source": [
    "from sklearn.preprocessing import RobustScaler\n",
    "\n",
    "scale = RobustScaler()\n",
    "col = ['Pregnancies','Glucose','BloodPressure','SkinThickness','Insulin','BMI','DiabetesPedigreeFunction','Age']\n",
    "X_train[col] = scale.fit_transform(X_train[col])\n",
    "X_test[col] = scale.fit_transform(X_test[col])"
   ]
  },
  {
   "cell_type": "code",
   "execution_count": 233,
   "id": "df5d4823",
   "metadata": {},
   "outputs": [],
   "source": [
    "y = y_train['Outcome']"
   ]
  },
  {
   "cell_type": "code",
   "execution_count": 234,
   "id": "3c41625a",
   "metadata": {},
   "outputs": [],
   "source": [
    "X = X_train.drop('id',axis=1)\n",
    "test = X_test.drop('id',axis =1)"
   ]
  },
  {
   "cell_type": "code",
   "execution_count": 235,
   "id": "80404982",
   "metadata": {},
   "outputs": [
    {
     "data": {
      "text/plain": [
       "0.8159609120521173"
      ]
     },
     "execution_count": 235,
     "metadata": {},
     "output_type": "execute_result"
    }
   ],
   "source": [
    "from sklearn.svm import SVC\n",
    "model = SVC()\n",
    "model.fit(X,y)\n",
    "pred = model.predict(test)\n",
    "model.score(X,y)"
   ]
  },
  {
   "cell_type": "code",
   "execution_count": 236,
   "id": "71571702",
   "metadata": {},
   "outputs": [
    {
     "data": {
      "text/html": [
       "<div>\n",
       "<style scoped>\n",
       "    .dataframe tbody tr th:only-of-type {\n",
       "        vertical-align: middle;\n",
       "    }\n",
       "\n",
       "    .dataframe tbody tr th {\n",
       "        vertical-align: top;\n",
       "    }\n",
       "\n",
       "    .dataframe thead th {\n",
       "        text-align: right;\n",
       "    }\n",
       "</style>\n",
       "<table border=\"1\" class=\"dataframe\">\n",
       "  <thead>\n",
       "    <tr style=\"text-align: right;\">\n",
       "      <th></th>\n",
       "      <th>idx</th>\n",
       "      <th>Outcome</th>\n",
       "    </tr>\n",
       "  </thead>\n",
       "  <tbody>\n",
       "    <tr>\n",
       "      <th>0</th>\n",
       "      <td>258</td>\n",
       "      <td>1</td>\n",
       "    </tr>\n",
       "    <tr>\n",
       "      <th>1</th>\n",
       "      <td>220</td>\n",
       "      <td>1</td>\n",
       "    </tr>\n",
       "    <tr>\n",
       "      <th>2</th>\n",
       "      <td>438</td>\n",
       "      <td>0</td>\n",
       "    </tr>\n",
       "    <tr>\n",
       "      <th>3</th>\n",
       "      <td>130</td>\n",
       "      <td>1</td>\n",
       "    </tr>\n",
       "    <tr>\n",
       "      <th>4</th>\n",
       "      <td>730</td>\n",
       "      <td>0</td>\n",
       "    </tr>\n",
       "  </tbody>\n",
       "</table>\n",
       "</div>"
      ],
      "text/plain": [
       "   idx  Outcome\n",
       "0  258        1\n",
       "1  220        1\n",
       "2  438        0\n",
       "3  130        1\n",
       "4  730        0"
      ]
     },
     "execution_count": 236,
     "metadata": {},
     "output_type": "execute_result"
    }
   ],
   "source": [
    "output = pd.DataFrame({'idx': X_test.index,'Outcome':pred})\n",
    "output.head()"
   ]
  },
  {
   "cell_type": "code",
   "execution_count": 237,
   "id": "ad772506",
   "metadata": {},
   "outputs": [
    {
     "data": {
      "text/plain": [
       "((26048, 15), (6513, 15), (26048, 2), (6513, 2))"
      ]
     },
     "execution_count": 237,
     "metadata": {},
     "output_type": "execute_result"
    }
   ],
   "source": [
    "import pandas as pd\n",
    "import numpy as np\n",
    "from sklearn.model_selection import train_test_split\n",
    "\n",
    "def exam_data_load(df, target, id_name=\"\", null_name=\"\"):\n",
    "    if id_name == \"\":\n",
    "        df = df.reset_index().rename(columns={\"index\": \"id\"})\n",
    "        id_name = 'id'\n",
    "    else:\n",
    "        id_name = id_name\n",
    "    \n",
    "    if null_name != \"\":\n",
    "        df[df == null_name] = np.nan\n",
    "    \n",
    "    X_train, X_test = train_test_split(df, test_size=0.2, random_state=2021)\n",
    "    \n",
    "    y_train = X_train[[id_name, target]]\n",
    "    X_train = X_train.drop(columns=[target])\n",
    "\n",
    "    \n",
    "    y_test = X_test[[id_name, target]]\n",
    "    X_test = X_test.drop(columns=[target])\n",
    "    return X_train, X_test, y_train, y_test \n",
    "    \n",
    "df = pd.read_csv(\"C:/Users/SuperUser/Desktop/adult.csv\")\n",
    "X_train, X_test, y_train, y_test = exam_data_load(df, target='income', null_name='?')\n",
    "\n",
    "X_train.shape, X_test.shape, y_train.shape, y_test.shape"
   ]
  },
  {
   "cell_type": "code",
   "execution_count": 238,
   "id": "1b3577a8",
   "metadata": {},
   "outputs": [
    {
     "name": "stdout",
     "output_type": "stream",
     "text": [
      "<class 'pandas.core.frame.DataFrame'>\n",
      "Int64Index: 26048 entries, 21851 to 25716\n",
      "Data columns (total 15 columns):\n",
      " #   Column          Non-Null Count  Dtype \n",
      "---  ------          --------------  ----- \n",
      " 0   id              26048 non-null  int64 \n",
      " 1   age             26048 non-null  int64 \n",
      " 2   workclass       24592 non-null  object\n",
      " 3   fnlwgt          26048 non-null  int64 \n",
      " 4   education       26048 non-null  object\n",
      " 5   education.num   26048 non-null  int64 \n",
      " 6   marital.status  26048 non-null  object\n",
      " 7   occupation      24585 non-null  object\n",
      " 8   relationship    26048 non-null  object\n",
      " 9   race            26048 non-null  object\n",
      " 10  sex             26048 non-null  object\n",
      " 11  capital.gain    26048 non-null  int64 \n",
      " 12  capital.loss    26048 non-null  int64 \n",
      " 13  hours.per.week  26048 non-null  int64 \n",
      " 14  native.country  25587 non-null  object\n",
      "dtypes: int64(7), object(8)\n",
      "memory usage: 3.2+ MB\n"
     ]
    }
   ],
   "source": [
    "X_train.info()"
   ]
  },
  {
   "cell_type": "code",
   "execution_count": 239,
   "id": "4bdba01b",
   "metadata": {},
   "outputs": [],
   "source": [
    "numeric_features = [\n",
    "                    'age',\n",
    "                    'fnlwgt', \n",
    "                    'education.num',\n",
    "                    'capital.gain', \n",
    "                    'capital.loss', \n",
    "                    'hours.per.week',                     \n",
    "                   ]\n",
    "\n",
    "cat_features = [\n",
    "                 'workclass',              \n",
    "                 'education',            \n",
    "                 'marital.status', \n",
    "                 'occupation', \n",
    "                 'relationship', \n",
    "                 'race', \n",
    "                 'sex',\n",
    "                 'native.country'\n",
    "]\n",
    "y =(y_train['income'] !='<=50K').astype(int)"
   ]
  },
  {
   "cell_type": "code",
   "execution_count": 240,
   "id": "11e3a0c5",
   "metadata": {},
   "outputs": [],
   "source": [
    "from sklearn.preprocessing import LabelEncoder\n",
    "\n",
    "all_df = pd.concat([X_train.assign(ind=\"train\"),X_test.assign(ind=\"test\")])\n",
    "le = LabelEncoder()\n",
    "all_df[cat_features] = all_df[cat_features].apply(le.fit_transform)\n",
    "X_train = all_df[all_df['ind']=='train']\n",
    "X_train=X_train.drop('ind',axis=1)\n",
    "X_test = all_df[all_df['ind']=='test']\n",
    "X_test =X_test.drop('ind',axis=1)\n",
    "\n"
   ]
  },
  {
   "cell_type": "code",
   "execution_count": 241,
   "id": "e55de1a4",
   "metadata": {},
   "outputs": [
    {
     "data": {
      "text/plain": [
       "((22140, 15), (3908, 15), (22140,), (3908,))"
      ]
     },
     "execution_count": 241,
     "metadata": {},
     "output_type": "execute_result"
    }
   ],
   "source": [
    "from sklearn.model_selection import train_test_split\n",
    "X_tr,X_te,y_tr,y_te = train_test_split(X_train,y,test_size=0.15,random_state=2022)\n",
    "X_tr.shape,X_te.shape,y_tr.shape,y_te.shape"
   ]
  },
  {
   "cell_type": "code",
   "execution_count": 242,
   "id": "86a6962c",
   "metadata": {},
   "outputs": [],
   "source": [
    "X_tr = X_tr.drop('id',axis=1)\n",
    "X_te = X_te.drop('id',axis=1)"
   ]
  },
  {
   "cell_type": "code",
   "execution_count": 243,
   "id": "bf6d60b1",
   "metadata": {},
   "outputs": [],
   "source": [
    "from sklearn.ensemble import RandomForestClassifier\n",
    "from sklearn.metrics import accuracy_score\n",
    "\n",
    "model = RandomForestClassifier(max_depth=7, n_estimators=200, random_state=2022)\n",
    "model.fit(X_tr,y_tr)\n",
    "pred = model.predict(X_te)\n",
    "score = accuracy_score(y_te,pred)"
   ]
  },
  {
   "cell_type": "code",
   "execution_count": 244,
   "id": "084b3c50",
   "metadata": {},
   "outputs": [
    {
     "data": {
      "text/plain": [
       "0.8554247697031729"
      ]
     },
     "execution_count": 244,
     "metadata": {},
     "output_type": "execute_result"
    }
   ],
   "source": [
    "score"
   ]
  },
  {
   "cell_type": "code",
   "execution_count": 245,
   "id": "ab678f15",
   "metadata": {},
   "outputs": [],
   "source": [
    "X_test_id = X_test.pop('id')\n",
    "pred = model.predict(X_test)"
   ]
  },
  {
   "cell_type": "code",
   "execution_count": 246,
   "id": "567d7c28",
   "metadata": {},
   "outputs": [
    {
     "data": {
      "text/html": [
       "<div>\n",
       "<style scoped>\n",
       "    .dataframe tbody tr th:only-of-type {\n",
       "        vertical-align: middle;\n",
       "    }\n",
       "\n",
       "    .dataframe tbody tr th {\n",
       "        vertical-align: top;\n",
       "    }\n",
       "\n",
       "    .dataframe thead th {\n",
       "        text-align: right;\n",
       "    }\n",
       "</style>\n",
       "<table border=\"1\" class=\"dataframe\">\n",
       "  <thead>\n",
       "    <tr style=\"text-align: right;\">\n",
       "      <th></th>\n",
       "      <th>id</th>\n",
       "      <th>income</th>\n",
       "    </tr>\n",
       "  </thead>\n",
       "  <tbody>\n",
       "    <tr>\n",
       "      <th>20901</th>\n",
       "      <td>20901</td>\n",
       "      <td>0</td>\n",
       "    </tr>\n",
       "    <tr>\n",
       "      <th>14170</th>\n",
       "      <td>14170</td>\n",
       "      <td>0</td>\n",
       "    </tr>\n",
       "    <tr>\n",
       "      <th>1776</th>\n",
       "      <td>1776</td>\n",
       "      <td>1</td>\n",
       "    </tr>\n",
       "    <tr>\n",
       "      <th>30428</th>\n",
       "      <td>30428</td>\n",
       "      <td>0</td>\n",
       "    </tr>\n",
       "    <tr>\n",
       "      <th>8602</th>\n",
       "      <td>8602</td>\n",
       "      <td>0</td>\n",
       "    </tr>\n",
       "  </tbody>\n",
       "</table>\n",
       "</div>"
      ],
      "text/plain": [
       "          id  income\n",
       "20901  20901       0\n",
       "14170  14170       0\n",
       "1776    1776       1\n",
       "30428  30428       0\n",
       "8602    8602       0"
      ]
     },
     "execution_count": 246,
     "metadata": {},
     "output_type": "execute_result"
    }
   ],
   "source": [
    "output=pd.DataFrame({'id':X_test_id,'income':pred})\n",
    "output.head()"
   ]
  },
  {
   "cell_type": "code",
   "execution_count": null,
   "id": "0f516006",
   "metadata": {},
   "outputs": [],
   "source": []
  }
 ],
 "metadata": {
  "kernelspec": {
   "display_name": "Python 3 (ipykernel)",
   "language": "python",
   "name": "python3"
  },
  "language_info": {
   "codemirror_mode": {
    "name": "ipython",
    "version": 3
   },
   "file_extension": ".py",
   "mimetype": "text/x-python",
   "name": "python",
   "nbconvert_exporter": "python",
   "pygments_lexer": "ipython3",
   "version": "3.9.12"
  }
 },
 "nbformat": 4,
 "nbformat_minor": 5
}
