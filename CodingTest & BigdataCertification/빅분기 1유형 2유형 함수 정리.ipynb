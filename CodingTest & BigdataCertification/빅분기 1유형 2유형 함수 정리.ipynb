{
 "cells": [
  {
   "cell_type": "markdown",
   "id": "6877ef8f",
   "metadata": {},
   "source": [
    "# 호출 라이브러리"
   ]
  },
  {
   "cell_type": "code",
   "execution_count": 10,
   "id": "337219f4",
   "metadata": {},
   "outputs": [
    {
     "name": "stdout",
     "output_type": "stream",
     "text": [
      "['F_onewayBadInputSizesWarning', 'F_onewayConstantInputWarning', 'NumericalInverseHermite', 'PearsonRConstantInputWarning', 'PearsonRNearConstantInputWarning', 'SpearmanRConstantInputWarning', 'alexandergovern', 'alpha', 'anderson', 'anderson_ksamp', 'anglit', 'ansari', 'arcsine', 'argus', 'barnard_exact', 'bartlett', 'bayes_mvs', 'bernoulli', 'beta', 'betabinom', 'betaprime', 'biasedurn', 'binned_statistic', 'binned_statistic_2d', 'binned_statistic_dd', 'binom', 'binom_test', 'binomtest', 'boltzmann', 'bootstrap', 'boschloo_exact', 'boxcox', 'boxcox_llf', 'boxcox_normmax', 'boxcox_normplot', 'bradford', 'brunnermunzel', 'burr', 'burr12', 'cauchy', 'chi', 'chi2', 'chi2_contingency', 'chisquare', 'circmean', 'circstd', 'circvar', 'combine_pvalues', 'contingency', 'cosine', 'cramervonmises', 'cramervonmises_2samp', 'crystalball', 'cumfreq', 'describe', 'dgamma', 'differential_entropy', 'dirichlet', 'distributions', 'dlaplace', 'dweibull', 'energy_distance', 'entropy', 'epps_singleton_2samp', 'erlang', 'expon', 'exponnorm', 'exponpow', 'exponweib', 'f', 'f_oneway', 'fatiguelife', 'find_repeats', 'fisher_exact', 'fisk', 'fligner', 'foldcauchy', 'foldnorm', 'friedmanchisquare', 'gamma', 'gausshyper', 'gaussian_kde', 'genexpon', 'genextreme', 'gengamma', 'genhalflogistic', 'genhyperbolic', 'geninvgauss', 'genlogistic', 'gennorm', 'genpareto', 'geom', 'gilbrat', 'gmean', 'gompertz', 'gstd', 'gumbel_l', 'gumbel_r', 'halfcauchy', 'halfgennorm', 'halflogistic', 'halfnorm', 'hmean', 'hypergeom', 'hypsecant', 'invgamma', 'invgauss', 'invweibull', 'invwishart', 'iqr', 'itemfreq', 'jarque_bera', 'johnsonsb', 'johnsonsu', 'kappa3', 'kappa4', 'kde', 'kendalltau', 'kruskal', 'ks_1samp', 'ks_2samp', 'ksone', 'kstat', 'kstatvar', 'kstest', 'kstwo', 'kstwobign', 'kurtosis', 'kurtosistest', 'laplace', 'laplace_asymmetric', 'levene', 'levy', 'levy_l', 'levy_stable', 'linregress', 'loggamma', 'logistic', 'loglaplace', 'lognorm', 'logser', 'loguniform', 'lomax', 'mannwhitneyu', 'matrix_normal', 'maxwell', 'median_abs_deviation', 'median_absolute_deviation', 'median_test', 'mielke', 'mode', 'moment', 'mood', 'morestats', 'moyal', 'mstats', 'mstats_basic', 'mstats_extras', 'multinomial', 'multiscale_graphcorr', 'multivariate_hypergeom', 'multivariate_normal', 'multivariate_t', 'mvn', 'mvsdist', 'nakagami', 'nbinom', 'ncf', 'nchypergeom_fisher', 'nchypergeom_wallenius', 'nct', 'ncx2', 'nhypergeom', 'norm', 'normaltest', 'norminvgauss', 'obrientransform', 'ortho_group', 'page_trend_test', 'pareto', 'pearson3', 'pearsonr', 'percentileofscore', 'planck', 'pointbiserialr', 'poisson', 'power_divergence', 'powerlaw', 'powerlognorm', 'powernorm', 'ppcc_max', 'ppcc_plot', 'probplot', 'qmc', 'randint', 'random_correlation', 'rankdata', 'ranksums', 'rayleigh', 'rdist', 'recipinvgauss', 'reciprocal', 'relfreq', 'rice', 'rv_continuous', 'rv_discrete', 'rv_histogram', 'rvs_ratio_uniforms', 'scoreatpercentile', 'sem', 'semicircular', 'shapiro', 'siegelslopes', 'sigmaclip', 'skellam', 'skew', 'skewcauchy', 'skewnorm', 'skewtest', 'somersd', 'spearmanr', 'special_ortho_group', 'statlib', 'stats', 'studentized_range', 't', 'theilslopes', 'tiecorrect', 'tmax', 'tmean', 'tmin', 'trapezoid', 'trapz', 'triang', 'trim1', 'trim_mean', 'trimboth', 'truncexpon', 'truncnorm', 'tsem', 'tstd', 'ttest_1samp', 'ttest_ind', 'ttest_ind_from_stats', 'ttest_rel', 'tukeylambda', 'tvar', 'uniform', 'unitary_group', 'variation', 'vonmises', 'vonmises_line', 'wald', 'wasserstein_distance', 'weibull_max', 'weibull_min', 'weightedtau', 'wilcoxon', 'wishart', 'wrapcauchy', 'yeojohnson', 'yeojohnson_llf', 'yeojohnson_normmax', 'yeojohnson_normplot', 'yulesimon', 'zipf', 'zipfian', 'zmap', 'zscore']\n"
     ]
    }
   ],
   "source": [
    "# 라이브러리\n",
    "\n",
    "import pandas as pd\n",
    "import numpy as np\n",
    "from scipy.stats import shapiro\n",
    "\n",
    "print(scipy.stats.__all__)\n",
    "# Scaling\n",
    "from sklearn.preprocessing import RobustScaler, StandardScaler, MinMaxScaler, LabelEncoder\n",
    "\n",
    "# train_test_split\n",
    "from sklearn.model_selection import train_test_split\n",
    "\n",
    "# Classifier Model\n",
    "from sklearn.ensemble import RandomForestClassifier\n",
    "from sklearn.tree import DecisionTreeClassifier\n",
    "from xgboost import XGBClassifier\n",
    "from sklearn.svm import SVC\n",
    "from sklearn.linear_model import LogisticRegression\n",
    "\n",
    "# Regressor model\n",
    "from sklearn.ensemble import RandomForestRegressor\n",
    "from sklearn.tree import DecisionTreeRegressor\n",
    "from xgboost import XGBRegressor\n",
    "from sklearn.svm import SVR\n",
    "from sklearn.linear_model import LinearRegression"
   ]
  },
  {
   "cell_type": "markdown",
   "id": "d3914a4f",
   "metadata": {},
   "source": [
    "# 전처리 유용한 함수"
   ]
  },
  {
   "cell_type": "code",
   "execution_count": null,
   "id": "1d0d5db1",
   "metadata": {},
   "outputs": [],
   "source": [
    "# 연령별로 나눌 시\n",
    "\n",
    "data['age']//10*10 \n",
    "\n",
    "# value 값 인덱스로 접근하기\n",
    "data.value[0]\n",
    "\n",
    "# index값 접근\n",
    "data.index[0]\n",
    "\n",
    "# 소문자 변환\n",
    "\n",
    "data.str.lower()\n",
    "\n",
    "#문자 포함 여부\n",
    "data[].str.contains(~)\n",
    "\n",
    "# unique 및 nunique\n",
    "\n",
    "data['col1'].unique() - > col1의 중복없이 value 값 출력\n",
    "data['col1'].nunique() -> col1의 중복없이 value 값 갯수 출력\n",
    "\n",
    "# 만약 작엽형 2에서 col에 따른데이터의 종류가 다를 시 concat 해주기\n",
    "\n",
    "df = pd.concat([train, test])\n",
    "\n",
    "# 이후 다시 train, test셋 나누기\n",
    "\n",
    "train = df[:train.shape[0]].copy()\n",
    "test = df[train.shape[0]:].copy()\n",
    "\n",
    "# .diff함수\n",
    "\n",
    "data.diff() -->앞에 행 - 뒤에 행\n",
    "data.diff(axis=1) -->왼쪽 열 - 오른쪽 열\n",
    "\n",
    "# 오림 내림 버림\n",
    "np.ceil() 올림\n",
    "np.floor() 내림\n",
    "np.trunc() 버림\n",
    "\n",
    "\n",
    "결측치 확인하기 - data.isnull().sum()\n",
    "data.shape[0] - 전체 행의 개수 / data.shape[1] - 전체 열의 개수\n",
    "data.drop(컬럼명, axis=1) - 데이터 삭제\n",
    "axis=1 : 컬럼을 기준\n",
    "axis=0 : 행을 기준\n",
    "data['컬럼'].unique - 해당 컬럼의 유일 값 반환\n",
    "map() 함수 : 해당 컬럼에 지정값 삽입\n",
    "    \n",
    "    \n",
    "왜도 - data['column'].skew()\n",
    "첨도 - data['column'].kurt()\n",
    "변수 변환 하는 법\n",
    "np.log : 로그변환\n",
    "np.exp : 지수변환\n",
    "np.log1p : log(x+1) 값 변환\n",
    "    \n",
    "df.dropna(): 결측치 제거\n",
    "subset=[col1,col2] : 해당하는 column에서 결측치 제거\n",
    "df.groupby().sum() : 조건에 해당하는 컬럼을 집계해서 group\n",
    "    \n",
    "data.replace('a','b') : a를 b로 변경\n",
    "    \n",
    "data['col1'].pd.to_datetime() : datetime형식으로 변환\n",
    "data['col1'].dt.year/month/day : datetime 형식인 col1 값을 year/month/day 별로 구분\n",
    "    \n",
    "data['Date'].dt.dayofweek : 5,6==> 토,일/ 나머지는 평일\n",
    "data.apply(lambda x : x>=5.1.0) : x>=5이상이면 True, 아니면 False\n",
    "\n",
    "data.resample('W').sum() : 주 단위로 합계처리\n",
    "단위 : W-> 주 / 2W -> 2주 / M -> 월\n",
    "    \n",
    "data.cumsum() : 누적합 계산\n",
    "data.fillna(0) : 결측치를 0으로 대체\n",
    "data.fillna(method 옵션) : ffill=> 앞에 값으로 대체, bfill=> 뒤에 값으로 대체\n",
    "    \n",
    "pd.set_option('display.max_columns',none)"
   ]
  }
 ],
 "metadata": {
  "kernelspec": {
   "display_name": "Python 3 (ipykernel)",
   "language": "python",
   "name": "python3"
  },
  "language_info": {
   "codemirror_mode": {
    "name": "ipython",
    "version": 3
   },
   "file_extension": ".py",
   "mimetype": "text/x-python",
   "name": "python",
   "nbconvert_exporter": "python",
   "pygments_lexer": "ipython3",
   "version": "3.9.12"
  }
 },
 "nbformat": 4,
 "nbformat_minor": 5
}
